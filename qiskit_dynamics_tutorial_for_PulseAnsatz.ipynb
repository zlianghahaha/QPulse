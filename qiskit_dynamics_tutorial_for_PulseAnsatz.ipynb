{
  "nbformat": 4,
  "nbformat_minor": 0,
  "metadata": {
    "colab": {
      "provenance": []
    },
    "kernelspec": {
      "name": "python3",
      "display_name": "Python 3"
    },
    "language_info": {
      "name": "python"
    }
  },
  "cells": [
    {
      "cell_type": "code",
      "execution_count": 1,
      "metadata": {
        "id": "brjggDvAH8MZ",
        "colab": {
          "base_uri": "https://localhost:8080/"
        },
        "outputId": "cf5a1fa7-f69b-4552-fc03-c181d71810e3"
      },
      "outputs": [
        {
          "output_type": "stream",
          "name": "stdout",
          "text": [
            "Collecting qiskit\n",
            "  Downloading qiskit-0.44.1-py3-none-any.whl (8.2 kB)\n",
            "Collecting qiskit-terra==0.25.1 (from qiskit)\n",
            "  Downloading qiskit_terra-0.25.1-cp38-abi3-manylinux_2_17_x86_64.manylinux2014_x86_64.whl (6.1 MB)\n",
            "\u001b[2K     \u001b[90m━━━━━━━━━━━━━━━━━━━━━━━━━━━━━━━━━━━━━━━━\u001b[0m \u001b[32m6.1/6.1 MB\u001b[0m \u001b[31m14.0 MB/s\u001b[0m eta \u001b[36m0:00:00\u001b[0m\n",
            "\u001b[?25hCollecting rustworkx>=0.13.0 (from qiskit-terra==0.25.1->qiskit)\n",
            "  Downloading rustworkx-0.13.2-cp310-cp310-manylinux_2_17_x86_64.manylinux2014_x86_64.whl (2.0 MB)\n",
            "\u001b[2K     \u001b[90m━━━━━━━━━━━━━━━━━━━━━━━━━━━━━━━━━━━━━━━━\u001b[0m \u001b[32m2.0/2.0 MB\u001b[0m \u001b[31m17.4 MB/s\u001b[0m eta \u001b[36m0:00:00\u001b[0m\n",
            "\u001b[?25hRequirement already satisfied: numpy>=1.17 in /usr/local/lib/python3.10/dist-packages (from qiskit-terra==0.25.1->qiskit) (1.23.5)\n",
            "Collecting ply>=3.10 (from qiskit-terra==0.25.1->qiskit)\n",
            "  Downloading ply-3.11-py2.py3-none-any.whl (49 kB)\n",
            "\u001b[2K     \u001b[90m━━━━━━━━━━━━━━━━━━━━━━━━━━━━━━━━━━━━━━━━\u001b[0m \u001b[32m49.6/49.6 kB\u001b[0m \u001b[31m3.2 MB/s\u001b[0m eta \u001b[36m0:00:00\u001b[0m\n",
            "\u001b[?25hRequirement already satisfied: psutil>=5 in /usr/local/lib/python3.10/dist-packages (from qiskit-terra==0.25.1->qiskit) (5.9.5)\n",
            "Requirement already satisfied: scipy>=1.5 in /usr/local/lib/python3.10/dist-packages (from qiskit-terra==0.25.1->qiskit) (1.11.3)\n",
            "Requirement already satisfied: sympy>=1.3 in /usr/local/lib/python3.10/dist-packages (from qiskit-terra==0.25.1->qiskit) (1.12)\n",
            "Collecting dill>=0.3 (from qiskit-terra==0.25.1->qiskit)\n",
            "  Downloading dill-0.3.7-py3-none-any.whl (115 kB)\n",
            "\u001b[2K     \u001b[90m━━━━━━━━━━━━━━━━━━━━━━━━━━━━━━━━━━━━━━\u001b[0m \u001b[32m115.3/115.3 kB\u001b[0m \u001b[31m13.5 MB/s\u001b[0m eta \u001b[36m0:00:00\u001b[0m\n",
            "\u001b[?25hRequirement already satisfied: python-dateutil>=2.8.0 in /usr/local/lib/python3.10/dist-packages (from qiskit-terra==0.25.1->qiskit) (2.8.2)\n",
            "Collecting stevedore>=3.0.0 (from qiskit-terra==0.25.1->qiskit)\n",
            "  Downloading stevedore-5.1.0-py3-none-any.whl (49 kB)\n",
            "\u001b[2K     \u001b[90m━━━━━━━━━━━━━━━━━━━━━━━━━━━━━━━━━━━━━━━━\u001b[0m \u001b[32m49.6/49.6 kB\u001b[0m \u001b[31m5.3 MB/s\u001b[0m eta \u001b[36m0:00:00\u001b[0m\n",
            "\u001b[?25hCollecting symengine<0.10,>=0.9 (from qiskit-terra==0.25.1->qiskit)\n",
            "  Downloading symengine-0.9.2-cp310-cp310-manylinux2010_x86_64.whl (37.5 MB)\n",
            "\u001b[2K     \u001b[90m━━━━━━━━━━━━━━━━━━━━━━━━━━━━━━━━━━━━━━━━\u001b[0m \u001b[32m37.5/37.5 MB\u001b[0m \u001b[31m14.0 MB/s\u001b[0m eta \u001b[36m0:00:00\u001b[0m\n",
            "\u001b[?25hRequirement already satisfied: typing-extensions in /usr/local/lib/python3.10/dist-packages (from qiskit-terra==0.25.1->qiskit) (4.5.0)\n",
            "Requirement already satisfied: six>=1.5 in /usr/local/lib/python3.10/dist-packages (from python-dateutil>=2.8.0->qiskit-terra==0.25.1->qiskit) (1.16.0)\n",
            "Collecting pbr!=2.1.0,>=2.0.0 (from stevedore>=3.0.0->qiskit-terra==0.25.1->qiskit)\n",
            "  Downloading pbr-5.11.1-py2.py3-none-any.whl (112 kB)\n",
            "\u001b[2K     \u001b[90m━━━━━━━━━━━━━━━━━━━━━━━━━━━━━━━━━━━━━━\u001b[0m \u001b[32m112.7/112.7 kB\u001b[0m \u001b[31m11.8 MB/s\u001b[0m eta \u001b[36m0:00:00\u001b[0m\n",
            "\u001b[?25hRequirement already satisfied: mpmath>=0.19 in /usr/local/lib/python3.10/dist-packages (from sympy>=1.3->qiskit-terra==0.25.1->qiskit) (1.3.0)\n",
            "Installing collected packages: ply, symengine, rustworkx, pbr, dill, stevedore, qiskit-terra, qiskit\n",
            "Successfully installed dill-0.3.7 pbr-5.11.1 ply-3.11 qiskit-0.44.1 qiskit-terra-0.25.1 rustworkx-0.13.2 stevedore-5.1.0 symengine-0.9.2\n",
            "Collecting qiskit_dynamics\n",
            "  Downloading qiskit_dynamics-0.4.2-py3-none-any.whl (187 kB)\n",
            "\u001b[2K     \u001b[90m━━━━━━━━━━━━━━━━━━━━━━━━━━━━━━━━━━━━━━━\u001b[0m \u001b[32m187.7/187.7 kB\u001b[0m \u001b[31m3.6 MB/s\u001b[0m eta \u001b[36m0:00:00\u001b[0m\n",
            "\u001b[?25hRequirement already satisfied: numpy>=1.17 in /usr/local/lib/python3.10/dist-packages (from qiskit_dynamics) (1.23.5)\n",
            "Requirement already satisfied: scipy>=1.4 in /usr/local/lib/python3.10/dist-packages (from qiskit_dynamics) (1.11.3)\n",
            "Requirement already satisfied: matplotlib>=3.0 in /usr/local/lib/python3.10/dist-packages (from qiskit_dynamics) (3.7.1)\n",
            "Requirement already satisfied: qiskit-terra>=0.23.0 in /usr/local/lib/python3.10/dist-packages (from qiskit_dynamics) (0.25.1)\n",
            "Collecting multiset>=3.0.1 (from qiskit_dynamics)\n",
            "  Downloading multiset-3.0.1-py2.py3-none-any.whl (9.6 kB)\n",
            "Requirement already satisfied: sympy>=1.12 in /usr/local/lib/python3.10/dist-packages (from qiskit_dynamics) (1.12)\n",
            "Requirement already satisfied: contourpy>=1.0.1 in /usr/local/lib/python3.10/dist-packages (from matplotlib>=3.0->qiskit_dynamics) (1.1.1)\n",
            "Requirement already satisfied: cycler>=0.10 in /usr/local/lib/python3.10/dist-packages (from matplotlib>=3.0->qiskit_dynamics) (0.12.0)\n",
            "Requirement already satisfied: fonttools>=4.22.0 in /usr/local/lib/python3.10/dist-packages (from matplotlib>=3.0->qiskit_dynamics) (4.43.0)\n",
            "Requirement already satisfied: kiwisolver>=1.0.1 in /usr/local/lib/python3.10/dist-packages (from matplotlib>=3.0->qiskit_dynamics) (1.4.5)\n",
            "Requirement already satisfied: packaging>=20.0 in /usr/local/lib/python3.10/dist-packages (from matplotlib>=3.0->qiskit_dynamics) (23.1)\n",
            "Requirement already satisfied: pillow>=6.2.0 in /usr/local/lib/python3.10/dist-packages (from matplotlib>=3.0->qiskit_dynamics) (9.4.0)\n",
            "Requirement already satisfied: pyparsing>=2.3.1 in /usr/local/lib/python3.10/dist-packages (from matplotlib>=3.0->qiskit_dynamics) (3.1.1)\n",
            "Requirement already satisfied: python-dateutil>=2.7 in /usr/local/lib/python3.10/dist-packages (from matplotlib>=3.0->qiskit_dynamics) (2.8.2)\n",
            "Requirement already satisfied: rustworkx>=0.13.0 in /usr/local/lib/python3.10/dist-packages (from qiskit-terra>=0.23.0->qiskit_dynamics) (0.13.2)\n",
            "Requirement already satisfied: ply>=3.10 in /usr/local/lib/python3.10/dist-packages (from qiskit-terra>=0.23.0->qiskit_dynamics) (3.11)\n",
            "Requirement already satisfied: psutil>=5 in /usr/local/lib/python3.10/dist-packages (from qiskit-terra>=0.23.0->qiskit_dynamics) (5.9.5)\n",
            "Requirement already satisfied: dill>=0.3 in /usr/local/lib/python3.10/dist-packages (from qiskit-terra>=0.23.0->qiskit_dynamics) (0.3.7)\n",
            "Requirement already satisfied: stevedore>=3.0.0 in /usr/local/lib/python3.10/dist-packages (from qiskit-terra>=0.23.0->qiskit_dynamics) (5.1.0)\n",
            "Requirement already satisfied: symengine<0.10,>=0.9 in /usr/local/lib/python3.10/dist-packages (from qiskit-terra>=0.23.0->qiskit_dynamics) (0.9.2)\n",
            "Requirement already satisfied: typing-extensions in /usr/local/lib/python3.10/dist-packages (from qiskit-terra>=0.23.0->qiskit_dynamics) (4.5.0)\n",
            "Requirement already satisfied: mpmath>=0.19 in /usr/local/lib/python3.10/dist-packages (from sympy>=1.12->qiskit_dynamics) (1.3.0)\n",
            "Requirement already satisfied: six>=1.5 in /usr/local/lib/python3.10/dist-packages (from python-dateutil>=2.7->matplotlib>=3.0->qiskit_dynamics) (1.16.0)\n",
            "Requirement already satisfied: pbr!=2.1.0,>=2.0.0 in /usr/local/lib/python3.10/dist-packages (from stevedore>=3.0.0->qiskit-terra>=0.23.0->qiskit_dynamics) (5.11.1)\n",
            "Installing collected packages: multiset, qiskit_dynamics\n",
            "Successfully installed multiset-3.0.1 qiskit_dynamics-0.4.2\n",
            "Collecting qiskit-nature[pyscf]\n",
            "  Downloading qiskit_nature-0.6.2-py3-none-any.whl (4.1 MB)\n",
            "\u001b[2K     \u001b[90m━━━━━━━━━━━━━━━━━━━━━━━━━━━━━━━━━━━━━━━━\u001b[0m \u001b[32m4.1/4.1 MB\u001b[0m \u001b[31m33.0 MB/s\u001b[0m eta \u001b[36m0:00:00\u001b[0m\n",
            "\u001b[?25hRequirement already satisfied: qiskit-terra>=0.24 in /usr/local/lib/python3.10/dist-packages (from qiskit-nature[pyscf]) (0.25.1)\n",
            "Requirement already satisfied: scipy>=1.4 in /usr/local/lib/python3.10/dist-packages (from qiskit-nature[pyscf]) (1.11.3)\n",
            "Requirement already satisfied: numpy>=1.17 in /usr/local/lib/python3.10/dist-packages (from qiskit-nature[pyscf]) (1.23.5)\n",
            "Requirement already satisfied: psutil>=5 in /usr/local/lib/python3.10/dist-packages (from qiskit-nature[pyscf]) (5.9.5)\n",
            "Requirement already satisfied: scikit-learn>=0.20.0 in /usr/local/lib/python3.10/dist-packages (from qiskit-nature[pyscf]) (1.2.2)\n",
            "Requirement already satisfied: setuptools>=40.1.0 in /usr/local/lib/python3.10/dist-packages (from qiskit-nature[pyscf]) (67.7.2)\n",
            "Requirement already satisfied: typing-extensions in /usr/local/lib/python3.10/dist-packages (from qiskit-nature[pyscf]) (4.5.0)\n",
            "Requirement already satisfied: h5py in /usr/local/lib/python3.10/dist-packages (from qiskit-nature[pyscf]) (3.9.0)\n",
            "Requirement already satisfied: rustworkx in /usr/local/lib/python3.10/dist-packages (from qiskit-nature[pyscf]) (0.13.2)\n",
            "Collecting pyscf (from qiskit-nature[pyscf])\n",
            "  Downloading pyscf-2.3.0-cp310-cp310-manylinux_2_17_x86_64.manylinux2014_x86_64.whl (47.2 MB)\n",
            "\u001b[2K     \u001b[90m━━━━━━━━━━━━━━━━━━━━━━━━━━━━━━━━━━━━━━━━\u001b[0m \u001b[32m47.2/47.2 MB\u001b[0m \u001b[31m10.7 MB/s\u001b[0m eta \u001b[36m0:00:00\u001b[0m\n",
            "\u001b[?25hRequirement already satisfied: ply>=3.10 in /usr/local/lib/python3.10/dist-packages (from qiskit-terra>=0.24->qiskit-nature[pyscf]) (3.11)\n",
            "Requirement already satisfied: sympy>=1.3 in /usr/local/lib/python3.10/dist-packages (from qiskit-terra>=0.24->qiskit-nature[pyscf]) (1.12)\n",
            "Requirement already satisfied: dill>=0.3 in /usr/local/lib/python3.10/dist-packages (from qiskit-terra>=0.24->qiskit-nature[pyscf]) (0.3.7)\n",
            "Requirement already satisfied: python-dateutil>=2.8.0 in /usr/local/lib/python3.10/dist-packages (from qiskit-terra>=0.24->qiskit-nature[pyscf]) (2.8.2)\n",
            "Requirement already satisfied: stevedore>=3.0.0 in /usr/local/lib/python3.10/dist-packages (from qiskit-terra>=0.24->qiskit-nature[pyscf]) (5.1.0)\n",
            "Requirement already satisfied: symengine<0.10,>=0.9 in /usr/local/lib/python3.10/dist-packages (from qiskit-terra>=0.24->qiskit-nature[pyscf]) (0.9.2)\n",
            "Requirement already satisfied: joblib>=1.1.1 in /usr/local/lib/python3.10/dist-packages (from scikit-learn>=0.20.0->qiskit-nature[pyscf]) (1.3.2)\n",
            "Requirement already satisfied: threadpoolctl>=2.0.0 in /usr/local/lib/python3.10/dist-packages (from scikit-learn>=0.20.0->qiskit-nature[pyscf]) (3.2.0)\n",
            "Requirement already satisfied: six>=1.5 in /usr/local/lib/python3.10/dist-packages (from python-dateutil>=2.8.0->qiskit-terra>=0.24->qiskit-nature[pyscf]) (1.16.0)\n",
            "Requirement already satisfied: pbr!=2.1.0,>=2.0.0 in /usr/local/lib/python3.10/dist-packages (from stevedore>=3.0.0->qiskit-terra>=0.24->qiskit-nature[pyscf]) (5.11.1)\n",
            "Requirement already satisfied: mpmath>=0.19 in /usr/local/lib/python3.10/dist-packages (from sympy>=1.3->qiskit-terra>=0.24->qiskit-nature[pyscf]) (1.3.0)\n",
            "Installing collected packages: pyscf, qiskit-nature\n",
            "Successfully installed pyscf-2.3.0 qiskit-nature-0.6.2\n",
            "Requirement already satisfied: pyscf in /usr/local/lib/python3.10/dist-packages (2.3.0)\n",
            "Requirement already satisfied: numpy!=1.16,!=1.17,>=1.13 in /usr/local/lib/python3.10/dist-packages (from pyscf) (1.23.5)\n",
            "Requirement already satisfied: scipy!=1.5.0,!=1.5.1 in /usr/local/lib/python3.10/dist-packages (from pyscf) (1.11.3)\n",
            "Requirement already satisfied: h5py>=2.7 in /usr/local/lib/python3.10/dist-packages (from pyscf) (3.9.0)\n"
          ]
        }
      ],
      "source": [
        "!pip install qiskit\n",
        "!pip install qiskit_dynamics\n",
        "!pip install qiskit-nature[pyscf] -U\n",
        "!pip install pyscf"
      ]
    },
    {
      "cell_type": "markdown",
      "source": [
        "Quantum computers execute gate operations by deploying electromagnetic pulses at the hardware level. Differentiable Pulse Programming allows for the direct authoring of quantum algorithms at this foundational level. By variationally optimizing the shape, phase, and amplitude of the interactions, specific goals can be more precisely and effectively achieved. This meticulous control and adjustment of pulses can lead to a substantial improvement in algorithm performance and efficiency. Within the Qiskit framework, utilizing a pulse ansatz offers significant advantages over a gate ansatz. The pulse ansatz provides a higher degree of freedom and flexibility by allowing direct manipulation and optimization of the pulses. This heightened control translates into more efficient and noise-resilient quantum computations, offering a distinct advantage in addressing complex quantum algorithms and problems.\n",
        "\n",
        "In this tutorial we give an example that how to use the Qiskit Dynamics to implement a parameterized pulse ansatz to solve a VQE task. In particular, we demonstrate how to build up the parameterized pulse circuit on a DynamicsBackend to simulate pulse schedules, circuits whose gates have pulse definitions, and calibration and characterization experiments from Qiskit Experiments."
      ],
      "metadata": {
        "id": "PzaY9z5WRGBt"
      }
    },
    {
      "cell_type": "markdown",
      "source": [
        "# 1. Setup the DynamicBackend"
      ],
      "metadata": {
        "id": "oDS1Ih70PHFd"
      }
    },
    {
      "cell_type": "markdown",
      "source": [
        "Note that we can import the backend configuration from a real machine to the DynamicsBackend, and we could use JAX to accelearate the simualtion progress, seethe User Guide entry on using JAX with Dynamics for more information."
      ],
      "metadata": {
        "id": "TDhzlEpMQOss"
      }
    },
    {
      "cell_type": "code",
      "source": [
        "from qiskit_dynamics import Solver, DynamicsBackend\n",
        "from qiskit_dynamics.backend import default_experiment_result_function\n",
        "from qiskit_dynamics.array import Array\n",
        "import jax\n",
        "from qiskit.providers.fake_provider import *"
      ],
      "metadata": {
        "id": "kzlKnpVmMZf0",
        "colab": {
          "base_uri": "https://localhost:8080/"
        },
        "outputId": "f64dcca4-74c2-44bb-dcbd-67e5bfb4d1c4"
      },
      "execution_count": 2,
      "outputs": [
        {
          "output_type": "stream",
          "name": "stderr",
          "text": [
            "/usr/local/lib/python3.10/dist-packages/qiskit_dynamics/dispatch/backends/jax.py:34: UserWarning: The functionality in the perturbation module of Qiskit Dynamics requires a JAX version <= 0.4.6, due to a bug in JAX versions > 0.4.6. For versions 0.4.4, 0.4.5, and 0.4.6, using the perturbation module functionality requires setting os.environ['JAX_JIT_PJIT_API_MERGE'] = '0' before importing JAX or Dynamics.\n",
            "  warnings.warn(\n"
          ]
        }
      ]
    },
    {
      "cell_type": "code",
      "source": [
        "from qiskit_dynamics import Solver, DynamicsBackend\n",
        "from qiskit_dynamics.backend import default_experiment_result_function\n",
        "from qiskit_dynamics.array import Array\n",
        "import jax\n",
        "from qiskit.providers.fake_provider import *\n",
        "\n",
        "gate_backend = FakeManila()\n",
        "gate_backend.configuration().hamiltonian['qub'] = {'0': 2,'1': 2,'2': 2,'3': 2,'4': 2}\n",
        "jax.config.update(\"jax_enable_x64\", True)\n",
        "jax.config.update(\"jax_platform_name\", \"cpu\")\n",
        "Array.set_default_backend(\"jax\")\n",
        "pulse_backend = DynamicsBackend.from_backend(gate_backend, evaluation_mode=\"sparse\")\n",
        "solver_options = {\"method\": \"jax_odeint\", \"atol\": 1e-6, \"rtol\": 1e-8}\n",
        "pulse_backend.set_options(solver_options=solver_options)\n",
        "pulse_backend.configuration = lambda: gate_backend.configuration()"
      ],
      "metadata": {
        "id": "URVwEUNJJuGF"
      },
      "execution_count": 3,
      "outputs": []
    },
    {
      "cell_type": "code",
      "source": [
        "from qiskit import QuantumCircuit, pulse\n",
        "from qiskit_dynamics.backend import DynamicsBackend\n",
        "\n",
        "qc_test = QuantumCircuit(2)\n",
        "qc_test.h(0)\n",
        "qc_test.cx(0,1)\n",
        "qc_test.measure_all()\n",
        "with pulse.build(gate_backend) as pulse_test:\n",
        "  pulse.call(qc_test)\n",
        "\n",
        "pulse_test.draw()"
      ],
      "metadata": {
        "colab": {
          "base_uri": "https://localhost:8080/",
          "height": 983
        },
        "id": "WbOajuAsIsrr",
        "outputId": "375f52b4-32d6-4d79-8b1f-97076b9346a1"
      },
      "execution_count": 4,
      "outputs": [
        {
          "output_type": "execute_result",
          "data": {
            "text/plain": [
              "<Figure size 1300x1131.89 with 1 Axes>"
            ],
            "image/png": "[encoded data removed]"
          },
          "metadata": {},
          "execution_count": 4
        }
      ]
    },
    {
      "cell_type": "code",
      "source": [
        "results = pulse_backend.run(pulse_test).result()\n",
        "counts = results.get_counts()"
      ],
      "metadata": {
        "id": "60fbSCQMFpWy"
      },
      "execution_count": 5,
      "outputs": []
    },
    {
      "cell_type": "code",
      "source": [
        "print(counts)"
      ],
      "metadata": {
        "colab": {
          "base_uri": "https://localhost:8080/"
        },
        "id": "f-wKJP70Fy8x",
        "outputId": "407cf836-8c93-4291-da52-598e1664330c"
      },
      "execution_count": 6,
      "outputs": [
        {
          "output_type": "stream",
          "name": "stdout",
          "text": [
            "{'00': 151, '01': 196, '10': 144, '11': 533}\n"
          ]
        }
      ]
    },
    {
      "cell_type": "markdown",
      "source": [
        "# Variational quantum eigensolver with pulse ansatz\n"
      ],
      "metadata": {
        "id": "iSL2MfAceugO"
      }
    },
    {
      "cell_type": "markdown",
      "source": [
        "We now harness the capacity to execute the Variational Quantum Eigensolver (VQE) at the pulse level. For a comprehensive introduction to VQE, refer to 'A Brief Overview of VQE'. Initially, we outline the molecular Hamiltonian whose energy expectation value is to be minimized. This functions as our objective Hamiltonian. In this context, we employ H2 as a basic example for demonstration purposes."
      ],
      "metadata": {
        "id": "_uYFhwrYeQjo"
      }
    },
    {
      "cell_type": "code",
      "source": [
        "from qiskit_nature.units import DistanceUnit\n",
        "from qiskit_nature.second_q.drivers import PySCFDriver\n",
        "from qiskit_nature.second_q.mappers import JordanWignerMapper,ParityMapper,QubitConverter\n",
        "import numpy as np\n",
        "ultra_simplified_ala_string = \"\"\"\n",
        "H 0.0 0.0 0.0\n",
        "H 0.0 0.0 0.735\n",
        "\"\"\"\n",
        "\n",
        "driver = PySCFDriver(\n",
        "    atom=ultra_simplified_ala_string.strip(),\n",
        "    basis='sto3g',\n",
        "    charge=0,\n",
        "    spin=0,\n",
        "    unit=DistanceUnit.ANGSTROM\n",
        ")\n",
        "qmolecule = driver.run()"
      ],
      "metadata": {
        "colab": {
          "base_uri": "https://localhost:8080/"
        },
        "id": "aRA3-H1FR9Ga",
        "outputId": "d3c72ad7-e574-4ad0-fbe4-e91e209b9285"
      },
      "execution_count": null,
      "outputs": [
        {
          "output_type": "stream",
          "name": "stderr",
          "text": [
            "/usr/local/lib/python3.10/dist-packages/pyscf/dft/libxc.py:772: UserWarning: Since PySCF-2.3, B3LYP (and B3P86) are changed to the VWN-RPA variant, the same to the B3LYP functional in Gaussian and ORCA (issue 1480). To restore the VWN5 definition, you can put the setting \"B3LYP_WITH_VWN5 = True\" in pyscf_conf.py\n",
            "  warnings.warn('Since PySCF-2.3, B3LYP (and B3P86) are changed to the VWN-RPA variant, '\n"
          ]
        }
      ]
    },
    {
      "cell_type": "code",
      "source": [
        "hamiltonian = qmolecule.hamiltonian\n",
        "coefficients = hamiltonian.electronic_integrals\n",
        "second_q_op = hamiltonian.second_q_op()\n",
        "mapper = ParityMapper()\n",
        "converter = QubitConverter(mapper=mapper, two_qubit_reduction=True)\n",
        "qubit_op = converter.convert(second_q_op)\n",
        "print(qubit_op)\n",
        "dict = {}\n",
        "for pauli_op in qubit_op.to_pauli_op().oplist:\n",
        "        str_info = pauli_op.__str__()\n",
        "        dict[str_info[-4:]] = float(str_info[0:-6])"
      ],
      "metadata": {
        "colab": {
          "base_uri": "https://localhost:8080/"
        },
        "id": "uRidLQhSqAeh",
        "outputId": "1d359112-e10d-4fcd-fd3b-b78661bbe75c"
      },
      "execution_count": null,
      "outputs": [
        {
          "output_type": "stream",
          "name": "stdout",
          "text": [
            "-0.8105479805373275 * IIII\n",
            "+ 0.1721839326191556 * IIIZ\n",
            "- 0.2257534922240239 * IIZZ\n",
            "+ 0.17218393261915554 * IZZI\n",
            "- 0.2257534922240239 * ZZII\n",
            "+ 0.12091263261776629 * IIZI\n",
            "+ 0.16892753870087907 * IZZZ\n",
            "+ 0.04523279994605784 * ZXIX\n",
            "- 0.04523279994605784 * IXZX\n",
            "- 0.04523279994605784 * ZXZX\n",
            "+ 0.04523279994605784 * IXIX\n",
            "+ 0.16614543256382414 * ZZIZ\n",
            "+ 0.16614543256382414 * IZIZ\n",
            "+ 0.17464343068300445 * ZZZZ\n",
            "+ 0.12091263261776629 * ZIZI\n"
          ]
        },
        {
          "output_type": "stream",
          "name": "stderr",
          "text": [
            "<ipython-input-9-1a3f3beef9f3>:5: DeprecationWarning: The QubitConverter class is deprecated as of version 0.6.0 and will be removed no sooner than 3 months after the release . Instead you should directly use the QubitMapper instance which you used to pass into the QubitConverter as the first argument. Refer to the documentation of the qiskit_nature.second_q.mappers module for more information.\n",
            "  converter = QubitConverter(mapper=mapper, two_qubit_reduction=True)\n",
            "/usr/local/lib/python3.10/dist-packages/qiskit_nature/deprecation.py:297: PauliSumOpDeprecationWarning: PauliSumOp is deprecated as of version 0.6.0 and support for them will be removed no sooner than 3 months after the release. Instead, use SparsePauliOp. You can switch to SparsePauliOp immediately, by setting `qiskit_nature.settings.use_pauli_sum_op` to `False`.\n",
            "  return func(*args, **kwargs)\n"
          ]
        }
      ]
    },
    {
      "cell_type": "markdown",
      "source": [
        "We adopt the native pulse as our basis pulses to establish the pulse circuit, since native pulses are well calibrated, we can safely use and modify the pulse shape with minimum energy leakage."
      ],
      "metadata": {
        "id": "C-Q_0YLh29di"
      }
    },
    {
      "cell_type": "code",
      "source": [
        "from qiskit.pulse import Schedule, GaussianSquare, Drag, Delay, Play, ControlChannel, DriveChannel\n",
        "\n",
        "def drag_pulse(backend, amp, angle):\n",
        "  backend_defaults = backend.defaults()\n",
        "  inst_sched_map = backend_defaults.instruction_schedule_map\n",
        "  x_pulse = inst_sched_map.get('x', (0)).filter(channels = [DriveChannel(0)], instruction_types=[Play]).instructions[0][1].pulse\n",
        "  duration_parameter = x_pulse.parameters['duration']\n",
        "  sigma_parameter = x_pulse.parameters['sigma']\n",
        "  beta_parameter = x_pulse.parameters['beta']\n",
        "  pulse1 = Drag(duration=duration_parameter, sigma=sigma_parameter, beta=beta_parameter, amp=amp, angle=angle)\n",
        "  return pulse1\n",
        "\n",
        "def cr_pulse(backend, amp, angle, duration):\n",
        "  backend_defaults = backend.defaults()\n",
        "  inst_sched_map = backend_defaults.instruction_schedule_map\n",
        "  cr_pulse = inst_sched_map.get('cx', (0, 1)).filter(channels = [ControlChannel(0)], instruction_types=[Play]).instructions[0][1].pulse\n",
        "  cr_params = {}\n",
        "  cr_params['duration'] = cr_pulse.parameters['duration']\n",
        "  cr_params['amp'] = cr_pulse.parameters['amp']\n",
        "  cr_params['angle'] = cr_pulse.parameters['angle']\n",
        "  cr_params['sigma'] = cr_pulse.parameters['sigma']\n",
        "  cr_params['width'] = cr_pulse.parameters['width']\n",
        "  cr_risefall = (cr_params['duration'] - cr_params['width']) / (2 * cr_params['sigma'])\n",
        "  angle_parameter = angle\n",
        "  duration_parameter =  duration\n",
        "  sigma_parameter = cr_pulse.parameters['sigma']\n",
        "  width_parameter = int(duration_parameter - 2 * cr_risefall * cr_params['sigma'])\n",
        "  #declare pulse parameters and build GaussianSquare pulse\n",
        "  pulse1 = GaussianSquare(duration = duration_parameter, amp = amp, angle = angle_parameter, sigma = sigma_parameter, width=width_parameter)\n",
        "  return pulse1"
      ],
      "metadata": {
        "id": "rmbhjphErv5e"
      },
      "execution_count": null,
      "outputs": []
    },
    {
      "cell_type": "markdown",
      "source": [
        "HE_pulse is inspired by hardware efficient ansatz on gate level, you can replace it with any custom pulse circuit."
      ],
      "metadata": {
        "id": "22HJyjkY3OPb"
      }
    },
    {
      "cell_type": "code",
      "source": [
        "def HE_pulse(backend, amp, angle, width):\n",
        "    with pulse.build(backend) as my_program1:\n",
        "      # layer 1\n",
        "      sched_list = []\n",
        "      with pulse.build(backend) as sched1:\n",
        "          qubits = (0,1,2,3)\n",
        "          for i in range(4):\n",
        "              pulse.play(drag_pulse(backend, amp[i], angle[i]), DriveChannel(qubits[i]))\n",
        "      sched_list.append(sched1)\n",
        "\n",
        "      with pulse.build(backend) as sched2:\n",
        "          uchan = pulse.control_channels(0, 1)[0]\n",
        "          pulse.play(cr_pulse(backend,amp[4], angle[4], width[0]), uchan)\n",
        "      sched_list.append(sched2)\n",
        "\n",
        "\n",
        "      with pulse.build(backend) as sched4:\n",
        "          uchan = pulse.control_channels(1, 2)[0]\n",
        "          pulse.play(cr_pulse(backend, amp[5], angle[5], width[1]), uchan)\n",
        "      sched_list.append(sched4)\n",
        "\n",
        "      with pulse.build(backend) as sched6:\n",
        "          uchan = pulse.control_channels(2,3)[0]\n",
        "          pulse.play(cr_pulse(backend, amp[6],angle[6], width[2]), uchan)\n",
        "      sched_list.append(sched6)\n",
        "\n",
        "\n",
        "      with pulse.build(backend) as my_program:\n",
        "        with pulse.transpiler_settings(initial_layout= [0,1,2,3]):\n",
        "          with pulse.align_sequential():\n",
        "              for sched in sched_list:\n",
        "                  pulse.call(sched)\n",
        "\n",
        "    return my_program"
      ],
      "metadata": {
        "id": "FxdKV-sbzTS4"
      },
      "execution_count": null,
      "outputs": []
    },
    {
      "cell_type": "markdown",
      "source": [
        "Here we build the observable for pulse-level VQE, you can do the calibration for X, Y observble for more accurate result by conduct calibration experiemnt via ibm-experiment, but since we do VQE on pulse level, the under-rotation or over-rotation should be migitated during the pulse tuning process."
      ],
      "metadata": {
        "id": "FdP4VSdr5LaH"
      }
    },
    {
      "cell_type": "code",
      "source": [
        "import copy\n",
        "from scipy.optimize import minimize, LinearConstraint\n",
        "\n",
        "def measurement_pauli(prepulse, pauli_string, backend, n_qubit):\n",
        "    with pulse.build(backend) as pulse_measure:\n",
        "        pulse.call(copy.deepcopy(prepulse))\n",
        "        for ind,pauli in enumerate(pauli_string):\n",
        "            if(pauli=='X'):\n",
        "                pulse.u2(0, np.pi, ind)\n",
        "            if(pauli=='Y'):\n",
        "                pulse.u2(0, np.pi/2, ind)\n",
        "        for qubit in range(n_qubit):\n",
        "            pulse.barrier(qubit)\n",
        "        pulse.measure(range(n_qubit))\n",
        "    return pulse_measure\n",
        "\n",
        "def n_one(bitstring, key):\n",
        "    results = 0\n",
        "    for ind,b in enumerate(reversed(bitstring)):\n",
        "        if((b=='1')&(key[ind]!='I')):\n",
        "            results+=1\n",
        "    return results\n",
        "\n",
        "def expectation_value(counts,shots,key):\n",
        "    results = 0\n",
        "    for bitstring in counts:\n",
        "        if(n_one(bitstring, key)%2==1):\n",
        "            results -= counts[bitstring]/shots\n",
        "        else:\n",
        "            results += counts[bitstring]/shots\n",
        "    return results\n",
        "\n",
        "def run_pulse_sim(meas_pulse, key, pulse_backend, backend, n_shot):\n",
        "    results = pulse_backend.run(meas_pulse).result()\n",
        "    counts = results.get_counts()\n",
        "    expectation = expectation_value(counts,n_shot,key)\n",
        "    return expectation\n",
        "\n",
        "def gen_LC_vqe(parameters):\n",
        "    lb = np.zeros(parameters)\n",
        "    ub = np.ones(parameters)\n",
        "    LC = (LinearConstraint(np.eye(parameters),lb,ub,keep_feasible=False))\n",
        "    return LC"
      ],
      "metadata": {
        "id": "b9CsUHGQ3xhi"
      },
      "execution_count": null,
      "outputs": []
    },
    {
      "cell_type": "code",
      "source": [
        "def vqe_one(prepulse,n_qubit,n_shot,pulse_backend, backend,key,value):\n",
        "    all_Is = True\n",
        "    for key_ele in key:\n",
        "        if(key_ele!='I'):\n",
        "            all_Is = False\n",
        "    if(all_Is):\n",
        "        return value\n",
        "    meas_pulse = measurement_pauli(prepulse=prepulse, pauli_string=key, backend=backend, n_qubit=n_qubit)\n",
        "    return value*run_pulse_sim(meas_pulse, key, pulse_backend, backend, n_shot)"
      ],
      "metadata": {
        "id": "1MjE0Cem5aEA"
      },
      "execution_count": null,
      "outputs": []
    },
    {
      "cell_type": "markdown",
      "source": [
        "Here we determine the main fuction of pulse level VQE. And we import the multiprocessing as a option to accelerate the VQE solving process."
      ],
      "metadata": {
        "id": "Xxh8zYku7qVm"
      }
    },
    {
      "cell_type": "code",
      "source": [
        "def vqe(params,pauli_dict,pulse_backend, backend,n_qubit,n_shot):\n",
        "    print(\"params in def chemistry in vqe.py: \", params)\n",
        "    # assert(len(params)%2==0)\n",
        "    width_len = int(len(params)-1*(n_qubit-1))\n",
        "    split_ind = int(width_len/2)\n",
        "    amp = np.array(params[:split_ind])\n",
        "    angle = np.array(params[split_ind:width_len])*np.pi*2\n",
        "    width_1 = (np.array(params[width_len:]))\n",
        "    num_items = (1024 - 256) // 16 + 1\n",
        "    width_norm = (width_1 - 256) / (1024 - 256)\n",
        "    width_norm = np.clip(width_norm, 0, 1)\n",
        "    width = (np.round(width_norm * (num_items - 1)) * 16 + 256).astype(int)\n",
        "    amp = amp.tolist()\n",
        "    angle = angle.tolist()\n",
        "    width = width.tolist()\n",
        "    keys = [key for key in pauli_dict]\n",
        "    values = [pauli_dict[key] for key in pauli_dict]\n",
        "    expect_values = []\n",
        "\n",
        "    for key, value in zip(keys, values):\n",
        "        prepulse = HE_pulse(backend, amp, angle, width)\n",
        "        expect = vqe_one(prepulse, n_qubit, n_shot, pulse_backend, backend, key, value)\n",
        "        expect_values.append(expect)\n",
        "    print(\"E for cur_iter: \",sum(expect_values))\n",
        "    return sum(expect_values)"
      ],
      "metadata": {
        "id": "ffGZYtM55a4Z"
      },
      "execution_count": null,
      "outputs": []
    },
    {
      "cell_type": "code",
      "source": [
        "n_qubit = 4\n",
        "parameters = 17\n",
        "params = np.zeros(parameters)\n",
        "LC = gen_LC_vqe(parameters)\n",
        "n_shot = 1024\n",
        "optimizer = 'COBYLA'\n",
        "vqe_res = minimize(vqe,params,args=(dict,pulse_backend, gate_backend,n_qubit, n_shot),method=optimizer,\n",
        "                    constraints=LC,options={'rhobeg':0.2,'maxiter':70,'disp':True})\n",
        "print(dict)\n",
        "print('The optimized loss func value: {}'.format(vqe_res.fun))"
      ],
      "metadata": {
        "colab": {
          "base_uri": "https://localhost:8080/"
        },
        "id": "ZVZuXfx_8CVl",
        "outputId": "3998ac01-3e9e-45d4-9d8a-c99e87a1f295"
      },
      "execution_count": null,
      "outputs": [
        {
          "output_type": "stream",
          "name": "stdout",
          "text": [
            "params in def chemistry in vqe.py:  [0. 0. 0. 0. 0. 0. 0. 0. 0. 0. 0. 0. 0. 0. 0. 0. 0.]\n",
            "E for cur_iter:  2.914335439641036e-16\n",
            "params in def chemistry in vqe.py:  [0.2 0.  0.  0.  0.  0.  0.  0.  0.  0.  0.  0.  0.  0.  0.  0.  0. ]\n",
            "E for cur_iter:  -0.43764938014591714\n",
            "params in def chemistry in vqe.py:  [0.2 0.2 0.  0.  0.  0.  0.  0.  0.  0.  0.  0.  0.  0.  0.  0.  0. ]\n",
            "E for cur_iter:  -1.1679111213863476\n",
            "params in def chemistry in vqe.py:  [0.2 0.2 0.2 0.  0.  0.  0.  0.  0.  0.  0.  0.  0.  0.  0.  0.  0. ]\n",
            "E for cur_iter:  -0.49210948106514457\n",
            "params in def chemistry in vqe.py:  [0.2 0.2 0.  0.2 0.  0.  0.  0.  0.  0.  0.  0.  0.  0.  0.  0.  0. ]\n",
            "E for cur_iter:  -1.0430627755586552\n",
            "params in def chemistry in vqe.py:  [0.2 0.2 0.  0.  0.2 0.  0.  0.  0.  0.  0.  0.  0.  0.  0.  0.  0. ]\n",
            "E for cur_iter:  -1.1717534137810937\n",
            "params in def chemistry in vqe.py:  [0.2 0.2 0.  0.  0.2 0.2 0.  0.  0.  0.  0.  0.  0.  0.  0.  0.  0. ]\n",
            "E for cur_iter:  -1.1365941045910424\n",
            "params in def chemistry in vqe.py:  [0.2 0.2 0.  0.  0.2 0.  0.2 0.  0.  0.  0.  0.  0.  0.  0.  0.  0. ]\n",
            "E for cur_iter:  -1.1603593242487535\n",
            "params in def chemistry in vqe.py:  [0.2 0.2 0.  0.  0.2 0.  0.  0.2 0.  0.  0.  0.  0.  0.  0.  0.  0. ]\n",
            "E for cur_iter:  -1.1618455476321832\n",
            "params in def chemistry in vqe.py:  [0.2 0.2 0.  0.  0.2 0.  0.  0.  0.2 0.  0.  0.  0.  0.  0.  0.  0. ]\n",
            "E for cur_iter:  -1.1761754620423157\n",
            "params in def chemistry in vqe.py:  [0.2 0.2 0.  0.  0.2 0.  0.  0.  0.2 0.2 0.  0.  0.  0.  0.  0.  0. ]\n",
            "E for cur_iter:  -1.162621551276109\n",
            "params in def chemistry in vqe.py:  [0.2 0.2 0.  0.  0.2 0.  0.  0.  0.2 0.  0.2 0.  0.  0.  0.  0.  0. ]\n",
            "E for cur_iter:  -1.177402209158626\n",
            "params in def chemistry in vqe.py:  [0.2 0.2 0.  0.  0.2 0.  0.  0.  0.2 0.  0.2 0.2 0.  0.  0.  0.  0. ]\n",
            "E for cur_iter:  -1.1714856718804816\n",
            "params in def chemistry in vqe.py:  [0.2 0.2 0.  0.  0.2 0.  0.  0.  0.2 0.  0.2 0.  0.2 0.  0.  0.  0. ]\n",
            "E for cur_iter:  -1.172647163292925\n",
            "params in def chemistry in vqe.py:  [0.2 0.2 0.  0.  0.2 0.  0.  0.  0.2 0.  0.2 0.  0.  0.2 0.  0.  0. ]\n",
            "E for cur_iter:  -1.1593079922970926\n",
            "params in def chemistry in vqe.py:  [0.2 0.2 0.  0.  0.2 0.  0.  0.  0.2 0.  0.2 0.  0.  0.  0.2 0.  0. ]\n",
            "E for cur_iter:  -1.1693746271796477\n",
            "params in def chemistry in vqe.py:  [0.2 0.2 0.  0.  0.2 0.  0.  0.  0.2 0.  0.2 0.  0.  0.  0.  0.2 0. ]\n",
            "E for cur_iter:  -1.1738123558474962\n",
            "params in def chemistry in vqe.py:  [0.2 0.2 0.  0.  0.2 0.  0.  0.  0.2 0.  0.2 0.  0.  0.  0.  0.  0.2]\n",
            "E for cur_iter:  -1.1663257732307382\n",
            "params in def chemistry in vqe.py:  [ 3.02808906e-01  3.71546938e-01  2.19364520e-17  5.54769013e-18\n",
            "  2.00902599e-01  4.09616518e-19  3.46489098e-19 -6.27747900e-21\n",
            "  2.01038790e-01 -9.99606486e-19  2.00288177e-01  3.97989350e-19\n",
            " -1.37763249e-19  1.21224175e-18 -1.05566027e-19 -2.90765681e-19\n",
            "  0.00000000e+00]\n",
            "E for cur_iter:  -0.18164945606540955\n",
            "params in def chemistry in vqe.py:  [ 5.14953018e-03  2.45090552e-01 -1.60176260e-19  1.38763113e-18\n",
            "  2.00237245e-01  8.01672849e-19  0.00000000e+00 -1.79556914e-19\n",
            "  2.00273043e-01 -4.27198219e-19  2.00075746e-01  9.56242114e-20\n",
            " -3.62482823e-20  1.36314458e-19 -3.21917129e-20 -7.64268082e-20\n",
            "  8.67361738e-20]\n",
            "E for cur_iter:  -0.692562489256425\n",
            "params in def chemistry in vqe.py:  [ 2.15503865e-01  1.01210237e-01  0.00000000e+00  0.00000000e+00\n",
            "  2.00296202e-01 -2.12145969e-19  3.46851854e-19  8.67148138e-20\n",
            "  2.00340895e-01 -2.73899330e-19  2.00094570e-01  3.83074201e-20\n",
            " -8.44063062e-20  2.32140231e-19  2.49690854e-20  1.19737375e-19\n",
            " -3.46944695e-19]\n",
            "E for cur_iter:  -0.9597487973014166\n",
            "params in def chemistry in vqe.py:  [ 0.2   0.2  -0.05  0.    0.2   0.    0.    0.    0.2   0.    0.2   0.\n",
            "  0.    0.    0.    0.    0.  ]\n",
            "E for cur_iter:  -1.0551837349444528\n",
            "params in def chemistry in vqe.py:  [ 2.65014185e-01  2.56246115e-01  5.10797343e-02 -2.75955716e-18\n",
            "  2.00401460e-01  1.82230576e-19  1.72775453e-19  1.64709432e-20\n",
            "  2.00462035e-01 -2.71914575e-19  2.00128176e-01  1.28520616e-19\n",
            " -2.34540309e-19 -8.85541654e-19  2.05643340e-19 -8.59683006e-20\n",
            " -1.73472348e-19]\n",
            "E for cur_iter:  -0.6503476381488225\n",
            "params in def chemistry in vqe.py:  [ 2.00000000e-01  2.00000000e-01 -1.63319971e-36 -5.00000000e-02\n",
            "  2.00000000e-01  0.00000000e+00  0.00000000e+00  0.00000000e+00\n",
            "  2.00000000e-01  0.00000000e+00  2.00000000e-01  0.00000000e+00\n",
            "  0.00000000e+00  0.00000000e+00  0.00000000e+00  0.00000000e+00\n",
            "  0.00000000e+00]\n",
            "E for cur_iter:  -1.1359865863816765\n",
            "params in def chemistry in vqe.py:  [ 1.03014389e-01  2.05117098e-01  2.25626559e-02  7.64570539e-03\n",
            "  2.00177331e-01  3.46869101e-19  1.73173626e-19  2.73845935e-19\n",
            "  2.00204088e-01 -1.46043002e-19  2.00056617e-01 -1.52835349e-20\n",
            "  4.52340795e-20  2.43027825e-19 -4.60552803e-20 -3.87495277e-20\n",
            "  8.67361738e-20]\n",
            "E for cur_iter:  -1.102850680206776\n",
            "params in def chemistry in vqe.py:  [ 1.99977040e-01  2.00146303e-01 -5.24826934e-04 -1.39018281e-20\n",
            "  2.49997026e-01  0.00000000e+00  0.00000000e+00  0.00000000e+00\n",
            "  2.00000000e-01  0.00000000e+00  2.00000000e-01  0.00000000e+00\n",
            "  0.00000000e+00  0.00000000e+00  0.00000000e+00  0.00000000e+00\n",
            "  0.00000000e+00]\n",
            "E for cur_iter:  -1.1698513398607928\n",
            "params in def chemistry in vqe.py:  [ 1.42330441e-01  2.74684571e-01 -4.03403369e-20  3.14913022e-02\n",
            "  1.89803256e-01  3.82019784e-19 -6.78820646e-19 -6.86426484e-19\n",
            "  2.00840601e-01 -5.94614259e-19  2.00233196e-01  1.76728752e-19\n",
            "  5.23593353e-19  1.52117825e-18  9.52063604e-20 -2.16290767e-19\n",
            "  0.00000000e+00]\n",
            "E for cur_iter:  -0.6470698403415793\n",
            "params in def chemistry in vqe.py:  [ 2.00000000e-01  2.00000000e-01  2.33384028e-19  3.95905756e-36\n",
            "  2.00000000e-01 -5.00000000e-02  0.00000000e+00  0.00000000e+00\n",
            "  2.00000000e-01  0.00000000e+00  2.00000000e-01  0.00000000e+00\n",
            "  0.00000000e+00  0.00000000e+00  0.00000000e+00  0.00000000e+00\n",
            "  0.00000000e+00]\n",
            "E for cur_iter:  -1.1803237768490162\n",
            "params in def chemistry in vqe.py:  [ 1.50056697e-01  2.64678736e-01 -9.67654596e-20  2.72722677e-02\n",
            "  1.91169360e-01  6.93889390e-18 -5.87875924e-19 -5.94462773e-19\n",
            "  2.00727982e-01 -4.37155960e-19  2.00201954e-01  1.53051589e-19\n",
            "  4.53445145e-19  8.42229169e-19  8.24511267e-20 -1.87313299e-19\n",
            "  0.00000000e+00]\n",
            "E for cur_iter:  -0.7287768531862086\n",
            "params in def chemistry in vqe.py:  [ 2.00000000e-01  2.00000000e-01  8.39929772e-19  5.39669453e-36\n",
            "  2.00000000e-01 -5.00000000e-02 -5.00000000e-02  0.00000000e+00\n",
            "  2.00000000e-01  0.00000000e+00  2.00000000e-01  0.00000000e+00\n",
            "  0.00000000e+00  0.00000000e+00  0.00000000e+00  0.00000000e+00\n",
            "  0.00000000e+00]\n",
            "E for cur_iter:  -1.170413838391297\n",
            "params in def chemistry in vqe.py:  [ 1.99353746e-01  1.13994222e-01 -2.20147874e-19  9.69357934e-03\n",
            "  1.98219269e-01 -6.93889390e-18  2.31948159e-03 -7.87169413e-20\n",
            "  2.00258752e-01  1.08253445e-19  2.00071782e-01  1.17239365e-19\n",
            " -1.12555991e-19 -6.52986533e-19  6.49245998e-20  2.84889470e-20\n",
            " -1.50231460e-19]\n",
            "E for cur_iter:  -1.070000583767769\n",
            "params in def chemistry in vqe.py:  [ 2.00000000e-01  2.00000000e-01 -6.22794664e-19 -2.05659732e-35\n",
            "  2.00000000e-01 -5.00000000e-02 -1.03631874e-35 -5.00000000e-02\n",
            "  2.00000000e-01  0.00000000e+00  2.00000000e-01  0.00000000e+00\n",
            "  0.00000000e+00  0.00000000e+00  0.00000000e+00  0.00000000e+00\n",
            "  0.00000000e+00]\n",
            "E for cur_iter:  -1.1486614647230577\n",
            "params in def chemistry in vqe.py:  [ 2.85603164e-01  2.09762223e-01 -3.13991669e-17  6.35486673e-03\n",
            "  1.96764766e-01 -1.38777878e-17  1.52059378e-03  4.85830613e-03\n",
            "  2.00169631e-01 -9.88456154e-20  2.00047058e-01  1.58269816e-21\n",
            "  3.66539506e-20  5.76476085e-20  6.07388636e-20 -6.34049168e-20\n",
            "  0.00000000e+00]\n",
            "E for cur_iter:  -1.0802926132018569\n",
            "params in def chemistry in vqe.py:  [ 2.00119490e-01  1.99932897e-01 -2.35970879e-04 -3.03039283e-04\n",
            "  2.00300832e-01 -5.03030393e-02 -6.53894218e-21 -3.70441835e-20\n",
            "  2.49996112e-01  0.00000000e+00  1.99924240e-01  7.57598206e-05\n",
            "  7.57598206e-05  7.57598206e-05  7.57598206e-05  7.57598206e-05\n",
            "  7.57598206e-05]\n",
            "E for cur_iter:  -1.1838857813769836\n",
            "params in def chemistry in vqe.py:  [ 2.27314545e-01  1.75996415e-01  1.49077799e-18  6.61363325e-18\n",
            "  2.64515097e-01 -2.77555756e-17  3.68369337e-03  1.17694221e-02\n",
            "  2.49290751e-01  1.49925244e-19  1.82953997e-01  1.66101840e-02\n",
            "  1.67181205e-02  1.54785211e-02  1.64140061e-02  1.68264010e-02\n",
            "  1.61306784e-02]\n",
            "E for cur_iter:  -1.2253071041234096\n",
            "params in def chemistry in vqe.py:  [ 2.18461295e-01  1.87893382e-01 -2.24387991e-17 -1.66739827e-17\n",
            "  3.39387743e-01  2.03434182e-17  1.46802852e-02  4.69035983e-02\n",
            "  2.49500376e-01 -2.84494650e-17  1.61191444e-01  3.70717279e-02\n",
            "  3.75018775e-02  3.25618157e-02  3.62899183e-02  3.79333978e-02\n",
            "  3.51607982e-02]\n",
            "E for cur_iter:  -1.223593951586822\n",
            "params in def chemistry in vqe.py:  [ 2.27314545e-01  1.75996415e-01  2.35666544e-17  1.75968795e-17\n",
            "  2.64515097e-01 -1.67723294e-17  3.68369337e-03  1.17694221e-02\n",
            "  2.49290751e-01 -5.00000000e-02  1.82953997e-01  1.66101840e-02\n",
            "  1.67181205e-02  1.54785211e-02  1.64140061e-02  1.68264010e-02\n",
            "  1.61306784e-02]\n",
            "E for cur_iter:  -1.2325544113529088\n",
            "params in def chemistry in vqe.py:  [ 2.05313385e-01  9.63304398e-02 -6.85865670e-18  1.78191267e-02\n",
            "  2.64135194e-01  5.50781158e-17  9.23829122e-03  2.95163952e-02\n",
            "  2.50503912e-01  2.77555756e-17  1.81777234e-01  1.71297809e-02\n",
            "  1.74004737e-02  1.42916969e-02  1.66377888e-02  1.76720291e-02\n",
            "  1.59272344e-02]\n",
            "E for cur_iter:  -0.9651975235838073\n",
            "params in def chemistry in vqe.py:  [ 0.23551627  0.17076193  0.0054524  -0.01042259  0.27501462 -0.01042259\n",
            "  0.00368369  0.00569449  0.24914391 -0.05        0.18034835  0.01921583\n",
            "  0.01932377 -0.02891112  0.01901965  0.01943205  0.01873632]\n",
            "E for cur_iter:  -1.249482686260588\n",
            "params in def chemistry in vqe.py:  [ 2.63511530e-01  1.78582684e-01 -1.73472348e-18 -1.38777878e-17\n",
            "  3.31939116e-01  1.11022302e-16  7.83436088e-03 -8.67361738e-18\n",
            "  2.48437789e-01 -2.08166817e-17  1.64928925e-01  3.41441894e-02\n",
            "  3.43737454e-02  1.32425628e-02  3.37269647e-02  3.46040329e-02\n",
            "  3.31243923e-02]\n",
            "E for cur_iter:  -1.2407347181085435\n",
            "params in def chemistry in vqe.py:  [ 0.23007593  0.17299339  0.00241382 -0.00266176  0.26721241 -0.00653653\n",
            "  0.00755846  0.00075176  0.24533612 -0.05        0.18228856  0.01727562\n",
            "  0.01738356 -0.03223744  0.01707945  0.01749184  0.06602431]\n",
            "E for cur_iter:  -1.2399932653663297\n",
            "params in def chemistry in vqe.py:  [ 2.25076306e-01  2.11122235e-01 -1.73472348e-17 -1.73472348e-18\n",
            "  2.83212724e-01  3.03206346e-02 -7.37257477e-18  2.63415387e-03\n",
            "  3.02875061e-01  6.93889390e-18  1.77486111e-01  2.17867918e-02\n",
            "  2.19668676e-02  4.85722573e-17  2.14594988e-02  2.21475172e-02\n",
            "  7.98757564e-03]\n",
            "E for cur_iter:  -1.1177762997672567\n",
            "params in def chemistry in vqe.py:  [ 0.24061639  0.16972042  0.00796029 -0.01268343  0.28317527 -0.01353225\n",
            " -0.00133509  0.01138646  0.25413319 -0.05        0.17831624  0.02124794\n",
            "  0.02135588 -0.02730925 -0.02869368  0.02146416  0.02140289]\n",
            "E for cur_iter:  -1.2529905975453726\n",
            "params in def chemistry in vqe.py:  [ 2.44051655e-01  1.50897229e-01  0.00000000e+00 -8.67361738e-18\n",
            "  2.73516120e-01  7.45931095e-17  8.44454670e-03  1.21430643e-17\n",
            "  2.46917027e-01  2.08166817e-17  1.79466165e-01  1.95739831e-02\n",
            "  1.98117037e-02  3.32039517e-02  3.46944695e-18  2.00501819e-02\n",
            "  6.45558787e-02]\n",
            "E for cur_iter:  -1.2128797160669575\n",
            "params in def chemistry in vqe.py:  [ 0.2356057   0.170205    0.00549621 -0.01436869  0.27454814 -0.00990123\n",
            "  0.00363093  0.00528047  0.24917725 -0.04955648  0.1804655   0.06885459\n",
            "  0.01920662 -0.02809333 -0.03116227  0.0193149   0.01928808]\n",
            "E for cur_iter:  -1.2226778288890627\n",
            "params in def chemistry in vqe.py:  [ 2.47070286e-01  1.93546677e-01  5.20417043e-18 -1.04083409e-17\n",
            "  3.25930038e-01  2.08166817e-17  2.03111194e-02  3.46944695e-18\n",
            "  2.39803675e-01 -4.85722573e-17  1.64995255e-01  2.77555756e-17\n",
            "  3.38758605e-02  1.08420023e-02 -2.77555756e-17  3.42486657e-02\n",
            "  4.63793030e-02]\n",
            "E for cur_iter:  -1.1869556652102748\n",
            "params in def chemistry in vqe.py:  [ 0.23564222  0.17024679  0.00547767 -0.01416773  0.27462406 -0.00996774\n",
            "  0.00362122  0.00512796  0.24918809 -0.04964789  0.18044644  0.01859571\n",
            "  0.06894548 -0.02811964 -0.03119276  0.01933395  0.01923698]\n",
            "E for cur_iter:  -1.2344962775329678\n",
            "params in def chemistry in vqe.py:  [ 2.51473261e-01  1.90499736e-01  6.93889390e-18 -3.46944695e-18\n",
            "  3.30165291e-01  1.90819582e-17  1.29672345e-02  1.21430643e-17\n",
            "  2.46365600e-01 -4.85722573e-17  1.64221406e-01  1.04083409e-17\n",
            "  0.00000000e+00  7.65243757e-03 -3.46944695e-18  3.50790101e-02\n",
            "  4.59622292e-02]\n",
            "E for cur_iter:  -1.1996460609617172\n",
            "params in def chemistry in vqe.py:  [ 0.23568952  0.17028708  0.00546481 -0.01396508  0.27471841 -0.01004165\n",
            "  0.00360056  0.00499061  0.24920986 -0.04973934  0.1804228   0.01858813\n",
            "  0.01865445 -0.02814393 -0.03121744  0.0690403   0.01919112]\n",
            "E for cur_iter:  -1.2299036719344416\n",
            "params in def chemistry in vqe.py:  [ 2.54834556e-01  1.87426775e-01  5.20417043e-18 -6.93889390e-18\n",
            "  3.32476999e-01  8.67361738e-18  6.52937184e-03 -1.73472348e-18\n",
            "  2.51994829e-01 -4.16333634e-17  1.63937019e-01  0.00000000e+00\n",
            "  0.00000000e+00  4.18254020e-03 -3.46944695e-18  6.93889390e-18\n",
            "  4.50705015e-02]\n",
            "E for cur_iter:  -1.2081863369048342\n",
            "params in def chemistry in vqe.py:  [ 0.24144631  0.16988474  0.00934909 -0.00991124  0.27038126 -0.01499206\n",
            " -0.00234132  0.01041251  0.25515489 -0.05117408  0.1301593   0.02159453\n",
            "  0.02168797 -0.02732817 -0.02858111  0.02178171  0.02121687]\n",
            "E for cur_iter:  -1.2644648578025757\n",
            "params in def chemistry in vqe.py:  [ 2.88014616e-01  1.77030211e-01  0.00000000e+00 -3.46944695e-18\n",
            "  2.69694118e-01 -8.67361738e-18  4.33680869e-19  3.69680210e-02\n",
            "  2.93798071e-01 -2.08166817e-17  1.17304466e-01  1.89135142e-02\n",
            "  2.43692428e-02 -6.93889390e-18  3.81639165e-17  2.28982683e-02\n",
            "  4.95386654e-02]\n",
            "E for cur_iter:  -1.2370502087768582\n",
            "params in def chemistry in vqe.py:  [ 0.24127155  0.17194154 -0.02489514 -0.02594385  0.2633603   0.00157172\n",
            "  0.01422518  0.01109026  0.23848028 -0.04433697  0.12133792  0.02076736\n",
            "  0.02094572 -0.03350822 -0.02810075  0.02114063  0.01623784]\n",
            "E for cur_iter:  -1.1890896615316662\n",
            "params in def chemistry in vqe.py:  [ 2.40785359e-01  1.68545685e-01 -5.20417043e-18 -1.73472348e-18\n",
            "  2.94822359e-01  6.93889390e-18  2.60208521e-18 -1.04083409e-17\n",
            "  3.08934494e-01  2.77555756e-17  1.25961986e-01  2.19137975e-02\n",
            "  2.60725444e-02  1.33903422e-02  3.46944695e-18  2.46895075e-02\n",
            "  5.02821682e-02]\n",
            "E for cur_iter:  -1.255990891935683\n",
            "params in def chemistry in vqe.py:  [ 0.24254385  0.16139971  0.02393112 -0.05433567  0.27135179 -0.01669485\n",
            " -0.00747871  0.01388416  0.26007136 -0.04894039  0.13325059  0.01724392\n",
            "  0.01749993 -0.0264957  -0.01838644  0.01774506  0.01971881]\n",
            "E for cur_iter:  -1.0794266996015074\n",
            "params in def chemistry in vqe.py:  [ 2.68418367e-01  1.80958287e-01 -3.46944695e-18  2.72060925e-02\n",
            "  2.95294266e-01  2.08166817e-17 -8.23993651e-18  5.46996125e-03\n",
            "  2.70958373e-01  1.38777878e-17  1.27210846e-01  2.86477285e-02\n",
            "  3.21355055e-02  1.53738020e-02 -6.93889390e-18  3.03321680e-02\n",
            "  5.37725884e-02]\n",
            "E for cur_iter:  -1.1723951982191678\n",
            "params in def chemistry in vqe.py:  [ 2.57881975e-01  1.75564811e-01 -1.14482680e-17  2.35273413e-02\n",
            "  3.10613816e-01  6.83572445e-18 -1.29690638e-17 -1.50893796e-17\n",
            "  3.18951754e-01 -3.56914212e-17  1.24093066e-01  2.63845689e-02\n",
            "  3.26948630e-02  4.04575827e-02 -1.31838984e-17  3.01093377e-02\n",
            "  7.09180684e-02]\n",
            "E for cur_iter:  -1.1872552824919205\n",
            "params in def chemistry in vqe.py:  [ 0.24284867  0.15675403 -0.0134116   0.00080296  0.29959183 -0.01371143\n",
            " -0.00404894  0.00500922  0.31280592 -0.00302118  0.12925068  0.02029069\n",
            "  0.02441637  0.01244531  0.00179721  0.02299074  0.04900571]\n",
            "E for cur_iter:  -1.2154490670648956\n",
            "params in def chemistry in vqe.py:  [2.33608442e-01 1.47881075e-01 1.49176932e-02 3.03856852e-02\n",
            " 2.93887499e-01 1.85935505e-02 2.82233667e-03 2.78356947e-03\n",
            " 3.07869536e-01 1.12053067e-02 1.23417486e-01 2.03419513e-02\n",
            " 2.56184439e-02 1.56125113e-17 4.18945741e-03 2.37084060e-02\n",
            " 3.68780436e-02]\n",
            "E for cur_iter:  -1.1433638768671675\n",
            "params in def chemistry in vqe.py:  [ 0.24301991  0.16615718  0.00199188 -0.00081847  0.2948777  -0.00515068\n",
            "  0.02360439 -0.00103535  0.31221849 -0.00232636  0.12515253  0.02094365\n",
            "  0.0250847   0.0142006   0.0003188   0.02368527  0.04819481]\n",
            "E for cur_iter:  -1.2438133491556982\n",
            "params in def chemistry in vqe.py:  [ 2.31794763e-01  1.88020573e-01 -3.76149705e-18 -2.34064125e-18\n",
            "  2.84124824e-01  2.88894479e-02  1.25842238e-02 -6.62764993e-18\n",
            "  2.91213412e-01  3.06398186e-03  1.03336632e-01  2.64656376e-02\n",
            "  3.21789458e-02  1.06595353e-02 -6.93889390e-18  3.03072065e-02\n",
            "  5.06604833e-02]\n",
            "E for cur_iter:  -1.2325777729088088\n",
            "params in def chemistry in vqe.py:  [ 0.23866743  0.17028575  0.00400353  0.00240636  0.29212327 -0.00899705\n",
            " -0.001643   -0.0028739   0.30442279  0.00247706  0.12039402  0.0038805\n",
            "  0.0322332   0.01527992  0.00580155  0.03090251  0.05027235]\n",
            "E for cur_iter:  -1.2428208834744772\n",
            "params in def chemistry in vqe.py:  [ 2.33209451e-01  1.96798271e-01  1.83059924e-03  9.34506397e-03\n",
            "  2.79007580e-01 -1.24736329e-17 -9.71445147e-18  2.17375583e-18\n",
            "  3.09117647e-01  2.43718824e-02  1.31485377e-01  4.52489332e-02\n",
            "  2.16066374e-02  7.47550739e-03 -2.60532364e-17  1.98020279e-02\n",
            "  4.28167262e-02]\n",
            "E for cur_iter:  -1.1839942179408547\n",
            "params in def chemistry in vqe.py:  [ 2.40757536e-01  1.68318334e-01  4.53574136e-04  5.25788372e-04\n",
            "  2.94600042e-01 -5.03631543e-04 -2.59328152e-04 -3.25295171e-04\n",
            "  3.08624224e-01 -3.74610877e-04  1.24436304e-01  2.26959626e-02\n",
            "  7.42713726e-03  1.39761429e-02  1.27220710e-03  4.11526779e-02\n",
            "  5.06874733e-02]\n",
            "E for cur_iter:  -1.2313835869717453\n",
            "params in def chemistry in vqe.py:  [ 2.43190860e-01  1.76652934e-01  6.33179240e-17  3.12250226e-17\n",
            "  2.97641552e-01  1.38559354e-02  4.82795568e-03  4.64869663e-03\n",
            "  3.22116403e-01  4.44896106e-03  1.51910722e-01  6.72474749e-03\n",
            "  4.38502336e-02  2.94670744e-03 -1.85884564e-17  4.98160254e-02\n",
            "  4.48439698e-02]\n",
            "E for cur_iter:  -1.2331245838818823\n",
            "params in def chemistry in vqe.py:  [ 2.37224143e-01  1.70287029e-01  2.00515458e-03  2.60823101e-03\n",
            "  2.93962937e-01 -1.56954720e-03  1.20056810e-03  3.00272488e-04\n",
            "  3.10194606e-01 -5.53282441e-03  1.27909606e-01  2.38093334e-02\n",
            "  2.55937059e-02  6.10494802e-04  1.07681786e-02  2.31964830e-02\n",
            "  6.67868781e-02]\n",
            "E for cur_iter:  -1.2564421344573464\n",
            "params in def chemistry in vqe.py:  [ 2.46403348e-01  1.65550953e-01  4.26641462e-02 -1.68023943e-17\n",
            "  2.99438229e-01  8.04453522e-03  4.43318621e-19 -5.06038355e-18\n",
            "  3.18742575e-01 -1.04083409e-17  1.24695455e-01  2.75877934e-02\n",
            "  3.38077052e-02  2.32878613e-02  1.00806715e-02  1.25128204e-02\n",
            "  5.42239407e-02]\n",
            "E for cur_iter:  -1.1384247733866786\n",
            "params in def chemistry in vqe.py:  [ 0.22923031  0.16799021  0.00195367 -0.00133979  0.30117905 -0.00448768\n",
            "  0.00153513  0.01954951  0.30682635  0.0024468   0.12510982  0.02336577\n",
            "  0.0277091   0.01632847 -0.00264526  0.02677922  0.05241121]\n",
            "E for cur_iter:  -1.236252604992969\n",
            "params in def chemistry in vqe.py:  [ 2.45249380e-01  1.41839839e-01 -4.37174618e-19 -2.40977637e-17\n",
            "  2.98381264e-01 -1.94415529e-18 -2.15061521e-18 -1.23323375e-17\n",
            "  3.15612719e-01 -3.15540727e-17  1.10628635e-01  2.32335987e-02\n",
            "  5.08744155e-02 -3.12250226e-17  1.93558112e-02  7.26364933e-03\n",
            "  5.03832535e-02]\n",
            "E for cur_iter:  -1.1969668463273315\n",
            "params in def chemistry in vqe.py:  [ 0.23732473  0.17293636 -0.00472748  0.00373063  0.29120873  0.0029502\n",
            " -0.00085914  0.00512439  0.31218965 -0.01104917  0.12900893  0.02037011\n",
            "  0.0233707   0.02095591  0.01420186  0.02084837  0.04115046]\n",
            "E for cur_iter:  -1.2351844135260044\n",
            "{'IIII': -0.8105479805373275, 'IIIZ': 0.1721839326191556, 'IIZZ': -0.2257534922240239, 'IZZI': 0.17218393261915554, 'ZZII': -0.2257534922240239, 'IIZI': 0.12091263261776629, 'IZZZ': 0.16892753870087907, 'ZXIX': 0.04523279994605784, 'IXZX': -0.04523279994605784, 'ZXZX': -0.04523279994605784, 'IXIX': 0.04523279994605784, 'ZZIZ': 0.16614543256382414, 'IZIZ': 0.16614543256382414, 'ZZZZ': 0.17464343068300445, 'ZIZI': 0.12091263261776629}\n",
            "The optimized loss func value: -1.255990891935683\n"
          ]
        }
      ]
    }
  ]
}