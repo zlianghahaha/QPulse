{
  "nbformat": 4,
  "nbformat_minor": 0,
  "metadata": {
    "colab": {
      "provenance": []
    },
    "kernelspec": {
      "name": "python3",
      "display_name": "Python 3"
    },
    "language_info": {
      "name": "python"
    }
  },
  "cells": [
    {
      "cell_type": "code",
      "source": [
        "from IPython.display import clear_output\n",
        "!pip install paddle-quantum\n",
        "!pip install qiskit\n",
        "!pip install qiskit_dynamics\n",
        "# !pip install qiskit-experiments\n",
        "clear_output()"
      ],
      "metadata": {
        "id": "WHH56WmymMzv"
      },
      "execution_count": 2,
      "outputs": []
    },
    {
      "cell_type": "code",
      "execution_count": 3,
      "metadata": {
        "colab": {
          "base_uri": "https://localhost:8080/"
        },
        "id": "X4vIgMj5k8WO",
        "outputId": "3f418fb7-7310-4c60-c0f5-af68b6685bba"
      },
      "outputs": [
        {
          "output_type": "stream",
          "name": "stderr",
          "text": [
            "/usr/local/lib/python3.9/dist-packages/openfermion/hamiltonians/hartree_fock.py:11: DeprecationWarning: Please use `OptimizeResult` from the `scipy.optimize` namespace, the `scipy.optimize.optimize` namespace is deprecated.\n",
            "  from scipy.optimize.optimize import OptimizeResult\n",
            "/usr/local/lib/python3.9/dist-packages/paddle/tensor/creation.py:125: DeprecationWarning: `np.object` is a deprecated alias for the builtin `object`. To silence this warning, use `object` by itself. Doing this will not modify any behavior and is safe. \n",
            "Deprecated in NumPy 1.20; for more details and guidance: https://numpy.org/devdocs/release/1.20.0-notes.html#deprecations\n",
            "  if data.dtype == np.object:\n",
            "/usr/local/lib/python3.9/dist-packages/jax/_src/deprecations.py:51: DeprecationWarning: jax.interpreters.xla.DeviceArray is deprecated. Use jax.Array instead.\n",
            "  warnings.warn(message, DeprecationWarning)\n"
          ]
        }
      ],
      "source": [
        "from turtle import width\n",
        "import numpy as np\n",
        "from qiskit import QuantumCircuit, Aer, execute\n",
        "from numpy.linalg import matrix_rank\n",
        "import random\n",
        "import qiskit\n",
        "import numpy as np\n",
        "from qiskit import pulse, QuantumCircuit,circuit,transpile, providers\n",
        "from qiskit.pulse import library, Schedule,GaussianSquare, ControlChannel, Play, Drag,DriveChannel,Delay,DriveChannel, SymbolicPulse, ShiftPhase\n",
        "from qiskit.tools.visualization import circuit_drawer\n",
        "from qiskit.visualization.pulse_v2 import draw, IQXSimple,IQXDebugging\n",
        "from qiskit.compiler import assemble, schedule\n",
        "from qiskit import IBMQ\n",
        "import paddle\n",
        "import paddle_quantum as pq\n",
        "from paddle_quantum.ansatz.circuit import Circuit\n",
        "from paddle_quantum.qinfo import state_fidelity, partial_trace, purity\n",
        "import warnings\n",
        "import qiskit.quantum_info as qi\n",
        "import random\n",
        "import decimal\n",
        "import numpy as np\n",
        "import paddle\n",
        "import paddle_quantum as pq\n",
        "from paddle_quantum.ansatz.circuit import Circuit\n",
        "from paddle_quantum.visual import plot_state_in_bloch_sphere\n",
        "from paddle_quantum.linalg import haar_unitary\n",
        "from paddle_quantum.qinfo import state_fidelity\n",
        "from paddle_quantum.state.common import to_state\n",
        "import matplotlib.pyplot as plt\n",
        "from matplotlib.ticker import FuncFormatter\n",
        "from scipy import integrate\n",
        "import copy\n",
        "import qiskit\n",
        "# import multiset\n",
        "from qiskit.circuit.parameterexpression import ParameterValueType\n",
        "from qiskit.circuit import QuantumCircuit, Parameter\n",
        "from qiskit import pulse, QuantumCircuit, IBMQ, visualization,execute, Aer\n",
        "from qiskit.pulse import library\n",
        "from qiskit.visualization.pulse_v2.stylesheet import IQXDebugging\n",
        "from qiskit.visualization.pulse_v2 import draw\n",
        "from qiskit.providers.fake_provider import *\n",
        "from qiskit.pulse import transforms\n",
        "from qiskit.pulse.transforms import block_to_schedule\n",
        "from qiskit.pulse import filters\n",
        "from qiskit.pulse.filters import composite_filter, filter_instructions\n",
        "from typing import List, Tuple, Iterable, Union, Dict, Callable, Set, Optional, Any\n",
        "from qiskit.pulse.instructions import Instruction\n",
        "from qiskit.compiler import assemble, schedule\n",
        "from qiskit.providers.aer.pulse import PulseSystemModel\n",
        "from qiskit.providers.aer import PulseSimulator\n",
        "from qiskit_dynamics import Solver, DynamicsBackend\n",
        "from qiskit_dynamics.backend import default_experiment_result_function\n",
        "from qiskit_dynamics.array import Array\n",
        "import jax"
      ]
    },
    {
      "cell_type": "code",
      "source": [
        "backend = FakeQuito()\n",
        "\n",
        "backend.configuration().hamiltonian['qub']\n",
        "\n",
        "backend.configuration().hamiltonian['qub'] = {'0': 2,'1': 2,'2': 2,'3': 2,'4': 2 }\n",
        "backend_model = PulseSystemModel.from_backend(backend)\n",
        "backend_sim = PulseSimulator(system_model=backend_model)\n",
        "backend_config = backend.configuration().to_dict()\n",
        "num_qubits = int(backend_config['n_qubits'])\n",
        "f = backend.properties().frequency\n",
        "freq = [f(i) for i in range(num_qubits)]\n",
        "jax.config.update(\"jax_enable_x64\", True)\n",
        "jax.config.update(\"jax_platform_name\", \"cpu\")\n",
        "\n",
        "Array.set_default_backend(\"jax\")"
      ],
      "metadata": {
        "colab": {
          "base_uri": "https://localhost:8080/"
        },
        "id": "lRZ0J3NkmUU0",
        "outputId": "50e6f321-d5cb-492d-f8f1-be61f606f39f"
      },
      "execution_count": 4,
      "outputs": [
        {
          "output_type": "stream",
          "name": "stderr",
          "text": [
            "/usr/local/lib/python3.9/dist-packages/ipykernel/ipkernel.py:283: DeprecationWarning: `should_run_async` will not call `transform_cell` automatically in the future. Please pass the result to `transformed_cell` argument and any exception that happen during thetransform in `preprocessing_exc_tuple` in IPython 7.17 and above.\n",
            "  and should_run_async(code)\n",
            "<ipython-input-4-0d6b50dddf13>:7: DeprecationWarning: The Pulse simulator backend in Qiskit Aer is deprecated and will be removed in a future release. Instead the qiskit-dynamics library should be used instead for simulating at the pulse level.\n",
            "  backend_sim = PulseSimulator(system_model=backend_model)\n"
          ]
        }
      ]
    },
    {
      "cell_type": "markdown",
      "source": [
        "Calculate Statevector\n"
      ],
      "metadata": {
        "id": "UyBmJV-VmiP3"
      }
    },
    {
      "cell_type": "code",
      "source": [
        "def new_experiment_result_function(\n",
        "    experiment_name,\n",
        "    solver_result,\n",
        "    measurement_subsystems,\n",
        "    memory_slot_indices,\n",
        "    num_memory_slots,\n",
        "    backend,\n",
        "    seed,\n",
        "    metadata,\n",
        "):\n",
        "    result = default_experiment_result_function(\n",
        "        experiment_name,\n",
        "        solver_result,\n",
        "        measurement_subsystems,\n",
        "        memory_slot_indices,\n",
        "        num_memory_slots,\n",
        "        backend,\n",
        "        seed,\n",
        "        metadata,\n",
        "    )\n",
        "    \n",
        "    result.statevector = solver_result.y[-1]\n",
        "    return result"
      ],
      "metadata": {
        "id": "9NbSVRZomkcO"
      },
      "execution_count": 5,
      "outputs": []
    },
    {
      "cell_type": "markdown",
      "source": [
        "Prepare Pulse"
      ],
      "metadata": {
        "id": "ku9R0m7bmZzB"
      }
    },
    {
      "cell_type": "code",
      "source": [
        "def drag_pulse(backend, amp, angle):\n",
        "  backend_defaults = backend.defaults()\n",
        "  inst_sched_map = backend_defaults.instruction_schedule_map \n",
        "  x_pulse = inst_sched_map.get('x', (0)).filter(channels = [DriveChannel(0)], instruction_types=[Play]).instructions[0][1].pulse\n",
        "  duration_parameter = x_pulse.parameters['duration']\n",
        "  sigma_parameter = x_pulse.parameters['sigma']\n",
        "  beta_parameter = x_pulse.parameters['beta']\n",
        "  pulse1 = Drag(duration=duration_parameter, sigma=sigma_parameter, beta=beta_parameter, amp=amp, angle=angle)\n",
        "  return pulse1\n",
        "def cr_pulse(backend, amp, angle, duration):\n",
        "  backend_defaults = backend.defaults()\n",
        "  inst_sched_map = backend_defaults.instruction_schedule_map \n",
        "  cr_pulse = inst_sched_map.get('cx', (0, 1)).filter(channels = [ControlChannel(0)], instruction_types=[Play]).instructions[0][1].pulse\n",
        "  cr_params = {}\n",
        "  cr_params['duration'] = cr_pulse.parameters['duration']\n",
        "  cr_params['amp'] = cr_pulse.parameters['amp']\n",
        "  cr_params['angle'] = cr_pulse.parameters['angle']\n",
        "  cr_params['sigma'] = cr_pulse.parameters['sigma']\n",
        "  cr_params['width'] = cr_pulse.parameters['width']\n",
        "  cr_risefall = (cr_params['duration'] - cr_params['width']) / (2 * cr_params['sigma'])\n",
        "  angle_parameter = angle\n",
        "  duration_parameter =  duration\n",
        "  sigma_parameter = cr_pulse.parameters['sigma']\n",
        "  width_parameter = int(duration_parameter - 2 * cr_risefall * cr_params['sigma'])\n",
        "  #declare pulse parameters and build GaussianSquare pulse\n",
        "  pulse1 = GaussianSquare(duration = duration_parameter, amp = amp, angle = angle_parameter, sigma = sigma_parameter, width=width_parameter)\n",
        "  return pulse1\n",
        "def cr_pulsefixedamp(backend, angle, duration):\n",
        "  backend_defaults = backend.defaults()\n",
        "  inst_sched_map = backend_defaults.instruction_schedule_map \n",
        "  cr_pulse = inst_sched_map.get('cx', (0, 1)).filter(channels = [ControlChannel(0)], instruction_types=[Play]).instructions[0][1].pulse\n",
        "  cr_params = {}\n",
        "  cr_params['duration'] = cr_pulse.parameters['duration']\n",
        "  amp_parameter = cr_pulse.parameters['amp']\n",
        "  cr_params['angle'] = cr_pulse.parameters['angle']\n",
        "  cr_params['sigma'] = cr_pulse.parameters['sigma']\n",
        "  cr_params['width'] = cr_pulse.parameters['width']\n",
        "  cr_risefall = (cr_params['duration'] - cr_params['width']) / (2 * cr_params['sigma'])\n",
        "  angle_parameter = angle\n",
        "  duration_parameter =  duration\n",
        "  sigma_parameter = cr_pulse.parameters['sigma']\n",
        "  width_parameter = int(duration_parameter - 2 * cr_risefall * cr_params['sigma'])\n",
        "  #declare pulse parameters and build GaussianSquare pulse\n",
        "  pulse1 = GaussianSquare(duration = duration_parameter, amp = amp_parameter, angle = angle_parameter, sigma = sigma_parameter, width=width_parameter)\n",
        "  return pulse1\n",
        "def block_pulse2q(backend, amp, angle, width):\n",
        "    with pulse.build(backend) as my_program1:\n",
        "      # layer 1\n",
        "      sched_list = []\n",
        "      with pulse.build(backend) as sched1:\n",
        "          for i in range(2):\n",
        "              pulse.play(drag_pulse(backend, amp[i], angle[i]), DriveChannel(i))\n",
        "      sched_list.append(sched1)\n",
        "\n",
        "      with pulse.build(backend) as sched2: #这里control channel可以根据目标改一下\n",
        "          uchan = pulse.control_channels(0, 1)[0]\n",
        "          pulse.play(cr_pulse(backend, amp[2], angle[2], width[0]), uchan)\n",
        "      sched_list.append(sched2)\n",
        "      \n",
        "      with pulse.build(backend) as sched3:\n",
        "          qubits = (0,1)\n",
        "          for i in qubits:\n",
        "              pulse.play(drag_pulse(backend, amp[3+i], angle[3+i]), DriveChannel(i))\n",
        "      sched_list.append(sched3)\n",
        "\n",
        "      with pulse.build(backend) as sched4:\n",
        "          uchan = pulse.control_channels(0, 1)[0]\n",
        "          pulse.play(cr_pulse(backend, amp[5], angle[5], width[1]), uchan)\n",
        "      sched_list.append(sched4)\n",
        "\n",
        "      with pulse.build(backend) as sched5:\n",
        "          qubits = (0,1)\n",
        "          for i in qubits:\n",
        "              pulse.play(drag_pulse(backend, amp[6+i], angle[6+i]), DriveChannel(i))\n",
        "      sched_list.append(sched5)\n",
        "\n",
        "      with pulse.build(backend) as my_program:\n",
        "        with pulse.transpiler_settings(initial_layout= [0,1]):\n",
        "          with pulse.align_sequential():\n",
        "              for sched in sched_list:\n",
        "                  pulse.call(sched)\n",
        "              pulse.measure(qubits)\n",
        "\n",
        "    return my_program\n",
        "\n",
        "def block_pulse2qdressed(backend, amp, angle, width):\n",
        "    with pulse.build(backend) as my_program1:\n",
        "      # layer 1\n",
        "      sched_list = []\n",
        "      with pulse.build(backend) as sched1:\n",
        "          for i in range(2):\n",
        "              pulse.play(drag_pulse(backend, amp[i], angle[i]), DriveChannel(i))\n",
        "      sched_list.append(sched1)\n",
        "\n",
        "      with pulse.build(backend) as sched2: #这里control channel可以根据目标改一下\n",
        "          uchan = pulse.control_channels(0, 1)[0]\n",
        "          pulse.play(cr_pulse(backend, amp[2], angle[2], width[0]), uchan)\n",
        "      sched_list.append(sched2)\n",
        "      \n",
        "      with pulse.build(backend) as sched3:\n",
        "          qubits = (0,1)\n",
        "          for i in qubits:\n",
        "              pulse.play(drag_pulse(backend, amp[3+i], angle[3+i]), DriveChannel(i))\n",
        "      sched_list.append(sched3)\n",
        "\n",
        "\n",
        "      with pulse.build(backend) as my_program:\n",
        "        with pulse.transpiler_settings(initial_layout= [0,1]):\n",
        "          with pulse.align_sequential():\n",
        "              for sched in sched_list:\n",
        "                  pulse.call(sched)\n",
        "              pulse.measure(qubits)\n",
        "\n",
        "    return my_program"
      ],
      "metadata": {
        "id": "x5bKPAJJmJBS"
      },
      "execution_count": 6,
      "outputs": []
    },
    {
      "cell_type": "code",
      "source": [
        "def get_parameterzied_circuit(params_list):\n",
        "    \"\"\"\n",
        "    Creates a parameterized quantum circuit with two qubits and two parameters.\n",
        "    \"\"\"\n",
        "    params = params_list[:int(len(params_list)-2)]\n",
        "    amp = params[:int(len(params)/2)]\n",
        "    params_arr = np.array(params)\n",
        "    angle = params_arr[int(len(params_arr)/2):] * 2*np.pi\n",
        "    width = params_list[len(params_list)-2:]\n",
        "    width = [round(w * 100*16) for w in width]\n",
        "    sched1 = block_pulse2q(backend, amp, angle, width)\n",
        "    return sched1\n"
      ],
      "metadata": {
        "id": "hlswg5eummZd"
      },
      "execution_count": 12,
      "outputs": []
    },
    {
      "cell_type": "markdown",
      "source": [
        "Calculate EPD"
      ],
      "metadata": {
        "id": "WwoZaN18mqKp"
      }
    },
    {
      "cell_type": "code",
      "source": [
        "epsilon = 1e-2"
      ],
      "metadata": {
        "id": "mFhN9pO3mpVn"
      },
      "execution_count": 7,
      "outputs": []
    },
    {
      "cell_type": "code",
      "source": [
        "def get_statevector(params):\n",
        "    \"\"\"\n",
        "    Computes the statevector of a parameterized quantum circuit.\n",
        "    \"\"\"\n",
        "    backend = FakeQuito()\n",
        "\n",
        "    backend.configuration().hamiltonian['qub']\n",
        "\n",
        "    backend.configuration().hamiltonian['qub'] = {'0': 2,'1': 2,'2': 2,'3': 2,'4': 2 }\n",
        "    backend_model = PulseSystemModel.from_backend(backend)\n",
        "    backend_sim = PulseSimulator(system_model=backend_model)\n",
        "    backend_config = backend.configuration().to_dict()\n",
        "    num_qubits = int(backend_config['n_qubits'])\n",
        "    f = backend.properties().frequency\n",
        "    freq = [f(i) for i in range(num_qubits)]\n",
        "    jax.config.update(\"jax_enable_x64\", True)\n",
        "    jax.config.update(\"jax_platform_name\", \"cpu\")\n",
        "\n",
        "    Array.set_default_backend(\"jax\")\n",
        "    backend_run = DynamicsBackend.from_backend(backend, evaluation_mode=\"sparse\")\n",
        "    solver_options = {\"method\": \"jax_odeint\", \"atol\": 1e-6, \"rtol\": 1e-8}\n",
        "    backend_run.set_options(solver_options=solver_options,experiment_result_function=new_experiment_result_function)\n",
        "    backend_run.configuration = lambda: backend.configuration()\n",
        "    # Returen the density matrix of q0\n",
        "    #vec = results.get_statevector()\n",
        "    # print(len(vec))\n",
        "    #rho = qi.partial_trace(vec, [2,3,4])\n",
        "    #Returen the density matrix of q0\n",
        "    sched = get_parameterzied_circuit(params)\n",
        "    results = backend_run.run(sched).result()\n",
        "    statevector = results.results[0].statevector\n",
        "    return statevector\n",
        "\n",
        "def get_gradient(params):\n",
        "    \"\"\"\n",
        "    Computes the gradient of the statevector of a parameterized quantum circuit with respect\n",
        "    to its parameters using finite differences.\n",
        "    \"\"\"\n",
        "    statevector0 = get_statevector(params)\n",
        "    gradient = [statevector0]\n",
        "    for i in range(len(params)):\n",
        "        params_perturbed = copy.deepcopy(params)\n",
        "        params_perturbed[i] += epsilon\n",
        "        statevector_perturbed = get_statevector(params_perturbed)\n",
        "        gradient.append((statevector_perturbed - statevector0)/epsilon)\n",
        "    return gradient\n",
        "\n",
        "def get_fisher(params):\n",
        "    \"\"\"\n",
        "    Computes the Fisher information matrix for a parameterized quantum circuit.\n",
        "    \"\"\"\n",
        "    gradient = get_gradient(params)\n",
        "    fisher = np.zeros((len(params), len(params)))\n",
        "    for i in range(len(params)):\n",
        "        for j in range(i, len(params)):\n",
        "            fisher[i,j] = np.real(gradient[i+1].inner(gradient[j+1]) - gradient[i+1].inner(gradient[0])*gradient[j+1].inner(gradient[0]))\n",
        "            fisher[j,i] = fisher[i,j]\n",
        "    return fisher\n",
        "\n",
        "def get_epd(params):\n",
        "    \"\"\"\n",
        "    Computes the effective parameter dimension (EPD) for a parameterized quantum circuit.\n",
        "    \"\"\"\n",
        "    fisher = get_fisher(params)\n",
        "    epd = matrix_rank(fisher, tol=1e-6)  # compute the rank of the Fisher information matrix\n",
        "    return epd"
      ],
      "metadata": {
        "id": "tJZYolpZmvWb"
      },
      "execution_count": 10,
      "outputs": []
    },
    {
      "cell_type": "code",
      "source": [
        "# Example usage \n",
        "#random.seed(42)\n",
        "random_params = [random.uniform(0, 1000)/1000 for i in range(16)]\n",
        "width = [random.randrange(16, 64)/100 for _ in range(2)]\n",
        "params = random_params + width\n",
        "result = get_epd(params)\n",
        "print(result)"
      ],
      "metadata": {
        "colab": {
          "base_uri": "https://localhost:8080/"
        },
        "id": "V5GxqA-hm1EO",
        "outputId": "de231896-8b05-4403-eb27-3061c8465445"
      },
      "execution_count": 13,
      "outputs": [
        {
          "output_type": "stream",
          "name": "stderr",
          "text": [
            "<ipython-input-10-bc2eafbf217d>:11: DeprecationWarning: The Pulse simulator backend in Qiskit Aer is deprecated and will be removed in a future release. Instead the qiskit-dynamics library should be used instead for simulating at the pulse level.\n",
            "  backend_sim = PulseSimulator(system_model=backend_model)\n",
            "<ipython-input-10-bc2eafbf217d>:11: DeprecationWarning: The Pulse simulator backend in Qiskit Aer is deprecated and will be removed in a future release. Instead the qiskit-dynamics library should be used instead for simulating at the pulse level.\n",
            "  backend_sim = PulseSimulator(system_model=backend_model)\n"
          ]
        },
        {
          "output_type": "stream",
          "name": "stdout",
          "text": [
            "18\n"
          ]
        }
      ]
    }
  ]
}