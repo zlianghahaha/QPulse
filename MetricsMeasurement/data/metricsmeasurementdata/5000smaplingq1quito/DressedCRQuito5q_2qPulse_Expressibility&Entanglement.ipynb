{
  "nbformat": 4,
  "nbformat_minor": 0,
  "metadata": {
    "colab": {
      "provenance": [],
      "toc_visible": true
    },
    "kernelspec": {
      "name": "python3",
      "display_name": "Python 3"
    },
    "language_info": {
      "name": "python"
    },
    "widgets": {
      "application/vnd.jupyter.widget-state+json": {
        "77db18d021244d0f9b475414da21533d": {
          "model_module": "@jupyter-widgets/controls",
          "model_name": "VBoxModel",
          "model_module_version": "1.5.0",
          "state": {
            "_dom_classes": [],
            "_model_module": "@jupyter-widgets/controls",
            "_model_module_version": "1.5.0",
            "_model_name": "VBoxModel",
            "_view_count": null,
            "_view_module": "@jupyter-widgets/controls",
            "_view_module_version": "1.5.0",
            "_view_name": "VBoxView",
            "box_style": "",
            "children": [
              "IPY_MODEL_964c7630e2614251ba30a8395c53a6d4",
              "IPY_MODEL_643e4607049f41199cda7d2810bc3e9d"
            ],
            "layout": "IPY_MODEL_3bceb5b0bd884119889e664ef592cb45"
          }
        },
        "964c7630e2614251ba30a8395c53a6d4": {
          "model_module": "@jupyter-widgets/controls",
          "model_name": "HTMLModel",
          "model_module_version": "1.5.0",
          "state": {
            "_dom_classes": [],
            "_model_module": "@jupyter-widgets/controls",
            "_model_module_version": "1.5.0",
            "_model_name": "HTMLModel",
            "_view_count": null,
            "_view_module": "@jupyter-widgets/controls",
            "_view_module_version": "1.5.0",
            "_view_name": "HTMLView",
            "description": "",
            "description_tooltip": null,
            "layout": "IPY_MODEL_1f8a91f6c189415ca5f4a17deb67b0af",
            "placeholder": "​",
            "style": "IPY_MODEL_904892e1b4e9485794d07e8726aea379",
            "value": "<h1 style='color:#ffffff;background-color:#000000;padding-top: 1%;padding-bottom: 1%;padding-left: 1%; margin-top: 0px'>fake_quito</h1>"
          }
        },
        "643e4607049f41199cda7d2810bc3e9d": {
          "model_module": "@jupyter-widgets/controls",
          "model_name": "TabModel",
          "model_module_version": "1.5.0",
          "state": {
            "_dom_classes": [],
            "_model_module": "@jupyter-widgets/controls",
            "_model_module_version": "1.5.0",
            "_model_name": "TabModel",
            "_titles": {
              "0": "Configuration",
              "1": "Qubit Properties",
              "2": "Multi-Qubit Gates",
              "3": "Error Map",
              "4": "Job History"
            },
            "_view_count": null,
            "_view_module": "@jupyter-widgets/controls",
            "_view_module_version": "1.5.0",
            "_view_name": "TabView",
            "box_style": "",
            "children": [
              "IPY_MODEL_a41036087b2748998e8ef0a8ca127d6b",
              "IPY_MODEL_8855e3389b3a4377801e0fb67e12e981",
              "IPY_MODEL_ef7912dd1c0b4f6893ac5d85b557156b",
              "IPY_MODEL_fac371b3bf5b439eb89d49aa35a72425",
              "IPY_MODEL_1ab436d4a78944ddbca4545314d22c0a"
            ],
            "layout": "IPY_MODEL_82d2b68c43d240a287c4b6daefcdd23f",
            "selected_index": 0
          }
        },
        "3bceb5b0bd884119889e664ef592cb45": {
          "model_module": "@jupyter-widgets/base",
          "model_name": "LayoutModel",
          "model_module_version": "1.2.0",
          "state": {
            "_model_module": "@jupyter-widgets/base",
            "_model_module_version": "1.2.0",
            "_model_name": "LayoutModel",
            "_view_count": null,
            "_view_module": "@jupyter-widgets/base",
            "_view_module_version": "1.2.0",
            "_view_name": "LayoutView",
            "align_content": null,
            "align_items": null,
            "align_self": null,
            "border": "4px solid #000000",
            "bottom": null,
            "display": null,
            "flex": null,
            "flex_flow": null,
            "grid_area": null,
            "grid_auto_columns": null,
            "grid_auto_flow": null,
            "grid_auto_rows": null,
            "grid_column": null,
            "grid_gap": null,
            "grid_row": null,
            "grid_template_areas": null,
            "grid_template_columns": null,
            "grid_template_rows": null,
            "height": null,
            "justify_content": null,
            "justify_items": null,
            "left": null,
            "margin": null,
            "max_height": "650px",
            "max_width": null,
            "min_height": "650px",
            "min_width": null,
            "object_fit": null,
            "object_position": null,
            "order": null,
            "overflow": null,
            "overflow_x": null,
            "overflow_y": "hidden",
            "padding": null,
            "right": null,
            "top": null,
            "visibility": null,
            "width": null
          }
        },
        "1f8a91f6c189415ca5f4a17deb67b0af": {
          "model_module": "@jupyter-widgets/base",
          "model_name": "LayoutModel",
          "model_module_version": "1.2.0",
          "state": {
            "_model_module": "@jupyter-widgets/base",
            "_model_module_version": "1.2.0",
            "_model_name": "LayoutModel",
            "_view_count": null,
            "_view_module": "@jupyter-widgets/base",
            "_view_module_version": "1.2.0",
            "_view_name": "LayoutView",
            "align_content": null,
            "align_items": null,
            "align_self": null,
            "border": null,
            "bottom": null,
            "display": null,
            "flex": null,
            "flex_flow": null,
            "grid_area": null,
            "grid_auto_columns": null,
            "grid_auto_flow": null,
            "grid_auto_rows": null,
            "grid_column": null,
            "grid_gap": null,
            "grid_row": null,
            "grid_template_areas": null,
            "grid_template_columns": null,
            "grid_template_rows": null,
            "height": null,
            "justify_content": null,
            "justify_items": null,
            "left": null,
            "margin": "0px 0px 0px 0px",
            "max_height": null,
            "max_width": null,
            "min_height": null,
            "min_width": null,
            "object_fit": null,
            "object_position": null,
            "order": null,
            "overflow": null,
            "overflow_x": null,
            "overflow_y": null,
            "padding": null,
            "right": null,
            "top": null,
            "visibility": null,
            "width": null
          }
        },
        "904892e1b4e9485794d07e8726aea379": {
          "model_module": "@jupyter-widgets/controls",
          "model_name": "DescriptionStyleModel",
          "model_module_version": "1.5.0",
          "state": {
            "_model_module": "@jupyter-widgets/controls",
            "_model_module_version": "1.5.0",
            "_model_name": "DescriptionStyleModel",
            "_view_count": null,
            "_view_module": "@jupyter-widgets/base",
            "_view_module_version": "1.2.0",
            "_view_name": "StyleView",
            "description_width": ""
          }
        },
        "a41036087b2748998e8ef0a8ca127d6b": {
          "model_module": "@jupyter-widgets/controls",
          "model_name": "GridBoxModel",
          "model_module_version": "1.5.0",
          "state": {
            "_dom_classes": [],
            "_model_module": "@jupyter-widgets/controls",
            "_model_module_version": "1.5.0",
            "_model_name": "GridBoxModel",
            "_view_count": null,
            "_view_module": "@jupyter-widgets/controls",
            "_view_module_version": "1.5.0",
            "_view_name": "GridBoxView",
            "box_style": "",
            "children": [
              "IPY_MODEL_2bf506ad6cf444688ab345ed72b2e1d5",
              "IPY_MODEL_00e98b6fad3c47219c52fa73f7898d55",
              "IPY_MODEL_9a77063c5f744e5798a11c5651120192"
            ],
            "layout": "IPY_MODEL_16af1d1d576e4fcea144e4640a60d2db"
          }
        },
        "8855e3389b3a4377801e0fb67e12e981": {
          "model_module": "@jupyter-widgets/controls",
          "model_name": "VBoxModel",
          "model_module_version": "1.5.0",
          "state": {
            "_dom_classes": [],
            "_model_module": "@jupyter-widgets/controls",
            "_model_module_version": "1.5.0",
            "_model_name": "VBoxModel",
            "_view_count": null,
            "_view_module": "@jupyter-widgets/controls",
            "_view_module_version": "1.5.0",
            "_view_name": "VBoxView",
            "box_style": "",
            "children": [
              "IPY_MODEL_6d2b76c6e1bb46569b62f635a11823f9",
              "IPY_MODEL_d66b6ce54ffe42a5b6de3b46b70b2233"
            ],
            "layout": "IPY_MODEL_603de3bb641e418cb6cfb6d3bb1fd057"
          }
        },
        "ef7912dd1c0b4f6893ac5d85b557156b": {
          "model_module": "@jupyter-widgets/controls",
          "model_name": "GridBoxModel",
          "model_module_version": "1.5.0",
          "state": {
            "_dom_classes": [],
            "_model_module": "@jupyter-widgets/controls",
            "_model_module_version": "1.5.0",
            "_model_name": "GridBoxModel",
            "_view_count": null,
            "_view_module": "@jupyter-widgets/controls",
            "_view_module_version": "1.5.0",
            "_view_name": "GridBoxView",
            "box_style": "",
            "children": [
              "IPY_MODEL_ef8286dfe28445b58139101c1e64bce8",
              "IPY_MODEL_5757c0f499204e0ba91c8efa08633b13",
              "IPY_MODEL_d775e52616de4475b4131d720142b5e3",
              "IPY_MODEL_5bf36374475a494594e3759fdbcbdcfa"
            ],
            "layout": "IPY_MODEL_343fba1f4926485a9358210240a16e7b"
          }
        },
        "fac371b3bf5b439eb89d49aa35a72425": {
          "model_module": "@jupyter-widgets/output",
          "model_name": "OutputModel",
          "model_module_version": "1.0.0",
          "state": {
            "_dom_classes": [],
            "_model_module": "@jupyter-widgets/output",
            "_model_module_version": "1.0.0",
            "_model_name": "OutputModel",
            "_view_count": null,
            "_view_module": "@jupyter-widgets/output",
            "_view_module_version": "1.0.0",
            "_view_name": "OutputView",
            "layout": "IPY_MODEL_6738c1b8a60c41ffa7cc43a3ceeb7b91",
            "msg_id": "",
            "outputs": [
              {
                "output_type": "display_data",
                "data": {
                  "text/plain": "<Figure size 792x648 with 5 Axes>",
                  "image/png": "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\n"
                },
                "metadata": {}
              }
            ]
          }
        },
        "1ab436d4a78944ddbca4545314d22c0a": {
          "model_module": "@jupyter-widgets/controls",
          "model_name": "TabModel",
          "model_module_version": "1.5.0",
          "state": {
            "_dom_classes": [],
            "_model_module": "@jupyter-widgets/controls",
            "_model_module_version": "1.5.0",
            "_model_name": "TabModel",
            "_titles": {},
            "_view_count": null,
            "_view_module": "@jupyter-widgets/controls",
            "_view_module_version": "1.5.0",
            "_view_name": "TabView",
            "box_style": "",
            "children": [],
            "layout": "IPY_MODEL_faa543ca5226485885f17b6ae3b2489d",
            "selected_index": 0
          }
        },
        "82d2b68c43d240a287c4b6daefcdd23f": {
          "model_module": "@jupyter-widgets/base",
          "model_name": "LayoutModel",
          "model_module_version": "1.2.0",
          "state": {
            "_model_module": "@jupyter-widgets/base",
            "_model_module_version": "1.2.0",
            "_model_name": "LayoutModel",
            "_view_count": null,
            "_view_module": "@jupyter-widgets/base",
            "_view_module_version": "1.2.0",
            "_view_name": "LayoutView",
            "align_content": null,
            "align_items": null,
            "align_self": null,
            "border": null,
            "bottom": null,
            "display": null,
            "flex": null,
            "flex_flow": null,
            "grid_area": null,
            "grid_auto_columns": null,
            "grid_auto_flow": null,
            "grid_auto_rows": null,
            "grid_column": null,
            "grid_gap": null,
            "grid_row": null,
            "grid_template_areas": null,
            "grid_template_columns": null,
            "grid_template_rows": null,
            "height": null,
            "justify_content": null,
            "justify_items": null,
            "left": null,
            "margin": null,
            "max_height": null,
            "max_width": null,
            "min_height": null,
            "min_width": null,
            "object_fit": null,
            "object_position": null,
            "order": null,
            "overflow": null,
            "overflow_x": null,
            "overflow_y": "scroll",
            "padding": null,
            "right": null,
            "top": null,
            "visibility": null,
            "width": null
          }
        },
        "2bf506ad6cf444688ab345ed72b2e1d5": {
          "model_module": "@jupyter-widgets/controls",
          "model_name": "HTMLMathModel",
          "model_module_version": "1.5.0",
          "state": {
            "_dom_classes": [],
            "_model_module": "@jupyter-widgets/controls",
            "_model_module_version": "1.5.0",
            "_model_name": "HTMLMathModel",
            "_view_count": null,
            "_view_module": "@jupyter-widgets/controls",
            "_view_module_version": "1.5.0",
            "_view_name": "HTMLMathView",
            "description": "",
            "description_tooltip": null,
            "layout": "IPY_MODEL_091e17a132494e54aa0fc94ffe2ec222",
            "placeholder": "​",
            "style": "IPY_MODEL_dff88741f32d44c184b1db60f91da4bf",
            "value": "<table><style>\ntable {\n    border-collapse: collapse;\n    width: auto;\n}\n\nth, td {\n    text-align: left;\n    padding: 8px;\n}\n\ntr:nth-child(even) {background-color: #f6f6f6;}\n</style><tr><th>Property</th><th>Value</th></tr><tr><td><font style='font-weight:bold'>n_qubits</font></td><td>5</td></tr><tr><td><font style='font-weight:bold'>quantum_volume</font></td><td>16</td></tr><tr><td><font style='font-weight:bold'>operational</font></td><td>True</td></tr><tr><td><font style='font-weight:bold'>status_msg</font></td><td></td></tr><tr><td><font style='font-weight:bold'>pending_jobs</font></td><td>0</td></tr><tr><td><font style='font-weight:bold'>backend_version</font></td><td>1.0.8</td></tr><tr><td><font style='font-weight:bold'>basis_gates</font></td><td>['id', 'rz', 'sx', 'x', 'cx', 'reset']</td></tr><tr><td><font style='font-weight:bold'>max_shots</font></td><td>8192</td></tr><tr><td><font style='font-weight:bold'>max_experiments</font></td><td>900</td></tr></table>"
          }
        },
        "00e98b6fad3c47219c52fa73f7898d55": {
          "model_module": "@jupyter-widgets/output",
          "model_name": "OutputModel",
          "model_module_version": "1.0.0",
          "state": {
            "_dom_classes": [],
            "_model_module": "@jupyter-widgets/output",
            "_model_module_version": "1.0.0",
            "_model_name": "OutputModel",
            "_view_count": null,
            "_view_module": "@jupyter-widgets/output",
            "_view_module_version": "1.0.0",
            "_view_name": "OutputView",
            "layout": "IPY_MODEL_99a2e320ef484809bea54a08a13d0f7b",
            "msg_id": "",
            "outputs": [
              {
                "output_type": "display_data",
                "data": {
                  "text/plain": "<Figure size 360x360 with 1 Axes>",
                  "image/png": "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\n"
                },
                "metadata": {}
              }
            ]
          }
        },
        "9a77063c5f744e5798a11c5651120192": {
          "model_module": "@jupyter-widgets/controls",
          "model_name": "HTMLMathModel",
          "model_module_version": "1.5.0",
          "state": {
            "_dom_classes": [],
            "_model_module": "@jupyter-widgets/controls",
            "_model_module_version": "1.5.0",
            "_model_name": "HTMLMathModel",
            "_view_count": null,
            "_view_module": "@jupyter-widgets/controls",
            "_view_module_version": "1.5.0",
            "_view_name": "HTMLMathView",
            "description": "",
            "description_tooltip": null,
            "layout": "IPY_MODEL_bf93db9054c24c63800cc8fd28b2dcb4",
            "placeholder": "​",
            "style": "IPY_MODEL_0586de3f1ff64f6bba9fa06a5d949e7e",
            "value": "<table><style>\ntable {\n    border-collapse: collapse;\n    width: auto;\n}\n\nth, td {\n    text-align: left;\n    padding: 8px;\n}\n\ntr:nth-child(even) {background-color: #f6f6f6;}\n</style><tr><th></th><th></th></tr><tr><td>acquisition_latency</td><td>[]</td></tr><tr><td>sample_name</td><td>family: Falcon, revision: 4, segment: T</td></tr><tr><td>conditional_latency</td><td>[]</td></tr><tr><td>u_channel_lo</td><td>[[{'q': 1, 'scale': (1+0j)}], [{'q': 0, 'scale': (1+0j)}], [{'q': 2, 'scale': (1+0j)}], [{'q': 3, 'scale': (1+0j)}], [{'q': 1, 'scale': (1+0j)}], [{'q': 1, 'scale': (1+0j)}], [{'q': 4, 'scale': (1+0j)}], [{'q': 3, 'scale': (1+0j)}]]</td></tr><tr><td>online_date</td><td>2021-01-08 05:00:00+00:00</td></tr><tr><td>allow_q_object</td><td>True</td></tr><tr><td>meas_kernels</td><td>['hw_boxcar']</td></tr><tr><td>uchannels_enabled</td><td>True</td></tr><tr><td>channels</td><td>{'acquire0': {'operates': {'qubits': [0]}, 'purpose': 'acquire', 'type': 'acquire'}, 'acquire1': {'operates': {'qubits': [1]}, 'purpose': 'acquire', 'type': 'acquire'}, 'acquire2': {'operates': {'qubits': [2]}, 'purpose': 'acquire', 'type': 'acquire'}, 'acquire3': {'operates': {'qubits': [3]}, 'purpose': 'acquire', 'type': 'acquire'}, 'acquire4': {'operates': {'qubits': [4]}, 'purpose': 'acquire', 'type': 'acquire'}, 'd0': {'operates': {'qubits': [0]}, 'purpose': 'drive', 'type': 'drive'}, 'd1': {'operates': {'qubits': [1]}, 'purpose': 'drive', 'type': 'drive'}, 'd2': {'operates': {'qubits': [2]}, 'purpose': 'drive', 'type': 'drive'}, 'd3': {'operates': {'qubits': [3]}, 'purpose': 'drive', 'type': 'drive'}, 'd4': {'operates': {'qubits': [4]}, 'purpose': 'drive', 'type': 'drive'}, 'm0': {'operates': {'qubits': [0]}, 'purpose': 'measure', 'type': 'measure'}, 'm1': {'operates': {'qubits': [1]}, 'purpose': 'measure', 'type': 'measure'}, 'm2': {'operates': {'qubits': [2]}, 'purpose': 'measure', 'type': 'measure'}, 'm3': {'operates': {'qubits': [3]}, 'purpose': 'measure', 'type': 'measure'}, 'm4': {'operates': {'qubits': [4]}, 'purpose': 'measure', 'type': 'measure'}, 'u0': {'operates': {'qubits': [0, 1]}, 'purpose': 'cross-resonance', 'type': 'control'}, 'u1': {'operates': {'qubits': [1, 0]}, 'purpose': 'cross-resonance', 'type': 'control'}, 'u2': {'operates': {'qubits': [1, 2]}, 'purpose': 'cross-resonance', 'type': 'control'}, 'u3': {'operates': {'qubits': [1, 3]}, 'purpose': 'cross-resonance', 'type': 'control'}, 'u4': {'operates': {'qubits': [2, 1]}, 'purpose': 'cross-resonance', 'type': 'control'}, 'u5': {'operates': {'qubits': [3, 1]}, 'purpose': 'cross-resonance', 'type': 'control'}, 'u6': {'operates': {'qubits': [3, 4]}, 'purpose': 'cross-resonance', 'type': 'control'}, 'u7': {'operates': {'qubits': [4, 3]}, 'purpose': 'cross-resonance', 'type': 'control'}}</td></tr><tr><td>local</td><td>False</td></tr><tr><td>rep_times</td><td>[1000.0]</td></tr><tr><td>url</td><td>None</td></tr><tr><td>dtm</td><td>0.2222222222222222</td></tr><tr><td>supported_instructions</td><td>['rz', 'u2', 'acquire', 'cx', 'x', 'setf', 'shiftf', 'id', 'measure', 'sx', 'play', 'u3', 'u1', 'delay', 'reset']</td></tr><tr><td>description</td><td>5 qubit device Quito</td></tr><tr><td>n_uchannels</td><td>8</td></tr><tr><td>multi_meas_enabled</td><td>True</td></tr><tr><td>hamiltonian</td><td>$$\\begin{align} \\mathcal{H}/\\hbar = & \\sum_{i=0}^{4}\\left(\\frac{\\omega_{q,i}}{2}(\\mathbb{I}-\\sigma_i^{z})+\\frac{\\Delta_{i}}{2}(O_i^2-O_i)+\\Omega_{d,i}D_i(t)\\sigma_i^{X}\\right) \\\\ & + J_{0,1}(\\sigma_{0}^{+}\\sigma_{1}^{-}+\\sigma_{0}^{-}\\sigma_{1}^{+}) + J_{1,3}(\\sigma_{1}^{+}\\sigma_{3}^{-}+\\sigma_{1}^{-}\\sigma_{3}^{+}) + J_{3,4}(\\sigma_{3}^{+}\\sigma_{4}^{-}+\\sigma_{3}^{-}\\sigma_{4}^{+}) + J_{1,2}(\\sigma_{1}^{+}\\sigma_{2}^{-}+\\sigma_{1}^{-}\\sigma_{2}^{+}) \\\\ & + \\Omega_{d,0}(U_{0}^{(0,1)}(t))\\sigma_{0}^{X} + \\Omega_{d,1}(U_{1}^{(1,0)}(t)+U_{3}^{(1,3)}(t)+U_{2}^{(1,2)}(t))\\sigma_{1}^{X} \\\\ & + \\Omega_{d,2}(U_{4}^{(2,1)}(t))\\sigma_{2}^{X} + \\Omega_{d,3}(U_{5}^{(3,1)}(t)+U_{6}^{(3,4)}(t))\\sigma_{3}^{X} \\\\ & + \\Omega_{d,4}(U_{7}^{(4,3)}(t))\\sigma_{4}^{X} \\\\ \\end{align}$$</td></tr><tr><td>credits_required</td><td>True</td></tr><tr><td>dt</td><td>0.2222222222222222</td></tr><tr><td>discriminators</td><td>['quadratic_discriminator', 'linear_discriminator', 'hw_centroid']</td></tr><tr><td>qubit_lo_range</td><td>[[4.800357189009302, 5.800357189009302], [4.5808072105602875, 5.5808072105602875], [4.822280154421151, 5.822280154421151], [4.663751852649357, 5.663751852649357], [4.552591551254356, 5.552591551254356]]</td></tr><tr><td>memory</td><td>True</td></tr><tr><td>conditional</td><td>False</td></tr><tr><td>parametric_pulses</td><td>['gaussian', 'gaussian_square', 'drag', 'constant']</td></tr><tr><td>meas_lo_range</td><td>[[6.8078681570000015, 7.8078681570000015], [6.7292695270000005, 7.7292695270000005], [6.991060108, 7.991060108], [6.854751046000001, 7.854751046000001], [6.904365522000002, 7.904365522000002]]</td></tr><tr><td>backend_name</td><td>fake_quito</td></tr><tr><td>qubit_channel_mapping</td><td>[['m0', 'u0', 'u1', 'd0'], ['m1', 'u2', 'd1', 'u0', 'u4', 'u5', 'u1', 'u3'], ['u4', 'u2', 'd2', 'm2'], ['d3', 'm3', 'u7', 'u5', 'u6', 'u3'], ['u7', 'm4', 'd4', 'u6']]</td></tr><tr><td>simulator</td><td>False</td></tr><tr><td>default_rep_delay</td><td>250.0</td></tr><tr><td>allow_object_storage</td><td>True</td></tr><tr><td>rep_delay_range</td><td>[0.0, 500.0]</td></tr><tr><td>open_pulse</td><td>True</td></tr><tr><td>meas_levels</td><td>[1, 2]</td></tr><tr><td>n_registers</td><td>1</td></tr><tr><td>processor_type</td><td>{'family': 'Falcon', 'revision': 4, 'segment': 'T'}</td></tr><tr><td>meas_map</td><td>[[0, 1, 2, 3, 4]]</td></tr><tr><td>coupling_map</td><td>[[0, 1], [1, 0], [1, 2], [1, 3], [2, 1], [3, 1], [3, 4], [4, 3]]</td></tr><tr><td>dynamic_reprate_enabled</td><td>True</td></tr></table>"
          }
        },
        "16af1d1d576e4fcea144e4640a60d2db": {
          "model_module": "@jupyter-widgets/base",
          "model_name": "LayoutModel",
          "model_module_version": "1.2.0",
          "state": {
            "_model_module": "@jupyter-widgets/base",
            "_model_module_version": "1.2.0",
            "_model_name": "LayoutModel",
            "_view_count": null,
            "_view_module": "@jupyter-widgets/base",
            "_view_module_version": "1.2.0",
            "_view_name": "LayoutView",
            "align_content": null,
            "align_items": null,
            "align_self": null,
            "border": null,
            "bottom": null,
            "display": null,
            "flex": null,
            "flex_flow": null,
            "grid_area": null,
            "grid_auto_columns": null,
            "grid_auto_flow": null,
            "grid_auto_rows": null,
            "grid_column": null,
            "grid_gap": "0px 0px",
            "grid_row": null,
            "grid_template_areas": "\n                               \"left right right right\"\n                               \"bottom bottom bottom bottom\"\n                               ",
            "grid_template_columns": "31% 23% 23% 23%",
            "grid_template_rows": "auto auto",
            "height": null,
            "justify_content": null,
            "justify_items": null,
            "left": null,
            "margin": null,
            "max_height": null,
            "max_width": null,
            "min_height": null,
            "min_width": null,
            "object_fit": null,
            "object_position": null,
            "order": null,
            "overflow": null,
            "overflow_x": null,
            "overflow_y": null,
            "padding": null,
            "right": null,
            "top": null,
            "visibility": null,
            "width": null
          }
        },
        "6d2b76c6e1bb46569b62f635a11823f9": {
          "model_module": "@jupyter-widgets/controls",
          "model_name": "HTMLModel",
          "model_module_version": "1.5.0",
          "state": {
            "_dom_classes": [],
            "_model_module": "@jupyter-widgets/controls",
            "_model_module_version": "1.5.0",
            "_model_name": "HTMLModel",
            "_view_count": null,
            "_view_module": "@jupyter-widgets/controls",
            "_view_module_version": "1.5.0",
            "_view_name": "HTMLView",
            "description": "",
            "description_tooltip": null,
            "layout": "IPY_MODEL_5b44372d052348f88109e5018ea5044d",
            "placeholder": "​",
            "style": "IPY_MODEL_f3196da4add54b6fb33e32b9a42a368f",
            "value": "<div><font style='font-weight:bold'>last_update_date</font>: Mon 15 March 2021 at 00:39 </div>"
          }
        },
        "d66b6ce54ffe42a5b6de3b46b70b2233": {
          "model_module": "@jupyter-widgets/controls",
          "model_name": "HTMLModel",
          "model_module_version": "1.5.0",
          "state": {
            "_dom_classes": [],
            "_model_module": "@jupyter-widgets/controls",
            "_model_module_version": "1.5.0",
            "_model_name": "HTMLModel",
            "_view_count": null,
            "_view_module": "@jupyter-widgets/controls",
            "_view_module_version": "1.5.0",
            "_view_name": "HTMLView",
            "description": "",
            "description_tooltip": null,
            "layout": "IPY_MODEL_94e729720f2f42d4864fb7f6f3fde102",
            "placeholder": "​",
            "style": "IPY_MODEL_e8d2d16a90414ab08cde065dd4e26772",
            "value": "<table><style>\ntable {\n    border-collapse: collapse;\n    width: auto;\n}\n\nth, td {\n    text-align: left;\n    padding: 8px;\n}\n\ntr:nth-child(even) {background-color: #f6f6f6;}\n</style><tr><th></th><th>Frequency</th><th>T1</th><th>T2</th><th>RZ</th><th>SX</th><th>X</th><th>Readout error</th></tr><tr><td><font style='font-weight:bold'>Q0</font></td><td>5.30036 GHz</td><td>48.20666 us</td><td>26.81691 us</td><td>0</td><td>0.00026</td><td>0.00026</td><td>0.0443 </td><tr><td><font style='font-weight:bold'>Q1</font></td><td>5.08081 GHz</td><td>60.20257 us</td><td>89.0792 us</td><td>0</td><td>0.00232</td><td>0.00232</td><td>0.022 </td><tr><td><font style='font-weight:bold'>Q2</font></td><td>5.32228 GHz</td><td>30.09823 us</td><td>14.46075 us</td><td>0</td><td>0.0016</td><td>0.0016</td><td>0.1111 </td><tr><td><font style='font-weight:bold'>Q3</font></td><td>5.16375 GHz</td><td>70.56337 us</td><td>13.10259 us</td><td>0</td><td>0.00266</td><td>0.00266</td><td>0.045 </td><tr><td><font style='font-weight:bold'>Q4</font></td><td>5.05259 GHz</td><td>98.5 us</td><td>115.5193 us</td><td>0</td><td>0.00141</td><td>0.00141</td><td>0.031 </td></table>"
          }
        },
        "603de3bb641e418cb6cfb6d3bb1fd057": {
          "model_module": "@jupyter-widgets/base",
          "model_name": "LayoutModel",
          "model_module_version": "1.2.0",
          "state": {
            "_model_module": "@jupyter-widgets/base",
            "_model_module_version": "1.2.0",
            "_model_name": "LayoutModel",
            "_view_count": null,
            "_view_module": "@jupyter-widgets/base",
            "_view_module_version": "1.2.0",
            "_view_name": "LayoutView",
            "align_content": null,
            "align_items": null,
            "align_self": null,
            "border": null,
            "bottom": null,
            "display": null,
            "flex": null,
            "flex_flow": null,
            "grid_area": null,
            "grid_auto_columns": null,
            "grid_auto_flow": null,
            "grid_auto_rows": null,
            "grid_column": null,
            "grid_gap": null,
            "grid_row": null,
            "grid_template_areas": null,
            "grid_template_columns": null,
            "grid_template_rows": null,
            "height": null,
            "justify_content": null,
            "justify_items": null,
            "left": null,
            "margin": null,
            "max_height": null,
            "max_width": null,
            "min_height": null,
            "min_width": null,
            "object_fit": null,
            "object_position": null,
            "order": null,
            "overflow": null,
            "overflow_x": null,
            "overflow_y": null,
            "padding": null,
            "right": null,
            "top": null,
            "visibility": null,
            "width": null
          }
        },
        "ef8286dfe28445b58139101c1e64bce8": {
          "model_module": "@jupyter-widgets/controls",
          "model_name": "HTMLModel",
          "model_module_version": "1.5.0",
          "state": {
            "_dom_classes": [],
            "_model_module": "@jupyter-widgets/controls",
            "_model_module_version": "1.5.0",
            "_model_name": "HTMLModel",
            "_view_count": null,
            "_view_module": "@jupyter-widgets/controls",
            "_view_module_version": "1.5.0",
            "_view_name": "HTMLView",
            "description": "",
            "description_tooltip": null,
            "layout": "IPY_MODEL_701d5b44d7834d22a88ea0c645d3d381",
            "placeholder": "​",
            "style": "IPY_MODEL_66d2803b630347ab91cf37d5ca34ebb6",
            "value": "<div><font style='font-weight:bold'>last_update_date</font>: 2021-03-15 00:39:13-04:00</div>"
          }
        },
        "5757c0f499204e0ba91c8efa08633b13": {
          "model_module": "@jupyter-widgets/controls",
          "model_name": "HTMLModel",
          "model_module_version": "1.5.0",
          "state": {
            "_dom_classes": [],
            "_model_module": "@jupyter-widgets/controls",
            "_model_module_version": "1.5.0",
            "_model_name": "HTMLModel",
            "_view_count": null,
            "_view_module": "@jupyter-widgets/controls",
            "_view_module_version": "1.5.0",
            "_view_name": "HTMLView",
            "description": "",
            "description_tooltip": null,
            "layout": "IPY_MODEL_5bcb945b8780427997beb05c2b243d40",
            "placeholder": "​",
            "style": "IPY_MODEL_22196736cbbf43dbb8c486052a338a6e",
            "value": "<table><style>\ntable {\n    border-collapse: collapse;\n    width: auto;\n}\n\nth, td {\n    text-align: left;\n    padding: 8px;\n}\n\ntr:nth-child(even) {background-color: #f6f6f6;};\n</style><tr><th></th><th>Type</th><th>Gate error</th></tr><tr><td><font style='font-weight:bold'>cx3_4</font></td><td>cx</td><td>0.02973</td></tr><tr><td><font style='font-weight:bold'>cx4_3</font></td><td>cx</td><td>0.02973</td></tr><tr><td><font style='font-weight:bold'>cx1_3</font></td><td>cx</td><td>0.05645</td></tr></table>"
          }
        },
        "d775e52616de4475b4131d720142b5e3": {
          "model_module": "@jupyter-widgets/controls",
          "model_name": "HTMLModel",
          "model_module_version": "1.5.0",
          "state": {
            "_dom_classes": [],
            "_model_module": "@jupyter-widgets/controls",
            "_model_module_version": "1.5.0",
            "_model_name": "HTMLModel",
            "_view_count": null,
            "_view_module": "@jupyter-widgets/controls",
            "_view_module_version": "1.5.0",
            "_view_name": "HTMLView",
            "description": "",
            "description_tooltip": null,
            "layout": "IPY_MODEL_84efde6eb2f74cb9ba964ab20afaec5e",
            "placeholder": "​",
            "style": "IPY_MODEL_2348497f11ea4f2fa7817ec8fcbcd86e",
            "value": "<table><style>\ntable {\n    border-collapse: collapse;\n    width: auto;\n}\n\nth, td {\n    text-align: left;\n    padding: 8px;\n}\n\ntr:nth-child(even) {background-color: #f6f6f6;};\n</style><tr><th></th><th>Type</th><th>Gate error</th></tr><tr><td><font style='font-weight:bold'>cx3_1</font></td><td>cx</td><td>0.05645</td></tr><tr><td><font style='font-weight:bold'>cx1_2</font></td><td>cx</td><td>0.04197</td></tr><tr><td><font style='font-weight:bold'>cx2_1</font></td><td>cx</td><td>0.04197</td></tr></table>"
          }
        },
        "5bf36374475a494594e3759fdbcbdcfa": {
          "model_module": "@jupyter-widgets/controls",
          "model_name": "HTMLModel",
          "model_module_version": "1.5.0",
          "state": {
            "_dom_classes": [],
            "_model_module": "@jupyter-widgets/controls",
            "_model_module_version": "1.5.0",
            "_model_name": "HTMLModel",
            "_view_count": null,
            "_view_module": "@jupyter-widgets/controls",
            "_view_module_version": "1.5.0",
            "_view_name": "HTMLView",
            "description": "",
            "description_tooltip": null,
            "layout": "IPY_MODEL_08e2a4cc52714e3a9b62b74f337dfdf6",
            "placeholder": "​",
            "style": "IPY_MODEL_fdaa37e313284d89820869f80d8db3a0",
            "value": "<table><style>\ntable {\n    border-collapse: collapse;\n    width: auto;\n}\n\nth, td {\n    text-align: left;\n    padding: 8px;\n}\n\ntr:nth-child(even) {background-color: #f6f6f6;};\n</style><tr><th></th><th>Type</th><th>Gate error</th></tr><tr><td><font style='font-weight:bold'>cx0_1</font></td><td>cx</td><td>0.01327</td></tr><tr><td><font style='font-weight:bold'>cx1_0</font></td><td>cx</td><td>0.01327</td></tr></table>"
          }
        },
        "343fba1f4926485a9358210240a16e7b": {
          "model_module": "@jupyter-widgets/base",
          "model_name": "LayoutModel",
          "model_module_version": "1.2.0",
          "state": {
            "_model_module": "@jupyter-widgets/base",
            "_model_module_version": "1.2.0",
            "_model_name": "LayoutModel",
            "_view_count": null,
            "_view_module": "@jupyter-widgets/base",
            "_view_module_version": "1.2.0",
            "_view_name": "LayoutView",
            "align_content": null,
            "align_items": null,
            "align_self": null,
            "border": null,
            "bottom": null,
            "display": null,
            "flex": null,
            "flex_flow": null,
            "grid_area": null,
            "grid_auto_columns": null,
            "grid_auto_flow": null,
            "grid_auto_rows": null,
            "grid_column": null,
            "grid_gap": "0px 0px",
            "grid_row": null,
            "grid_template_areas": "\n                                                   \"top top top\"\n                                                   \"left middle right\"\n                                                   ",
            "grid_template_columns": "33% 33% 33%",
            "grid_template_rows": "auto auto",
            "height": null,
            "justify_content": null,
            "justify_items": null,
            "left": null,
            "margin": null,
            "max_height": null,
            "max_width": null,
            "min_height": null,
            "min_width": null,
            "object_fit": null,
            "object_position": null,
            "order": null,
            "overflow": null,
            "overflow_x": null,
            "overflow_y": null,
            "padding": null,
            "right": null,
            "top": null,
            "visibility": null,
            "width": null
          }
        },
        "faa543ca5226485885f17b6ae3b2489d": {
          "model_module": "@jupyter-widgets/base",
          "model_name": "LayoutModel",
          "model_module_version": "1.2.0",
          "state": {
            "_model_module": "@jupyter-widgets/base",
            "_model_module_version": "1.2.0",
            "_model_name": "LayoutModel",
            "_view_count": null,
            "_view_module": "@jupyter-widgets/base",
            "_view_module_version": "1.2.0",
            "_view_name": "LayoutView",
            "align_content": null,
            "align_items": null,
            "align_self": null,
            "border": null,
            "bottom": null,
            "display": null,
            "flex": null,
            "flex_flow": null,
            "grid_area": null,
            "grid_auto_columns": null,
            "grid_auto_flow": null,
            "grid_auto_rows": null,
            "grid_column": null,
            "grid_gap": null,
            "grid_row": null,
            "grid_template_areas": null,
            "grid_template_columns": null,
            "grid_template_rows": null,
            "height": null,
            "justify_content": null,
            "justify_items": null,
            "left": null,
            "margin": null,
            "max_height": "620px",
            "max_width": null,
            "min_height": null,
            "min_width": null,
            "object_fit": null,
            "object_position": null,
            "order": null,
            "overflow": null,
            "overflow_x": null,
            "overflow_y": null,
            "padding": null,
            "right": null,
            "top": null,
            "visibility": null,
            "width": null
          }
        },
        "091e17a132494e54aa0fc94ffe2ec222": {
          "model_module": "@jupyter-widgets/base",
          "model_name": "LayoutModel",
          "model_module_version": "1.2.0",
          "state": {
            "_model_module": "@jupyter-widgets/base",
            "_model_module_version": "1.2.0",
            "_model_name": "LayoutModel",
            "_view_count": null,
            "_view_module": "@jupyter-widgets/base",
            "_view_module_version": "1.2.0",
            "_view_name": "LayoutView",
            "align_content": null,
            "align_items": null,
            "align_self": null,
            "border": null,
            "bottom": null,
            "display": null,
            "flex": null,
            "flex_flow": null,
            "grid_area": "left",
            "grid_auto_columns": null,
            "grid_auto_flow": null,
            "grid_auto_rows": null,
            "grid_column": null,
            "grid_gap": null,
            "grid_row": null,
            "grid_template_areas": null,
            "grid_template_columns": null,
            "grid_template_rows": null,
            "height": null,
            "justify_content": null,
            "justify_items": null,
            "left": null,
            "margin": null,
            "max_height": null,
            "max_width": null,
            "min_height": null,
            "min_width": null,
            "object_fit": null,
            "object_position": null,
            "order": null,
            "overflow": null,
            "overflow_x": null,
            "overflow_y": null,
            "padding": null,
            "right": null,
            "top": null,
            "visibility": null,
            "width": "100%"
          }
        },
        "dff88741f32d44c184b1db60f91da4bf": {
          "model_module": "@jupyter-widgets/controls",
          "model_name": "DescriptionStyleModel",
          "model_module_version": "1.5.0",
          "state": {
            "_model_module": "@jupyter-widgets/controls",
            "_model_module_version": "1.5.0",
            "_model_name": "DescriptionStyleModel",
            "_view_count": null,
            "_view_module": "@jupyter-widgets/base",
            "_view_module_version": "1.2.0",
            "_view_name": "StyleView",
            "description_width": ""
          }
        },
        "bf93db9054c24c63800cc8fd28b2dcb4": {
          "model_module": "@jupyter-widgets/base",
          "model_name": "LayoutModel",
          "model_module_version": "1.2.0",
          "state": {
            "_model_module": "@jupyter-widgets/base",
            "_model_module_version": "1.2.0",
            "_model_name": "LayoutModel",
            "_view_count": null,
            "_view_module": "@jupyter-widgets/base",
            "_view_module_version": "1.2.0",
            "_view_name": "LayoutView",
            "align_content": null,
            "align_items": null,
            "align_self": null,
            "border": null,
            "bottom": null,
            "display": null,
            "flex": null,
            "flex_flow": null,
            "grid_area": "bottom",
            "grid_auto_columns": null,
            "grid_auto_flow": null,
            "grid_auto_rows": null,
            "grid_column": null,
            "grid_gap": null,
            "grid_row": null,
            "grid_template_areas": null,
            "grid_template_columns": null,
            "grid_template_rows": null,
            "height": null,
            "justify_content": null,
            "justify_items": null,
            "left": null,
            "margin": null,
            "max_height": null,
            "max_width": null,
            "min_height": null,
            "min_width": null,
            "object_fit": null,
            "object_position": null,
            "order": null,
            "overflow": null,
            "overflow_x": null,
            "overflow_y": null,
            "padding": null,
            "right": null,
            "top": null,
            "visibility": null,
            "width": "auto"
          }
        },
        "0586de3f1ff64f6bba9fa06a5d949e7e": {
          "model_module": "@jupyter-widgets/controls",
          "model_name": "DescriptionStyleModel",
          "model_module_version": "1.5.0",
          "state": {
            "_model_module": "@jupyter-widgets/controls",
            "_model_module_version": "1.5.0",
            "_model_name": "DescriptionStyleModel",
            "_view_count": null,
            "_view_module": "@jupyter-widgets/base",
            "_view_module_version": "1.2.0",
            "_view_name": "StyleView",
            "description_width": ""
          }
        },
        "5b44372d052348f88109e5018ea5044d": {
          "model_module": "@jupyter-widgets/base",
          "model_name": "LayoutModel",
          "model_module_version": "1.2.0",
          "state": {
            "_model_module": "@jupyter-widgets/base",
            "_model_module_version": "1.2.0",
            "_model_name": "LayoutModel",
            "_view_count": null,
            "_view_module": "@jupyter-widgets/base",
            "_view_module_version": "1.2.0",
            "_view_name": "LayoutView",
            "align_content": null,
            "align_items": null,
            "align_self": null,
            "border": null,
            "bottom": null,
            "display": null,
            "flex": null,
            "flex_flow": null,
            "grid_area": null,
            "grid_auto_columns": null,
            "grid_auto_flow": null,
            "grid_auto_rows": null,
            "grid_column": null,
            "grid_gap": null,
            "grid_row": null,
            "grid_template_areas": null,
            "grid_template_columns": null,
            "grid_template_rows": null,
            "height": null,
            "justify_content": null,
            "justify_items": null,
            "left": null,
            "margin": null,
            "max_height": null,
            "max_width": null,
            "min_height": null,
            "min_width": null,
            "object_fit": null,
            "object_position": null,
            "order": null,
            "overflow": null,
            "overflow_x": null,
            "overflow_y": null,
            "padding": null,
            "right": null,
            "top": null,
            "visibility": null,
            "width": null
          }
        },
        "f3196da4add54b6fb33e32b9a42a368f": {
          "model_module": "@jupyter-widgets/controls",
          "model_name": "DescriptionStyleModel",
          "model_module_version": "1.5.0",
          "state": {
            "_model_module": "@jupyter-widgets/controls",
            "_model_module_version": "1.5.0",
            "_model_name": "DescriptionStyleModel",
            "_view_count": null,
            "_view_module": "@jupyter-widgets/base",
            "_view_module_version": "1.2.0",
            "_view_name": "StyleView",
            "description_width": ""
          }
        },
        "94e729720f2f42d4864fb7f6f3fde102": {
          "model_module": "@jupyter-widgets/base",
          "model_name": "LayoutModel",
          "model_module_version": "1.2.0",
          "state": {
            "_model_module": "@jupyter-widgets/base",
            "_model_module_version": "1.2.0",
            "_model_name": "LayoutModel",
            "_view_count": null,
            "_view_module": "@jupyter-widgets/base",
            "_view_module_version": "1.2.0",
            "_view_name": "LayoutView",
            "align_content": null,
            "align_items": null,
            "align_self": null,
            "border": null,
            "bottom": null,
            "display": null,
            "flex": null,
            "flex_flow": null,
            "grid_area": null,
            "grid_auto_columns": null,
            "grid_auto_flow": null,
            "grid_auto_rows": null,
            "grid_column": null,
            "grid_gap": null,
            "grid_row": null,
            "grid_template_areas": null,
            "grid_template_columns": null,
            "grid_template_rows": null,
            "height": null,
            "justify_content": null,
            "justify_items": null,
            "left": null,
            "margin": null,
            "max_height": null,
            "max_width": null,
            "min_height": null,
            "min_width": null,
            "object_fit": null,
            "object_position": null,
            "order": null,
            "overflow": null,
            "overflow_x": null,
            "overflow_y": null,
            "padding": null,
            "right": null,
            "top": null,
            "visibility": null,
            "width": null
          }
        },
        "e8d2d16a90414ab08cde065dd4e26772": {
          "model_module": "@jupyter-widgets/controls",
          "model_name": "DescriptionStyleModel",
          "model_module_version": "1.5.0",
          "state": {
            "_model_module": "@jupyter-widgets/controls",
            "_model_module_version": "1.5.0",
            "_model_name": "DescriptionStyleModel",
            "_view_count": null,
            "_view_module": "@jupyter-widgets/base",
            "_view_module_version": "1.2.0",
            "_view_name": "StyleView",
            "description_width": ""
          }
        },
        "701d5b44d7834d22a88ea0c645d3d381": {
          "model_module": "@jupyter-widgets/base",
          "model_name": "LayoutModel",
          "model_module_version": "1.2.0",
          "state": {
            "_model_module": "@jupyter-widgets/base",
            "_model_module_version": "1.2.0",
            "_model_name": "LayoutModel",
            "_view_count": null,
            "_view_module": "@jupyter-widgets/base",
            "_view_module_version": "1.2.0",
            "_view_name": "LayoutView",
            "align_content": null,
            "align_items": null,
            "align_self": null,
            "border": null,
            "bottom": null,
            "display": null,
            "flex": null,
            "flex_flow": null,
            "grid_area": "top",
            "grid_auto_columns": null,
            "grid_auto_flow": null,
            "grid_auto_rows": null,
            "grid_column": null,
            "grid_gap": null,
            "grid_row": null,
            "grid_template_areas": null,
            "grid_template_columns": null,
            "grid_template_rows": null,
            "height": null,
            "justify_content": null,
            "justify_items": null,
            "left": null,
            "margin": null,
            "max_height": null,
            "max_width": null,
            "min_height": null,
            "min_width": null,
            "object_fit": null,
            "object_position": null,
            "order": null,
            "overflow": null,
            "overflow_x": null,
            "overflow_y": null,
            "padding": null,
            "right": null,
            "top": null,
            "visibility": null,
            "width": null
          }
        },
        "66d2803b630347ab91cf37d5ca34ebb6": {
          "model_module": "@jupyter-widgets/controls",
          "model_name": "DescriptionStyleModel",
          "model_module_version": "1.5.0",
          "state": {
            "_model_module": "@jupyter-widgets/controls",
            "_model_module_version": "1.5.0",
            "_model_name": "DescriptionStyleModel",
            "_view_count": null,
            "_view_module": "@jupyter-widgets/base",
            "_view_module_version": "1.2.0",
            "_view_name": "StyleView",
            "description_width": ""
          }
        },
        "5bcb945b8780427997beb05c2b243d40": {
          "model_module": "@jupyter-widgets/base",
          "model_name": "LayoutModel",
          "model_module_version": "1.2.0",
          "state": {
            "_model_module": "@jupyter-widgets/base",
            "_model_module_version": "1.2.0",
            "_model_name": "LayoutModel",
            "_view_count": null,
            "_view_module": "@jupyter-widgets/base",
            "_view_module_version": "1.2.0",
            "_view_name": "LayoutView",
            "align_content": null,
            "align_items": null,
            "align_self": null,
            "border": null,
            "bottom": null,
            "display": null,
            "flex": null,
            "flex_flow": null,
            "grid_area": "left",
            "grid_auto_columns": null,
            "grid_auto_flow": null,
            "grid_auto_rows": null,
            "grid_column": null,
            "grid_gap": null,
            "grid_row": null,
            "grid_template_areas": null,
            "grid_template_columns": null,
            "grid_template_rows": null,
            "height": null,
            "justify_content": null,
            "justify_items": null,
            "left": null,
            "margin": null,
            "max_height": null,
            "max_width": null,
            "min_height": null,
            "min_width": null,
            "object_fit": null,
            "object_position": null,
            "order": null,
            "overflow": null,
            "overflow_x": null,
            "overflow_y": null,
            "padding": null,
            "right": null,
            "top": null,
            "visibility": null,
            "width": null
          }
        },
        "22196736cbbf43dbb8c486052a338a6e": {
          "model_module": "@jupyter-widgets/controls",
          "model_name": "DescriptionStyleModel",
          "model_module_version": "1.5.0",
          "state": {
            "_model_module": "@jupyter-widgets/controls",
            "_model_module_version": "1.5.0",
            "_model_name": "DescriptionStyleModel",
            "_view_count": null,
            "_view_module": "@jupyter-widgets/base",
            "_view_module_version": "1.2.0",
            "_view_name": "StyleView",
            "description_width": ""
          }
        },
        "84efde6eb2f74cb9ba964ab20afaec5e": {
          "model_module": "@jupyter-widgets/base",
          "model_name": "LayoutModel",
          "model_module_version": "1.2.0",
          "state": {
            "_model_module": "@jupyter-widgets/base",
            "_model_module_version": "1.2.0",
            "_model_name": "LayoutModel",
            "_view_count": null,
            "_view_module": "@jupyter-widgets/base",
            "_view_module_version": "1.2.0",
            "_view_name": "LayoutView",
            "align_content": null,
            "align_items": null,
            "align_self": null,
            "border": null,
            "bottom": null,
            "display": null,
            "flex": null,
            "flex_flow": null,
            "grid_area": "middle",
            "grid_auto_columns": null,
            "grid_auto_flow": null,
            "grid_auto_rows": null,
            "grid_column": null,
            "grid_gap": null,
            "grid_row": null,
            "grid_template_areas": null,
            "grid_template_columns": null,
            "grid_template_rows": null,
            "height": null,
            "justify_content": null,
            "justify_items": null,
            "left": null,
            "margin": null,
            "max_height": null,
            "max_width": null,
            "min_height": null,
            "min_width": null,
            "object_fit": null,
            "object_position": null,
            "order": null,
            "overflow": null,
            "overflow_x": null,
            "overflow_y": null,
            "padding": null,
            "right": null,
            "top": null,
            "visibility": null,
            "width": null
          }
        },
        "2348497f11ea4f2fa7817ec8fcbcd86e": {
          "model_module": "@jupyter-widgets/controls",
          "model_name": "DescriptionStyleModel",
          "model_module_version": "1.5.0",
          "state": {
            "_model_module": "@jupyter-widgets/controls",
            "_model_module_version": "1.5.0",
            "_model_name": "DescriptionStyleModel",
            "_view_count": null,
            "_view_module": "@jupyter-widgets/base",
            "_view_module_version": "1.2.0",
            "_view_name": "StyleView",
            "description_width": ""
          }
        },
        "08e2a4cc52714e3a9b62b74f337dfdf6": {
          "model_module": "@jupyter-widgets/base",
          "model_name": "LayoutModel",
          "model_module_version": "1.2.0",
          "state": {
            "_model_module": "@jupyter-widgets/base",
            "_model_module_version": "1.2.0",
            "_model_name": "LayoutModel",
            "_view_count": null,
            "_view_module": "@jupyter-widgets/base",
            "_view_module_version": "1.2.0",
            "_view_name": "LayoutView",
            "align_content": null,
            "align_items": null,
            "align_self": null,
            "border": null,
            "bottom": null,
            "display": null,
            "flex": null,
            "flex_flow": null,
            "grid_area": "right",
            "grid_auto_columns": null,
            "grid_auto_flow": null,
            "grid_auto_rows": null,
            "grid_column": null,
            "grid_gap": null,
            "grid_row": null,
            "grid_template_areas": null,
            "grid_template_columns": null,
            "grid_template_rows": null,
            "height": null,
            "justify_content": null,
            "justify_items": null,
            "left": null,
            "margin": null,
            "max_height": null,
            "max_width": null,
            "min_height": null,
            "min_width": null,
            "object_fit": null,
            "object_position": null,
            "order": null,
            "overflow": null,
            "overflow_x": null,
            "overflow_y": null,
            "padding": null,
            "right": null,
            "top": null,
            "visibility": null,
            "width": null
          }
        },
        "fdaa37e313284d89820869f80d8db3a0": {
          "model_module": "@jupyter-widgets/controls",
          "model_name": "DescriptionStyleModel",
          "model_module_version": "1.5.0",
          "state": {
            "_model_module": "@jupyter-widgets/controls",
            "_model_module_version": "1.5.0",
            "_model_name": "DescriptionStyleModel",
            "_view_count": null,
            "_view_module": "@jupyter-widgets/base",
            "_view_module_version": "1.2.0",
            "_view_name": "StyleView",
            "description_width": ""
          }
        },
        "6738c1b8a60c41ffa7cc43a3ceeb7b91": {
          "model_module": "@jupyter-widgets/base",
          "model_name": "LayoutModel",
          "model_module_version": "1.2.0",
          "state": {
            "_model_module": "@jupyter-widgets/base",
            "_model_module_version": "1.2.0",
            "_model_name": "LayoutModel",
            "_view_count": null,
            "_view_module": "@jupyter-widgets/base",
            "_view_module_version": "1.2.0",
            "_view_name": "LayoutView",
            "align_content": null,
            "align_items": "center",
            "align_self": null,
            "border": null,
            "bottom": null,
            "display": "flex-inline",
            "flex": null,
            "flex_flow": null,
            "grid_area": null,
            "grid_auto_columns": null,
            "grid_auto_flow": null,
            "grid_auto_rows": null,
            "grid_column": null,
            "grid_gap": null,
            "grid_row": null,
            "grid_template_areas": null,
            "grid_template_columns": null,
            "grid_template_rows": null,
            "height": null,
            "justify_content": null,
            "justify_items": null,
            "left": null,
            "margin": null,
            "max_height": null,
            "max_width": null,
            "min_height": null,
            "min_width": null,
            "object_fit": null,
            "object_position": null,
            "order": null,
            "overflow": null,
            "overflow_x": null,
            "overflow_y": null,
            "padding": null,
            "right": null,
            "top": null,
            "visibility": null,
            "width": null
          }
        },
        "99a2e320ef484809bea54a08a13d0f7b": {
          "model_module": "@jupyter-widgets/base",
          "model_name": "LayoutModel",
          "model_module_version": "1.2.0",
          "state": {
            "_model_module": "@jupyter-widgets/base",
            "_model_module_version": "1.2.0",
            "_model_name": "LayoutModel",
            "_view_count": null,
            "_view_module": "@jupyter-widgets/base",
            "_view_module_version": "1.2.0",
            "_view_name": "LayoutView",
            "align_content": null,
            "align_items": "center",
            "align_self": null,
            "border": null,
            "bottom": null,
            "display": "flex-inline",
            "flex": null,
            "flex_flow": null,
            "grid_area": "right",
            "grid_auto_columns": null,
            "grid_auto_flow": null,
            "grid_auto_rows": null,
            "grid_column": null,
            "grid_gap": null,
            "grid_row": null,
            "grid_template_areas": null,
            "grid_template_columns": null,
            "grid_template_rows": null,
            "height": null,
            "justify_content": null,
            "justify_items": null,
            "left": null,
            "margin": null,
            "max_height": "325px",
            "max_width": null,
            "min_height": null,
            "min_width": null,
            "object_fit": null,
            "object_position": null,
            "order": null,
            "overflow": null,
            "overflow_x": null,
            "overflow_y": null,
            "padding": "10px 10px 10px 10px",
            "right": null,
            "top": null,
            "visibility": null,
            "width": "auto"
          }
        }
      }
    },
    "accelerator": "GPU",
    "gpuClass": "standard"
  },
  "cells": [
    {
      "cell_type": "code",
      "source": [
        "from IPython.display import clear_output\n",
        "!pip install paddle-quantum\n",
        "!pip install qiskit\n",
        "# !pip install qiskit-experiments\n",
        "clear_output()"
      ],
      "metadata": {
        "id": "YFh7787qA0wb"
      },
      "execution_count": 2,
      "outputs": []
    },
    {
      "cell_type": "code",
      "source": [
        "from google.colab import drive\n",
        "drive.mount('/content/gdrive')"
      ],
      "metadata": {
        "colab": {
          "base_uri": "https://localhost:8080/"
        },
        "id": "KQEeGgCyiLAh",
        "outputId": "464c3f2b-32c8-4e77-8c3f-94748c3e28cf"
      },
      "execution_count": null,
      "outputs": [
        {
          "output_type": "stream",
          "name": "stdout",
          "text": [
            "Mounted at /content/gdrive\n"
          ]
        }
      ]
    },
    {
      "cell_type": "code",
      "source": [
        "! ls"
      ],
      "metadata": {
        "colab": {
          "base_uri": "https://localhost:8080/"
        },
        "id": "qT2wbs2Die1r",
        "outputId": "a8531943-5a72-4bb8-8342-b6d621011604"
      },
      "execution_count": null,
      "outputs": [
        {
          "output_type": "stream",
          "name": "stdout",
          "text": [
            "gdrive\tsample_data\n"
          ]
        }
      ]
    },
    {
      "cell_type": "code",
      "source": [
        "%cd gdrive/My Drive/qiskit-dynamics-backend_tutorial"
      ],
      "metadata": {
        "colab": {
          "base_uri": "https://localhost:8080/"
        },
        "id": "7inSCE_riuZI",
        "outputId": "f20a27be-8a1a-460e-a657-3d5b2d6a3aea"
      },
      "execution_count": null,
      "outputs": [
        {
          "output_type": "stream",
          "name": "stdout",
          "text": [
            "/content/gdrive/My Drive/qiskit-dynamics-backend_tutorial\n"
          ]
        }
      ]
    },
    {
      "cell_type": "code",
      "source": [
        "!git clone https://github.com/DanPuzzuoli/qiskit-dynamics.git"
      ],
      "metadata": {
        "colab": {
          "base_uri": "https://localhost:8080/"
        },
        "id": "QioHd-mui2c9",
        "outputId": "25dc8da3-33ee-401c-d9b0-6de3fff183c8"
      },
      "execution_count": null,
      "outputs": [
        {
          "output_type": "stream",
          "name": "stdout",
          "text": [
            "fatal: destination path 'qiskit-dynamics' already exists and is not an empty directory.\n"
          ]
        }
      ]
    },
    {
      "cell_type": "code",
      "source": [
        "!git switch backend_tutorial"
      ],
      "metadata": {
        "colab": {
          "base_uri": "https://localhost:8080/"
        },
        "id": "6dieX0RRkhuU",
        "outputId": "29343357-3864-4fb9-bf2c-00ab8bf31563"
      },
      "execution_count": null,
      "outputs": [
        {
          "output_type": "stream",
          "name": "stdout",
          "text": [
            "fatal: not a git repository (or any parent up to mount point /content)\n",
            "Stopping at filesystem boundary (GIT_DISCOVERY_ACROSS_FILESYSTEM not set).\n"
          ]
        }
      ]
    },
    {
      "cell_type": "code",
      "source": [
        "!python setup.py install"
      ],
      "metadata": {
        "colab": {
          "base_uri": "https://localhost:8080/"
        },
        "id": "FWXJzt3Ck6Qh",
        "outputId": "d6965a65-6c20-4f51-e3fd-9fc5761e34b6"
      },
      "execution_count": null,
      "outputs": [
        {
          "output_type": "stream",
          "name": "stdout",
          "text": [
            "python3: can't open file 'setup.py': [Errno 2] No such file or directory\n"
          ]
        }
      ]
    },
    {
      "cell_type": "code",
      "source": [
        "import qiskit.tools.jupyter\n",
        "%qiskit_version_table"
      ],
      "metadata": {
        "colab": {
          "base_uri": "https://localhost:8080/",
          "height": 324
        },
        "id": "de0IN_jPA7mm",
        "outputId": "f95ad8c4-8a78-4ce5-8f13-6b858b71fddd"
      },
      "execution_count": 3,
      "outputs": [
        {
          "output_type": "display_data",
          "data": {
            "text/plain": [
              "<IPython.core.display.HTML object>"
            ],
            "text/html": [
              "<h3>Version Information</h3><table><tr><th>Qiskit Software</th><th>Version</th></tr><tr><td><code>qiskit-terra</code></td><td>0.23.2</td></tr><tr><td><code>qiskit-aer</code></td><td>0.12.0</td></tr><tr><td><code>qiskit-ibmq-provider</code></td><td>0.20.2</td></tr><tr><td><code>qiskit</code></td><td>0.42.0</td></tr><tr><th>System information</th></tr><tr><td>Python version</td><td>3.9.16</td></tr><tr><td>Python compiler</td><td>GCC 9.4.0</td></tr><tr><td>Python build</td><td>main, Dec  7 2022 01:11:51</td></tr><tr><td>OS</td><td>Linux</td></tr><tr><td>CPUs</td><td>1</td></tr><tr><td>Memory (Gb)</td><td>12.681198120117188</td></tr><tr><td colspan='2'>Sat Mar 11 02:00:48 2023 UTC</td></tr></table>"
            ]
          },
          "metadata": {}
        }
      ]
    },
    {
      "cell_type": "code",
      "source": [
        "!pip install multiset"
      ],
      "metadata": {
        "colab": {
          "base_uri": "https://localhost:8080/"
        },
        "id": "g1hxiy-9m3yE",
        "outputId": "1c976d65-241f-435f-e583-1537b712324b"
      },
      "execution_count": null,
      "outputs": [
        {
          "output_type": "stream",
          "name": "stdout",
          "text": [
            "Looking in indexes: https://pypi.org/simple, https://us-python.pkg.dev/colab-wheels/public/simple/\n",
            "Collecting multiset\n",
            "  Downloading multiset-3.0.1-py2.py3-none-any.whl (9.6 kB)\n",
            "Installing collected packages: multiset\n",
            "Successfully installed multiset-3.0.1\n"
          ]
        }
      ]
    },
    {
      "cell_type": "code",
      "source": [
        "import qiskit\n",
        "import numpy as np\n",
        "from qiskit.circuit.library import TwoLocal, RealAmplitudes\n",
        "from qiskit import pulse, QuantumCircuit,circuit,transpile\n",
        "from qiskit.circuit import Gate\n",
        "from qiskit.pulse import library, Schedule,GaussianSquare, ControlChannel, Play, Drag,DriveChannel,Delay,DriveChannel, SymbolicPulse, ShiftPhase\n",
        "from qiskit.pulse import transforms\n",
        "from qiskit.pulse.transforms import block_to_schedule,remove_directives\n",
        "from qiskit.pulse import filters\n",
        "from qiskit.pulse.filters import composite_filter, filter_instructions\n",
        "from typing import List, Tuple, Iterable, Union, Dict, Callable, Set, Optional, Any\n",
        "from qiskit.tools.visualization import circuit_drawer\n",
        "from qiskit.visualization.pulse_v2 import draw, IQXSimple,IQXDebugging\n",
        "from qiskit.compiler import assemble, schedule\n",
        "from qiskit import IBMQ"
      ],
      "metadata": {
        "id": "knX5iOLAA7vo"
      },
      "execution_count": 4,
      "outputs": []
    },
    {
      "cell_type": "code",
      "source": [
        "from qiskit.providers.fake_provider.backends.athens.fake_athens import FakeAthens\n",
        "import copy\n",
        "import qiskit\n",
        "# import multiset\n",
        "from qiskit.circuit.parameterexpression import ParameterValueType\n",
        "from qiskit.circuit import QuantumCircuit, Parameter\n",
        "from qiskit import pulse, QuantumCircuit, IBMQ, visualization,execute, Aer\n",
        "from qiskit.pulse import library\n",
        "from qiskit.visualization.pulse_v2.stylesheet import IQXDebugging\n",
        "from qiskit.visualization.pulse_v2 import draw\n",
        "from qiskit.providers.fake_provider import FakeQuito, FakeBelem, FakeSantiago, FakeManila, FakeLagos, FakeLima,FakeJakarta, FakeAthens\n",
        "from qiskit.pulse import transforms\n",
        "from qiskit.pulse.transforms import block_to_schedule\n",
        "from qiskit.pulse import filters\n",
        "from qiskit.pulse.filters import composite_filter, filter_instructions\n",
        "from typing import List, Tuple, Iterable, Union, Dict, Callable, Set, Optional, Any\n",
        "from qiskit.pulse.instructions import Instruction\n",
        "from qiskit.compiler import assemble, schedule\n",
        "from qiskit.providers.aer.pulse import PulseSystemModel\n",
        "from qiskit.providers.aer import PulseSimulator\n",
        "# from qiskit_dynamics import Solver, DynamicsBackend"
      ],
      "metadata": {
        "id": "WnOhOrZdA2MV"
      },
      "execution_count": 5,
      "outputs": []
    },
    {
      "cell_type": "code",
      "source": [
        "backend = FakeQuito()"
      ],
      "metadata": {
        "id": "bX4Fi0-sA5cA"
      },
      "execution_count": 6,
      "outputs": []
    },
    {
      "cell_type": "code",
      "source": [
        "backend_run = DynamicsBackend.from_backend(backend)\n"
      ],
      "metadata": {
        "id": "z6dfHF8Oo2Z9",
        "colab": {
          "base_uri": "https://localhost:8080/",
          "height": 169
        },
        "outputId": "45db6020-05b8-4562-8aa4-57446ebc7245"
      },
      "execution_count": null,
      "outputs": [
        {
          "output_type": "error",
          "ename": "NameError",
          "evalue": "ignored",
          "traceback": [
            "\u001b[0;31m---------------------------------------------------------------------------\u001b[0m",
            "\u001b[0;31mNameError\u001b[0m                                 Traceback (most recent call last)",
            "\u001b[0;32m<ipython-input-28-c8b19c63f4d1>\u001b[0m in \u001b[0;36m<module>\u001b[0;34m\u001b[0m\n\u001b[0;32m----> 1\u001b[0;31m \u001b[0mbackend_run\u001b[0m \u001b[0;34m=\u001b[0m \u001b[0mDynamicsBackend\u001b[0m\u001b[0;34m.\u001b[0m\u001b[0mfrom_backend\u001b[0m\u001b[0;34m(\u001b[0m\u001b[0mbackend\u001b[0m\u001b[0;34m)\u001b[0m\u001b[0;34m\u001b[0m\u001b[0;34m\u001b[0m\u001b[0m\n\u001b[0m",
            "\u001b[0;31mNameError\u001b[0m: name 'DynamicsBackend' is not defined"
          ]
        }
      ]
    },
    {
      "cell_type": "code",
      "source": [
        "mmap = backend.configuration().meas_map\n",
        "print(mmap)"
      ],
      "metadata": {
        "colab": {
          "base_uri": "https://localhost:8080/"
        },
        "id": "MzbcbMHF1cM9",
        "outputId": "a8ad3002-b96d-499f-f883-ced05e1fa780"
      },
      "execution_count": null,
      "outputs": [
        {
          "output_type": "stream",
          "name": "stdout",
          "text": [
            "[[0, 1, 2, 3, 4]]\n"
          ]
        }
      ]
    },
    {
      "cell_type": "code",
      "source": [
        "red_map = meas_map(mmap).reduce(mapping=[0,1])"
      ],
      "metadata": {
        "colab": {
          "base_uri": "https://localhost:8080/",
          "height": 165
        },
        "id": "j-oKF4Dn1zTK",
        "outputId": "2a4604cb-5629-45e0-9fb1-d9e6b9bf528c"
      },
      "execution_count": null,
      "outputs": [
        {
          "output_type": "error",
          "ename": "NameError",
          "evalue": "ignored",
          "traceback": [
            "\u001b[0;31m---------------------------------------------------------------------------\u001b[0m",
            "\u001b[0;31mNameError\u001b[0m                                 Traceback (most recent call last)",
            "\u001b[0;32m<ipython-input-9-a170b4826227>\u001b[0m in \u001b[0;36m<module>\u001b[0;34m\u001b[0m\n\u001b[0;32m----> 1\u001b[0;31m \u001b[0mred_map\u001b[0m \u001b[0;34m=\u001b[0m \u001b[0mmeas_map\u001b[0m\u001b[0;34m(\u001b[0m\u001b[0mmmap\u001b[0m\u001b[0;34m)\u001b[0m\u001b[0;34m.\u001b[0m\u001b[0mreduce\u001b[0m\u001b[0;34m(\u001b[0m\u001b[0mmapping\u001b[0m\u001b[0;34m=\u001b[0m\u001b[0;34m[\u001b[0m\u001b[0;36m0\u001b[0m\u001b[0;34m,\u001b[0m\u001b[0;36m1\u001b[0m\u001b[0;34m]\u001b[0m\u001b[0;34m)\u001b[0m\u001b[0;34m\u001b[0m\u001b[0;34m\u001b[0m\u001b[0m\n\u001b[0m",
            "\u001b[0;31mNameError\u001b[0m: name 'meas_map' is not defined"
          ]
        }
      ]
    },
    {
      "cell_type": "code",
      "source": [
        "backend.configuration().hamiltonian['qub'] = {'0': 2,'1': 2,'2': 2,'3': 2,'4': 2 }\n",
        "backend_model = PulseSystemModel.from_backend(backend)\n",
        "backend_sim = PulseSimulator(system_model=backend_model)\n",
        "backend_config = backend.configuration().to_dict()\n",
        "num_qubits = int(backend_config['n_qubits'])\n",
        "f = backend.properties().frequency\n",
        "freq = [f(i) for i in range(num_qubits)]"
      ],
      "metadata": {
        "id": "kRK45deem4bm",
        "colab": {
          "base_uri": "https://localhost:8080/"
        },
        "outputId": "d089866e-e80f-41d1-b5c0-dfcec3512fbf"
      },
      "execution_count": 7,
      "outputs": [
        {
          "output_type": "stream",
          "name": "stderr",
          "text": [
            "<ipython-input-7-d32ebac5a4ad>:3: DeprecationWarning: The Pulse simulator backend in Qiskit Aer is deprecated and will be removed in a future release. Instead the qiskit-dynamics library should be used instead for simulating at the pulse level.\n",
            "  backend_sim = PulseSimulator(system_model=backend_model)\n"
          ]
        }
      ]
    },
    {
      "cell_type": "code",
      "source": [
        "backend"
      ],
      "metadata": {
        "colab": {
          "base_uri": "https://localhost:8080/",
          "height": 722,
          "referenced_widgets": [
            "77db18d021244d0f9b475414da21533d",
            "964c7630e2614251ba30a8395c53a6d4",
            "643e4607049f41199cda7d2810bc3e9d",
            "3bceb5b0bd884119889e664ef592cb45",
            "1f8a91f6c189415ca5f4a17deb67b0af",
            "904892e1b4e9485794d07e8726aea379",
            "a41036087b2748998e8ef0a8ca127d6b",
            "8855e3389b3a4377801e0fb67e12e981",
            "ef7912dd1c0b4f6893ac5d85b557156b",
            "fac371b3bf5b439eb89d49aa35a72425",
            "1ab436d4a78944ddbca4545314d22c0a",
            "82d2b68c43d240a287c4b6daefcdd23f",
            "2bf506ad6cf444688ab345ed72b2e1d5",
            "00e98b6fad3c47219c52fa73f7898d55",
            "9a77063c5f744e5798a11c5651120192",
            "16af1d1d576e4fcea144e4640a60d2db",
            "6d2b76c6e1bb46569b62f635a11823f9",
            "d66b6ce54ffe42a5b6de3b46b70b2233",
            "603de3bb641e418cb6cfb6d3bb1fd057",
            "ef8286dfe28445b58139101c1e64bce8",
            "5757c0f499204e0ba91c8efa08633b13",
            "d775e52616de4475b4131d720142b5e3",
            "5bf36374475a494594e3759fdbcbdcfa",
            "343fba1f4926485a9358210240a16e7b",
            "faa543ca5226485885f17b6ae3b2489d",
            "091e17a132494e54aa0fc94ffe2ec222",
            "dff88741f32d44c184b1db60f91da4bf",
            "bf93db9054c24c63800cc8fd28b2dcb4",
            "0586de3f1ff64f6bba9fa06a5d949e7e",
            "5b44372d052348f88109e5018ea5044d",
            "f3196da4add54b6fb33e32b9a42a368f",
            "94e729720f2f42d4864fb7f6f3fde102",
            "e8d2d16a90414ab08cde065dd4e26772",
            "701d5b44d7834d22a88ea0c645d3d381",
            "66d2803b630347ab91cf37d5ca34ebb6",
            "5bcb945b8780427997beb05c2b243d40",
            "22196736cbbf43dbb8c486052a338a6e",
            "84efde6eb2f74cb9ba964ab20afaec5e",
            "2348497f11ea4f2fa7817ec8fcbcd86e",
            "08e2a4cc52714e3a9b62b74f337dfdf6",
            "fdaa37e313284d89820869f80d8db3a0",
            "6738c1b8a60c41ffa7cc43a3ceeb7b91",
            "99a2e320ef484809bea54a08a13d0f7b"
          ]
        },
        "id": "BJzsXwH2g4G-",
        "outputId": "f13ff80d-90f1-493a-d5c8-5d440862d174"
      },
      "execution_count": null,
      "outputs": [
        {
          "output_type": "stream",
          "name": "stderr",
          "text": [
            "/usr/local/lib/python3.8/dist-packages/ipywidgets/widgets/widget_layout.py:84: DeprecationWarning: Layout properties overflow_x and overflow_y have been deprecated and will be dropped in a future release. Please use the overflow shorthand property instead\n",
            "  warnings.warn(\"Layout properties overflow_x and overflow_y have been deprecated and will be dropped in a future release. Please use the overflow shorthand property instead\", DeprecationWarning)\n"
          ]
        },
        {
          "output_type": "display_data",
          "data": {
            "text/plain": [
              "VBox(children=(HTML(value=\"<h1 style='color:#ffffff;background-color:#000000;padding-top: 1%;padding-bottom: 1…"
            ],
            "application/vnd.jupyter.widget-view+json": {
              "version_major": 2,
              "version_minor": 0,
              "model_id": "77db18d021244d0f9b475414da21533d"
            }
          },
          "metadata": {}
        },
        {
          "output_type": "execute_result",
          "data": {
            "text/plain": [
              "<FakeQuito('fake_quito')>"
            ]
          },
          "metadata": {},
          "execution_count": 27
        }
      ]
    },
    {
      "cell_type": "markdown",
      "source": [
        "# 1. Prepare Pulses\n"
      ],
      "metadata": {
        "id": "CTUvsHzUBvpB"
      }
    },
    {
      "cell_type": "markdown",
      "source": [
        "## 1.1 CR\n",
        "\n",
        "\n"
      ],
      "metadata": {
        "id": "QXbZ6zQJi87V"
      }
    },
    {
      "cell_type": "code",
      "source": [
        "def generate_2q_pulsewithmeasure(backend, amp, angle):\n",
        "  qubits = (0,1)\n",
        "  backend_defaults = backend.defaults()\n",
        "  inst_sched_map = backend_defaults.instruction_schedule_map \n",
        "  cr_pulse = inst_sched_map.get('cx', (0, 1)).filter(channels = [ControlChannel(0)], instruction_types=[Play]).instructions[0][1].pulse\n",
        "  angle_parameter = angle\n",
        "  duration_parameter = cr_pulse.parameters['duration']\n",
        "  sigma_parameter = cr_pulse.parameters['sigma']\n",
        "  width_parameter = cr_pulse.parameters['width']\n",
        "  #declare pulse parameters and build GaussianSquare pulse\n",
        "  cr_params = {}\n",
        "  cr_params['duration'] = duration_parameter\n",
        "  cr_params['amp'] = amp\n",
        "  cr_params['angle'] = angle_parameter\n",
        "  cr_params['sigma'] = sigma_parameter\n",
        "  cr_params['width'] = width_parameter\n",
        "  with pulse.build(backend) as pulse_x:\n",
        "    pulse.play(GaussianSquare(**cr_params), ControlChannel(0))\n",
        "    pulse.barrier(0)\n",
        "    pulse.measure(qubits)\n",
        "\n",
        "  return block_to_schedule(pulse_x)"
      ],
      "metadata": {
        "id": "LcErWOu5BuRh"
      },
      "execution_count": null,
      "outputs": []
    },
    {
      "cell_type": "code",
      "source": [
        "twoqpulse = generate_2q_pulsewithmeasure(backend, 0.1,0.1)"
      ],
      "metadata": {
        "id": "ynRgVDiKBzzc"
      },
      "execution_count": null,
      "outputs": []
    },
    {
      "cell_type": "code",
      "source": [
        "print(twoqpulse)"
      ],
      "metadata": {
        "colab": {
          "base_uri": "https://localhost:8080/"
        },
        "id": "ODePC_XAB5bf",
        "outputId": "a92c54c2-4474-4b08-8d34-8a3aeb6bf94a"
      },
      "execution_count": null,
      "outputs": [
        {
          "output_type": "stream",
          "name": "stdout",
          "text": [
            "Schedule((0, Play(GaussianSquare(duration=368, sigma=64, width=112, amp=0.1, angle=0.1), ControlChannel(0))), (368, RelativeBarrier(ControlChannel(1), DriveChannel(0), MeasureChannel(0), AcquireChannel(0), ControlChannel(0))), (368, Acquire(22400, AcquireChannel(0), MemorySlot(0))), (368, Acquire(22400, AcquireChannel(1), MemorySlot(1))), (368, Play(GaussianSquare(duration=22400, sigma=64, width=22144, amp=0.034, angle=0.5605318066844013, name='gaussian_square_d01b'), MeasureChannel(0), name='gaussian_square_d01b')), (368, Play(GaussianSquare(duration=22400, sigma=64, width=22144, amp=0.051, angle=-1.2712280855270208, name='gaussian_square_3048'), MeasureChannel(1), name='gaussian_square_3048')), (22768, TimeBlockade(1680, AcquireChannel(0))), (22768, TimeBlockade(1680, AcquireChannel(1))), (22768, Delay(1680, MeasureChannel(0))), (22768, Delay(1680, MeasureChannel(1))), name=\"block1759\")\n"
          ]
        }
      ]
    },
    {
      "cell_type": "code",
      "source": [
        "twoqpulse.draw()"
      ],
      "metadata": {
        "colab": {
          "base_uri": "https://localhost:8080/",
          "height": 373
        },
        "id": "3WHd0Vp2B9wY",
        "outputId": "0173d0c9-f820-40d5-dddf-a9c531aa5770"
      },
      "execution_count": null,
      "outputs": [
        {
          "output_type": "execute_result",
          "data": {
            "text/plain": [
              "<Figure size 936x378.956 with 1 Axes>"
            ],
            "image/png": "[encoded data removed]"
          },
          "metadata": {},
          "execution_count": 31
        }
      ]
    },
    {
      "cell_type": "markdown",
      "source": [
        "## 1.2 Minimal basis CR+1q"
      ],
      "metadata": {
        "id": "iqS7pLgRBldZ"
      }
    },
    {
      "cell_type": "code",
      "source": [
        "def generate_2q_pulse(backend, amp, angle):\n",
        "  backend_defaults = backend.defaults()\n",
        "  inst_sched_map = backend_defaults.instruction_schedule_map \n",
        "  cr_pulse = inst_sched_map.get('cx', (0, 1)).filter(channels = [ControlChannel(0)], instruction_types=[Play]).instructions[0][1].pulse\n",
        "  angle_parameter = angle\n",
        "  duration_parameter = cr_pulse.parameters['duration']\n",
        "  sigma_parameter = cr_pulse.parameters['sigma']\n",
        "  width_parameter = cr_pulse.parameters['width']\n",
        "  #declare pulse parameters and build GaussianSquare pulse\n",
        "  cr_params = {}\n",
        "  cr_params['duration'] = duration_parameter\n",
        "  cr_params['amp'] = amp\n",
        "  cr_params['angle'] = angle_parameter\n",
        "  cr_params['sigma'] = sigma_parameter\n",
        "  cr_params['width'] = width_parameter\n",
        "  with pulse.build(backend) as pulse_x:\n",
        "    pulse.play(GaussianSquare(**cr_params), ControlChannel(0))\n",
        "\n",
        "  return block_to_schedule(pulse_x)"
      ],
      "metadata": {
        "id": "KKC5nWKdA5d9"
      },
      "execution_count": null,
      "outputs": []
    },
    {
      "cell_type": "code",
      "source": [
        "def generate_parametric_pulse1q(backend, q1, amp_list, angle_list):\n",
        "  backend_defaults = backend.defaults()\n",
        "  inst_sched_map = backend_defaults.instruction_schedule_map \n",
        "  x_pulse = inst_sched_map.get('x', (0)).filter(channels = [DriveChannel(0)], instruction_types=[Play]).instructions[0][1].pulse\n",
        "  duration_parameter = x_pulse.parameters['duration']\n",
        "  sigma_parameter = x_pulse.parameters['sigma']\n",
        "  beta_parameter = x_pulse.parameters['beta']\n",
        "  sched1 = pulse.Play(Drag(duration=duration_parameter, sigma=sigma_parameter, beta=beta_parameter, amp=amp_list, angle=angle_list), DriveChannel(0))\n",
        "  with pulse.build(backend) as pulse_x:\n",
        "    with pulse.transpiler_settings(initial_layout= [0]):\n",
        "      sched = Schedule()\n",
        "      pulse.call(sched)\n",
        "  pulse_x.append(sched1)\n",
        "  with pulse.build(backend) as pulse_y:\n",
        "    with pulse.transpiler_settings(initial_layout= [0]): \n",
        "      pulse.call(pulse_x)\n",
        "      pulse.barrier(q1)\n",
        "\n",
        "  return  block_to_schedule(pulse_y)"
      ],
      "metadata": {
        "id": "uHx9kQYoA5gS"
      },
      "execution_count": null,
      "outputs": []
    },
    {
      "cell_type": "code",
      "source": [
        "def generate_12q_pulse(backend, oneqpulse, twoqpulse, qubits):\n",
        "  oneqpulse+=(copy.deepcopy(twoqpulse))\n",
        "  with pulse.build(backend) as pulse_x:\n",
        "    with pulse.transpiler_settings(initial_layout= [0,1]):\n",
        "      pulse.call(oneqpulse)\n",
        "      pulse.barrier(0,1)\n",
        "      pulse.measure(qubits)\n",
        "\n",
        "  return block_to_schedule(pulse_x)\n"
      ],
      "metadata": {
        "id": "GQSdvebKA5id"
      },
      "execution_count": null,
      "outputs": []
    },
    {
      "cell_type": "code",
      "source": [
        "qubits = (0,1)\n",
        "oneqpulse = generate_parametric_pulse1q(backend, 0, 0.1, 0.1)\n",
        "twoqpulse = generate_2q_pulse(backend, 0.1,0.1)\n",
        "pulse_onetwo = generate_12q_pulse(backend, oneqpulse, twoqpulse, qubits)"
      ],
      "metadata": {
        "id": "A97myYu9BKN7"
      },
      "execution_count": null,
      "outputs": []
    },
    {
      "cell_type": "code",
      "source": [
        "pulse_onetwo.draw()"
      ],
      "metadata": {
        "colab": {
          "base_uri": "https://localhost:8080/",
          "height": 463
        },
        "id": "J-fc5VXkBKVV",
        "outputId": "989bd094-f794-4f46-ce29-3d287396ce61"
      },
      "execution_count": null,
      "outputs": [
        {
          "output_type": "execute_result",
          "data": {
            "text/plain": [
              "<Figure size 936x497.756 with 1 Axes>"
            ],
            "image/png": "[encoded data removed]"
          },
          "metadata": {},
          "execution_count": 36
        }
      ]
    },
    {
      "cell_type": "code",
      "source": [
        "def generate_2q_pulse(backend, amp, angle):\n",
        "  backend_defaults = backend.defaults()\n",
        "  inst_sched_map = backend_defaults.instruction_schedule_map \n",
        "  cr_pulse = inst_sched_map.get('cx', (0, 1)).filter(channels = [ControlChannel(0)], instruction_types=[Play]).instructions[0][1].pulse\n",
        "  angle_parameter = angle\n",
        "  duration_parameter = cr_pulse.parameters['duration']\n",
        "  sigma_parameter = cr_pulse.parameters['sigma']\n",
        "  width_parameter = cr_pulse.parameters['width']\n",
        "  #declare pulse parameters and build GaussianSquare pulse\n",
        "  cr_params = {}\n",
        "  cr_params['duration'] = duration_parameter\n",
        "  cr_params['amp'] = amp\n",
        "  cr_params['angle'] = angle_parameter\n",
        "  cr_params['sigma'] = sigma_parameter\n",
        "  cr_params['width'] = width_parameter\n",
        "  with pulse.build(backend) as pulse_x:\n",
        "    pulse.play(GaussianSquare(**cr_params), ControlChannel(0))\n",
        "    pulse.barrier(0,1)\n",
        "\n",
        "  return block_to_schedule(pulse_x)"
      ],
      "metadata": {
        "id": "4US4EiWQBKXz"
      },
      "execution_count": null,
      "outputs": []
    },
    {
      "cell_type": "code",
      "source": [
        "def generate_parametric_pulse1q(backend, q1, amp_list, angle_list):\n",
        "  sched1 = pulse.Play(Drag(duration=160, sigma=40, beta=0.4469017066717889, amp=amp_list, angle=angle_list), DriveChannel(0))\n",
        "  with pulse.build(backend) as pulse_x:\n",
        "    with pulse.transpiler_settings(initial_layout= [0]):\n",
        "      sched = Schedule()\n",
        "      pulse.call(sched)\n",
        "  pulse_x.append(sched1)\n",
        "  with pulse.build(backend) as pulse_y:\n",
        "    with pulse.transpiler_settings(initial_layout= [0]): \n",
        "      pulse.call(pulse_x)\n",
        "\n",
        "  return  block_to_schedule(pulse_y)"
      ],
      "metadata": {
        "id": "pbt-7YXQCah1"
      },
      "execution_count": null,
      "outputs": []
    },
    {
      "cell_type": "code",
      "source": [
        "def generate_12q_pulse(backend, oneqpulse, twoqpulse, qubits):\n",
        "  oneqpulse+=(copy.deepcopy(twoqpulse))\n",
        "  with pulse.build(backend) as pulse_x:\n",
        "    with pulse.transpiler_settings(initial_layout= [0,1]):\n",
        "      pulse.call(oneqpulse)\n",
        "      pulse.barrier(0,1)\n",
        "\n",
        "  return block_to_schedule(pulse_x)"
      ],
      "metadata": {
        "id": "dQd1maROCcP7"
      },
      "execution_count": null,
      "outputs": []
    },
    {
      "cell_type": "code",
      "source": [
        "def generate_dressed_cr_pulse(backend, oneqpulse_left,oneqpulse_right, twopulse, qubits):\n",
        "  qubits = (0,1)\n",
        "  oneqpulse_left +=(copy.deepcopy(twoqpulse))\n",
        "  oneqpulse_left += (copy.deepcopy(oneqpulse_right))\n",
        "  with pulse.build(backend) as pulse_x:\n",
        "    with pulse.transpiler_settings(initial_layout= [0,1]):\n",
        "      pulse.call(oneqpulse_left)\n",
        "      pulse.barrier(0,1)\n",
        "      pulse.measure(qubits)\n",
        "\n",
        "  return block_to_schedule(pulse_x)"
      ],
      "metadata": {
        "id": "H3ELkyfWR-v6"
      },
      "execution_count": null,
      "outputs": []
    },
    {
      "cell_type": "code",
      "source": [
        "oneqpulse_left = generate_parametric_pulse1q(backend, 0, 0.1, 0.1)\n",
        "oneqpulse_right = generate_parametric_pulse1q(backend, 0, 0.1, 0.1)\n",
        "qubits = (0,1)\n",
        "twoqpulse = generate_2q_pulse(backend, 0.1,0.1)\n",
        "pulse_twoone = generate_dressed_cr_pulse(backend, oneqpulse_left, oneqpulse_right, twoqpulse, qubits)"
      ],
      "metadata": {
        "id": "0bjsgmmxSBT_"
      },
      "execution_count": null,
      "outputs": []
    },
    {
      "cell_type": "code",
      "source": [
        "pulse_twoone.draw()"
      ],
      "metadata": {
        "colab": {
          "base_uri": "https://localhost:8080/",
          "height": 463
        },
        "id": "b8p9E5xaCjl0",
        "outputId": "dad24bfb-1ddd-46d6-ee55-dac4b19a1a92"
      },
      "execution_count": null,
      "outputs": [
        {
          "output_type": "execute_result",
          "data": {
            "text/plain": [
              "<Figure size 936x497.756 with 1 Axes>"
            ],
            "image/png": "[encoded data removed]"
          },
          "metadata": {},
          "execution_count": 22
        }
      ]
    },
    {
      "cell_type": "code",
      "source": [
        "def generate_2q_pulse(backend, amp, angle, width_time, qbit):\n",
        "  width = 16*width_time\n",
        "  backend_defaults = backend.defaults()\n",
        "  inst_sched_map = backend_defaults.instruction_schedule_map \n",
        "  cr_pulse = inst_sched_map.get('cx', (0, 1)).filter(channels = [ControlChannel(0)], instruction_types=[Play]).instructions[0][1].pulse\n",
        "  cr_params = {}\n",
        "  cr_params['duration'] = cr_pulse.parameters['duration']\n",
        "  cr_params['amp'] = cr_pulse.parameters['amp']\n",
        "  cr_params['angle'] = cr_pulse.parameters['angle']\n",
        "  cr_params['sigma'] = cr_pulse.parameters['sigma']\n",
        "  cr_params['width'] = cr_pulse.parameters['width']\n",
        "  cr_risefall = (cr_params['duration'] - cr_params['width']) / (2 * cr_params['sigma'])\n",
        "  angle_parameter = angle\n",
        "  duration_parameter =  int(width + 2 * cr_risefall * cr_params['sigma'])\n",
        "  sigma_parameter = cr_pulse.parameters['sigma']\n",
        "  width_parameter = width\n",
        "  #declare pulse parameters and build GaussianSquare pulse\n",
        "  #with pulse.build(backend) as pulse_x:\n",
        "  with pulse.build(backend) as pulse_x:\n",
        "    pulse.play(GaussianSquare(duration = duration_parameter, amp = amp, angle = angle_parameter, sigma = sigma_parameter, width=width_parameter), ControlChannel(qbit))\n",
        "    pulse.play(GaussianSquare(duration = duration_parameter, amp = amp, angle = angle_parameter, sigma = sigma_parameter, width=width_parameter), DriveChannel(qbit))\n",
        "    pulse.barrier(0,1)\n",
        "\n",
        "  return block_to_schedule(pulse_x)"
      ],
      "metadata": {
        "id": "rayWvw38foU7"
      },
      "execution_count": null,
      "outputs": []
    },
    {
      "cell_type": "code",
      "source": [
        "pulse_twoq1, pulse_twoq2 = generate_2q_pulse(backend, 2, amp[2], angle[2])"
      ],
      "metadata": {
        "colab": {
          "base_uri": "https://localhost:8080/",
          "height": 165
        },
        "id": "znpZMkW_hk3m",
        "outputId": "fe8ade84-3a62-449b-f7e8-200a1ace406a"
      },
      "execution_count": null,
      "outputs": [
        {
          "output_type": "error",
          "ename": "NameError",
          "evalue": "ignored",
          "traceback": [
            "\u001b[0;31m---------------------------------------------------------------------------\u001b[0m",
            "\u001b[0;31mNameError\u001b[0m                                 Traceback (most recent call last)",
            "\u001b[0;32m<ipython-input-8-df09daea5149>\u001b[0m in \u001b[0;36m<module>\u001b[0;34m\u001b[0m\n\u001b[0;32m----> 1\u001b[0;31m \u001b[0mpulse_twoq1\u001b[0m\u001b[0;34m,\u001b[0m \u001b[0mpulse_twoq2\u001b[0m \u001b[0;34m=\u001b[0m \u001b[0mgenerate_2q_pulse\u001b[0m\u001b[0;34m(\u001b[0m\u001b[0mbackend\u001b[0m\u001b[0;34m,\u001b[0m \u001b[0;36m2\u001b[0m\u001b[0;34m,\u001b[0m \u001b[0mamp\u001b[0m\u001b[0;34m[\u001b[0m\u001b[0;36m2\u001b[0m\u001b[0;34m]\u001b[0m\u001b[0;34m,\u001b[0m \u001b[0mangle\u001b[0m\u001b[0;34m[\u001b[0m\u001b[0;36m2\u001b[0m\u001b[0;34m]\u001b[0m\u001b[0;34m)\u001b[0m\u001b[0;34m\u001b[0m\u001b[0;34m\u001b[0m\u001b[0m\n\u001b[0m",
            "\u001b[0;31mNameError\u001b[0m: name 'amp' is not defined"
          ]
        }
      ]
    },
    {
      "cell_type": "code",
      "source": [
        "def generate_2qpulselayer(backend, qbit, amp, angle, width):\n",
        "  with pulse.build(backend) as pulse_x:\n",
        "    with pulse.transpiler_settings(initial_layout= [0,1]):\n",
        "      sched = Schedule()\n",
        "      pulse.call(sched)\n",
        "  for qubit in range(qbit):\n",
        "    pulse_twoq1, pulse_twoq2 = generate_2q_pulse(backend, amp[qubit], angle[qubit], width[qubit], qubit)\n",
        "    pulse_x.append(pulse_twoq1)\n",
        "    pulse_x.append(pulse_twoq2)\n",
        "  with pulse.build(backend) as pulse_y:\n",
        "    with pulse.transpiler_settings(initial_layout= [0,1]): \n",
        "      pulse.call(pulse_x)\n",
        "      for qubit in range(qbit):\n",
        "        pulse.barrier(qubit)\n",
        "  return pulse_y"
      ],
      "metadata": {
        "id": "qH57aeZuatvW"
      },
      "execution_count": null,
      "outputs": []
    },
    {
      "cell_type": "code",
      "source": [
        "twoqpulse = generate_2qpulselayer(backend, 4, amp, angle)"
      ],
      "metadata": {
        "id": "1-RdFMi_dWNz"
      },
      "execution_count": null,
      "outputs": []
    },
    {
      "cell_type": "code",
      "source": [
        "twoqpulse.draw()"
      ],
      "metadata": {
        "colab": {
          "base_uri": "https://localhost:8080/",
          "height": 804
        },
        "id": "PxC8q7vXdfdD",
        "outputId": "761f2621-4935-476a-923f-2a5a00523f78"
      },
      "execution_count": null,
      "outputs": [
        {
          "output_type": "execute_result",
          "data": {
            "text/plain": [
              "<Figure size 936x950.4 with 1 Axes>"
            ],
            "image/png": "[encoded data removed]"
          },
          "metadata": {},
          "execution_count": 87
        }
      ]
    },
    {
      "cell_type": "code",
      "source": [
        "\n",
        "def generate_parametric_pulse1q(backend, q1, amp_list, angle_list):\n",
        "  backend_defaults = backend.defaults()\n",
        "  inst_sched_map = backend_defaults.instruction_schedule_map \n",
        "  x_pulse = inst_sched_map.get('x', (0)).filter(channels = [DriveChannel(0)], instruction_types=[Play]).instructions[0][1].pulse\n",
        "  duration_parameter = x_pulse.parameters['duration']\n",
        "  sigma_parameter = x_pulse.parameters['sigma']\n",
        "  beta_parameter = x_pulse.parameters['beta']\n",
        "  sched1 = pulse.Play(Drag(duration=duration_parameter, sigma=sigma_parameter, beta=beta_parameter, amp=amp_list, angle=angle_list), DriveChannel(q1))\n",
        "  sched2 = pulse.Play(Drag(duration=duration_parameter, sigma=sigma_parameter, beta=beta_parameter, amp=amp_list, angle=angle_list), DriveChannel(q1+1))\n",
        "  with pulse.build(backend) as pulse_x:\n",
        "    with pulse.transpiler_settings(initial_layout= [0]):\n",
        "      sched = Schedule()\n",
        "      pulse.call(sched)\n",
        "  pulse_x.append(sched1)\n",
        "  pulse_x.append(sched2)\n",
        "  with pulse.build(backend) as pulse_y:\n",
        "    with pulse.transpiler_settings(initial_layout= [0]): \n",
        "      pulse.call(pulse_x)\n",
        "      pulse.barrier(q1)\n",
        "  return  block_to_schedule(pulse_y)"
      ],
      "metadata": {
        "id": "YWbNZY9AfxW9"
      },
      "execution_count": null,
      "outputs": []
    },
    {
      "cell_type": "code",
      "source": [
        "def generate_1qpulse_layer(backend, qbit, amp, angle):\n",
        "  with pulse.build(backend) as pulse_x:\n",
        "    with pulse.transpiler_settings(initial_layout= [0]):\n",
        "      sched = Schedule()\n",
        "      pulse.call(sched)\n",
        "  for qubit in range(qbit):\n",
        "    pulse_oneq = generate_parametric_pulse1q(backend, qubit, amp[qubit], angle[qubit])\n",
        "    pulse_x.append(pulse_oneq)\n",
        "  with pulse.build(backend) as pulse_y:\n",
        "    with pulse.transpiler_settings(initial_layout= [0]): \n",
        "      pulse.call(pulse_x)\n",
        "      for qubit in range(qbit):\n",
        "        pulse.barrier(qubit)\n",
        "  return pulse_y\n"
      ],
      "metadata": {
        "id": "3ugNo4Z2SzFb"
      },
      "execution_count": null,
      "outputs": []
    },
    {
      "cell_type": "code",
      "source": [
        "def generate_12q1d1c_pulse(backend, oneqpulse, twoqpulse, qubits):\n",
        "  oneqpulse+=(copy.deepcopy(twoqpulse))\n",
        "  with pulse.build(backend) as pulse_x:\n",
        "    with pulse.transpiler_settings(initial_layout= [0,1]):\n",
        "      pulse.call(oneqpulse)\n",
        "      pulse.barrier(0,1)\n",
        "      pulse.measure(qubits)\n",
        "\n",
        "  return block_to_schedule(pulse_x)"
      ],
      "metadata": {
        "id": "vY7ymiASWMTJ"
      },
      "execution_count": null,
      "outputs": []
    },
    {
      "cell_type": "code",
      "source": [
        "qubits = (0,1)\n",
        "oneqpulse = generate_parametric_pulse1q(backend, 0, 0.1, 0.1)\n",
        "twoqpulse = generate_2q_pulse(backend, 0.1,0.1,2,0)\n",
        "pulse_onetwo1d1r = generate_12q1d1c_pulse(backend, oneqpulse, twoqpulse, qubits)"
      ],
      "metadata": {
        "id": "KsJgcLFSWVGL"
      },
      "execution_count": null,
      "outputs": []
    },
    {
      "cell_type": "code",
      "source": [
        "pulse_onetwo1d1r.draw()"
      ],
      "metadata": {
        "colab": {
          "base_uri": "https://localhost:8080/",
          "height": 552
        },
        "id": "I25bevQbWbyc",
        "outputId": "4993e25c-d6cf-41e5-a4b9-8ea29f4abceb"
      },
      "execution_count": null,
      "outputs": [
        {
          "output_type": "execute_result",
          "data": {
            "text/plain": [
              "<Figure size 936x616.556 with 1 Axes>"
            ],
            "image/png": "[encoded data removed]"
          },
          "metadata": {},
          "execution_count": 39
        }
      ]
    },
    {
      "cell_type": "code",
      "source": [
        "backend = FakeQuito()"
      ],
      "metadata": {
        "id": "I9HB6n70TzpC"
      },
      "execution_count": null,
      "outputs": []
    },
    {
      "cell_type": "code",
      "source": [
        "amp = [0.1,0.2,0.3,0.4,0.5,0.6,0.7,0.8]\n",
        "angle = [0.1,0.2,0.3,0.4,0.5,0.6,0.7,0.8]"
      ],
      "metadata": {
        "id": "JbkTHnZiTsnq"
      },
      "execution_count": null,
      "outputs": []
    },
    {
      "cell_type": "code",
      "source": [
        "oneqpulse = generate_1qpulse_layer(backend, 4, amp, angle)"
      ],
      "metadata": {
        "id": "_qWufmFGQ6yA"
      },
      "execution_count": null,
      "outputs": []
    },
    {
      "cell_type": "code",
      "source": [
        "oneqpulse.draw()"
      ],
      "metadata": {
        "colab": {
          "base_uri": "https://localhost:8080/",
          "height": 446
        },
        "id": "BT41vPdNUPlx",
        "outputId": "3424e329-9c4b-43c1-d795-282af251c7d0"
      },
      "execution_count": null,
      "outputs": [
        {
          "output_type": "execute_result",
          "data": {
            "text/plain": [
              "<Figure size 936x475.2 with 1 Axes>"
            ],
            "image/png": "[encoded data removed]"
          },
          "metadata": {},
          "execution_count": 75
        }
      ]
    },
    {
      "cell_type": "code",
      "source": [
        "def generate_firstlayer(backend, num_qubits, amp, angle, width_time):\n",
        "  with pulse.build(backend) as pulse_x:\n",
        "    with pulse.transpiler_settings(initial_layout= [0]):\n",
        "      sched = Schedule()\n",
        "      pulse.call(sched)\n",
        "  for qubit in range(num_qubits):\n",
        "    pulse_oneq = generate_parametric_pulse1q(backend, qubit, amp[qubit], angle[qubit])\n",
        "    pulse_x.append(pulse_oneq)\n",
        "  with pulse.build(backend) as pulse_y:\n",
        "    with pulse.transpiler_settings(initial_layout= [0]): \n",
        "      pulse.call(pulse_x)\n",
        "      for qubit in range(num_qubits):\n",
        "        pulse.barrier(qubit)\n",
        "  for qubit in range(num_qubits):\n",
        "    pulse_twoq1, pulse_twoq2 = generate_2q_pulse(backend, amp[qubit:][qubit], angle[qubit:][qubit], width_time[qubit],qubit)\n",
        "    pulse_y.append(pulse_twoq1)\n",
        "    pulse_y.append(pulse_twoq2)\n",
        "  with pulse.build(backend) as pulse_z:\n",
        "    with pulse.transpiler_settings(initial_layout= [0]): \n",
        "      pulse.call(pulse_y)\n",
        "      for qubit in range(num_qubits):\n",
        "        pulse.barrier(qubit)\n",
        "  return pulse_z\n"
      ],
      "metadata": {
        "id": "CzfXXdjUiGAs"
      },
      "execution_count": null,
      "outputs": []
    },
    {
      "cell_type": "code",
      "source": [
        "firstlayer = generate_firstlayer(backend, 4, amp, angle)"
      ],
      "metadata": {
        "id": "1OMnqr2tjMZS"
      },
      "execution_count": null,
      "outputs": []
    },
    {
      "cell_type": "code",
      "source": [
        "firstlayer.draw()"
      ],
      "metadata": {
        "colab": {
          "base_uri": "https://localhost:8080/",
          "height": 804
        },
        "id": "5mKO_4CqkC_V",
        "outputId": "20bfb5aa-826f-4c30-bab7-4145ffe97f1d"
      },
      "execution_count": null,
      "outputs": [
        {
          "output_type": "execute_result",
          "data": {
            "text/plain": [
              "<Figure size 936x950.4 with 1 Axes>"
            ],
            "image/png": "[encoded data removed]"
          },
          "metadata": {},
          "execution_count": 101
        }
      ]
    },
    {
      "cell_type": "code",
      "source": [
        "def generate_12q1d1c_pulse(backend, oneqpulse, twoqpulse, qubits):\n",
        "  oneqpulse+=(copy.deepcopy(twoqpulse))\n",
        "  with pulse.build(backend) as pulse_x:\n",
        "    with pulse.transpiler_settings(initial_layout= [0,1]):\n",
        "      pulse.call(oneqpulse)\n",
        "      pulse.barrier(0,1)\n",
        "      pulse.measure(qubits)\n",
        "\n",
        "  return block_to_schedule(pulse_x)"
      ],
      "metadata": {
        "id": "1SwwHMLBf8Ir"
      },
      "execution_count": null,
      "outputs": []
    },
    {
      "cell_type": "code",
      "source": [
        "qubits = (0,1)\n",
        "oneqpulse = generate_parametric_pulse1q(backend, 1, 0.1, 0.1)\n",
        "twoqpulse = generate_2q_pulse(backend, 0.1,0.1)\n",
        "pulse_onetwo1d1r = generate_12q1d1c_pulse(backend, oneqpulse, twoqpulse, qubits)"
      ],
      "metadata": {
        "id": "rIxQNeDvgC8A"
      },
      "execution_count": null,
      "outputs": []
    },
    {
      "cell_type": "code",
      "source": [
        "pulse_onetwo1d1r.draw()"
      ],
      "metadata": {
        "colab": {
          "base_uri": "https://localhost:8080/",
          "height": 552
        },
        "id": "OGBEm6J_ggWf",
        "outputId": "b93d7790-c266-40fd-d1e2-52693f5a1e28"
      },
      "execution_count": null,
      "outputs": [
        {
          "output_type": "execute_result",
          "data": {
            "text/plain": [
              "<Figure size 936x616.556 with 1 Axes>"
            ],
            "image/png": "[encoded data removed]"
          },
          "metadata": {},
          "execution_count": 26
        }
      ]
    },
    {
      "cell_type": "markdown",
      "source": [
        "## 1.3 dressed CR(under construction)"
      ],
      "metadata": {
        "id": "3ylJ0iYb3UXW"
      }
    },
    {
      "cell_type": "code",
      "source": [
        "def generate_2q_pulse(backend, amp, angle, duration_time, qbit):\n",
        "  duration = duration_time\n",
        "  backend_defaults = backend.defaults()\n",
        "  inst_sched_map = backend_defaults.instruction_schedule_map \n",
        "  cr_pulse = inst_sched_map.get('cx', (0, 1)).filter(channels = [ControlChannel(0)], instruction_types=[Play]).instructions[0][1].pulse\n",
        "  cr_params = {}\n",
        "  cr_params['duration'] = cr_pulse.parameters['duration']\n",
        "  cr_params['amp'] = cr_pulse.parameters['amp']\n",
        "  cr_params['angle'] = cr_pulse.parameters['angle']\n",
        "  cr_params['sigma'] = cr_pulse.parameters['sigma']\n",
        "  cr_params['width'] = cr_pulse.parameters['width']\n",
        "  cr_risefall = (cr_params['duration'] - cr_params['width']) / (2 * cr_params['sigma'])\n",
        "  angle_parameter = angle\n",
        "  duration_parameter =  duration\n",
        "  sigma_parameter = cr_pulse.parameters['sigma']\n",
        "  width_parameter = int(duration_parameter - 2 * cr_risefall * cr_params['sigma'])\n",
        "  #declare pulse parameters and build GaussianSquare pulse\n",
        "  sched1 = pulse.Play(GaussianSquare(duration = duration_parameter, amp = amp, angle = angle_parameter, sigma = sigma_parameter, width=width_parameter), ControlChannel(qbit))\n",
        "\n",
        "  with pulse.build(backend) as pulse_x:\n",
        "    sched = Schedule()\n",
        "  pulse_x.append(sched1)\n",
        "  with pulse.build(backend) as pulse_y:\n",
        "    pulse.call(pulse_x)\n",
        "    pulse.barrier(qbit)\n",
        "  #sched1= pulse.Play(GaussianSquare(duration = duration_parameter, amp = amp, angle = angle_parameter, sigma = sigma_parameter, width=width_parameter), DriveChannel(qbit))\n",
        "  #pulse.barrier(0,1)\n",
        "\n",
        "  return pulse_y"
      ],
      "metadata": {
        "id": "OItRdCEh3oy5"
      },
      "execution_count": 8,
      "outputs": []
    },
    {
      "cell_type": "code",
      "source": [
        "def generate_2qpulselayer(backend, qbit, amp, angle, width):\n",
        "  with pulse.build(backend) as pulse_x:\n",
        "    with pulse.transpiler_settings(initial_layout= [0,1]):\n",
        "      sched = Schedule()\n",
        "      pulse.call(sched)\n",
        "  for qubit in range(qbit):\n",
        "    pulse_twoq1 = generate_2q_pulse(backend, amp[qubit], angle[qubit], width[qubit], qubit)\n",
        "    pulse_x.append(pulse_twoq1)\n",
        "  with pulse.build(backend) as pulse_y:\n",
        "    with pulse.transpiler_settings(initial_layout= [0,1]): \n",
        "      pulse.call(pulse_x)\n",
        "      for qubit in range(qbit):\n",
        "        pulse.barrier(qubit)\n",
        "  return pulse_y"
      ],
      "metadata": {
        "id": "w2s2gUvbJ2BH"
      },
      "execution_count": 9,
      "outputs": []
    },
    {
      "cell_type": "code",
      "source": [
        "def generate_1q2pulse_layer(backend, qbit, amp, angle):\n",
        "  with pulse.build(backend) as pulse_x:\n",
        "    with pulse.transpiler_settings(initial_layout= [0]):\n",
        "      sched = Schedule()\n",
        "      pulse.call(sched)\n",
        "  for qubit in range(qbit):\n",
        "    pulse_oneq = generate_parametric_pulse1q(backend, qubit, amp[qubit], angle[qubit])\n",
        "    pulse_x.append(pulse_oneq)\n",
        "  with pulse.build(backend) as pulse_y:\n",
        "    with pulse.transpiler_settings(initial_layout= [0]): \n",
        "      pulse.call(pulse_x)\n",
        "      for qubit in range(qbit):\n",
        "        pulse.barrier(qubit)\n",
        "  return pulse_y\n"
      ],
      "metadata": {
        "id": "_vJjukdG3whk"
      },
      "execution_count": 10,
      "outputs": []
    },
    {
      "cell_type": "code",
      "source": [
        "def generate_parametric_pulse1q(backend, qbit, amp_list, angle_list):\n",
        "  backend_defaults = backend.defaults()\n",
        "  inst_sched_map = backend_defaults.instruction_schedule_map \n",
        "  x_pulse = inst_sched_map.get('x', (0)).filter(channels = [DriveChannel(0)], instruction_types=[Play]).instructions[0][1].pulse\n",
        "  duration_parameter = x_pulse.parameters['duration']\n",
        "  sigma_parameter = x_pulse.parameters['sigma']\n",
        "  beta_parameter = x_pulse.parameters['beta']\n",
        "  # with pulse.build(backend) as pulse_x:\n",
        "  #   with pulse.transpiler_settings(initial_layout= [0]):\n",
        "  #     sched = Schedule()\n",
        "  #     pulse.call(sched)\n",
        "  sched1 = pulse.Play(Drag(duration=duration_parameter, sigma=sigma_parameter, beta=beta_parameter, amp=amp_list, angle=angle_list), DriveChannel(qbit))\n",
        "  # pulse_x.append(sched1)\n",
        "  # with pulse.build(backend) as pulse_y:\n",
        "  #   with pulse.transpiler_settings(initial_layout= [0]): \n",
        "  #     pulse.call(pulse_x)\n",
        "\n",
        "  return  sched1"
      ],
      "metadata": {
        "id": "oftDtTjp4Igs"
      },
      "execution_count": 11,
      "outputs": []
    },
    {
      "cell_type": "code",
      "source": [
        "def generate_secondlayer(backend, num_qubits, amp, angle, width_time):\n",
        "  with pulse.build(backend) as pulse_x:\n",
        "    with pulse.transpiler_settings(initial_layout= [0]):\n",
        "      sched = Schedule()\n",
        "      pulse.call(sched)\n",
        "  for qubit in range(num_qubits):\n",
        "    pulse_oneq = generate_parametric_pulse1q(backend, qubit, amp[qubit], angle[qubit])\n",
        "    pulse_x.append(pulse_oneq)\n",
        "  with pulse.build(backend) as pulse_y:\n",
        "    with pulse.transpiler_settings(initial_layout= [0]): \n",
        "      pulse.call(pulse_x)\n",
        "      for qubit in range(num_qubits):\n",
        "        pulse.barrier(qubit)\n",
        "  pulse_twoq1 = generate_2q_pulse(backend, amp[num_qubits:num_qubits+1][num_qubits-2], angle[num_qubits:num_qubits+1][num_qubits-2],width_time[num_qubits-2], num_qubits-1)\n",
        "  pulse_y+=pulse_twoq1\n",
        "  with pulse.build(backend) as pulse_y1:\n",
        "    with pulse.transpiler_settings(initial_layout= [0]): \n",
        "      pulse.call(pulse_y)\n",
        "      for qubit in range(num_qubits):\n",
        "        pulse.barrier(qubit)\n",
        "  for qubit in range(num_qubits):\n",
        "    pulse_oneq = generate_parametric_pulse1q(backend, qubit, amp[num_qubits+1:][qubit], angle[num_qubits+1:][qubit])\n",
        "    pulse_y1.append(pulse_oneq)\n",
        "  with pulse.build(backend) as pulse_z:\n",
        "    with pulse.transpiler_settings(initial_layout= [0]): \n",
        "      pulse.call(pulse_y1)\n",
        "      for qubit in range(num_qubits):\n",
        "        pulse.barrier(qubit)\n",
        "        pulse.measure(qubit)\n",
        "  return pulse_z"
      ],
      "metadata": {
        "id": "Q591f_TF31P1"
      },
      "execution_count": 12,
      "outputs": []
    },
    {
      "cell_type": "markdown",
      "source": [
        "# 2. Sampling"
      ],
      "metadata": {
        "id": "1l4M1-cxlwxx"
      }
    },
    {
      "cell_type": "markdown",
      "source": [
        "## 2.1 Test"
      ],
      "metadata": {
        "id": "aY9KFT4ZNdbr"
      }
    },
    {
      "cell_type": "code",
      "source": [
        "import qiskit.quantum_info as qi"
      ],
      "metadata": {
        "id": "5c_Pmy_WX-sO"
      },
      "execution_count": 13,
      "outputs": []
    },
    {
      "cell_type": "code",
      "source": [
        "import qiskit.quantum_info as qi\n",
        "\n",
        "twoqpulse = generate_2q_pulse(backend, 0.5, np.pi/2)\n",
        "twoqpulse.draw()"
      ],
      "metadata": {
        "id": "gCqnbmZDlxB5",
        "colab": {
          "base_uri": "https://localhost:8080/",
          "height": 217
        },
        "outputId": "f1d903fa-2304-4c6a-bbfb-af7b95a7ec01"
      },
      "execution_count": null,
      "outputs": [
        {
          "output_type": "error",
          "ename": "TypeError",
          "evalue": "ignored",
          "traceback": [
            "\u001b[0;31m---------------------------------------------------------------------------\u001b[0m",
            "\u001b[0;31mTypeError\u001b[0m                                 Traceback (most recent call last)",
            "\u001b[0;32m<ipython-input-42-b8de350a14e6>\u001b[0m in \u001b[0;36m<module>\u001b[0;34m\u001b[0m\n\u001b[1;32m      1\u001b[0m \u001b[0;32mimport\u001b[0m \u001b[0mqiskit\u001b[0m\u001b[0;34m.\u001b[0m\u001b[0mquantum_info\u001b[0m \u001b[0;32mas\u001b[0m \u001b[0mqi\u001b[0m\u001b[0;34m\u001b[0m\u001b[0;34m\u001b[0m\u001b[0m\n\u001b[1;32m      2\u001b[0m \u001b[0;34m\u001b[0m\u001b[0m\n\u001b[0;32m----> 3\u001b[0;31m \u001b[0mtwoqpulse\u001b[0m \u001b[0;34m=\u001b[0m \u001b[0mgenerate_2q_pulse\u001b[0m\u001b[0;34m(\u001b[0m\u001b[0mbackend\u001b[0m\u001b[0;34m,\u001b[0m \u001b[0;36m0.5\u001b[0m\u001b[0;34m,\u001b[0m \u001b[0mnp\u001b[0m\u001b[0;34m.\u001b[0m\u001b[0mpi\u001b[0m\u001b[0;34m/\u001b[0m\u001b[0;36m2\u001b[0m\u001b[0;34m)\u001b[0m\u001b[0;34m\u001b[0m\u001b[0;34m\u001b[0m\u001b[0m\n\u001b[0m\u001b[1;32m      4\u001b[0m \u001b[0mtwoqpulse\u001b[0m\u001b[0;34m.\u001b[0m\u001b[0mdraw\u001b[0m\u001b[0;34m(\u001b[0m\u001b[0;34m)\u001b[0m\u001b[0;34m\u001b[0m\u001b[0;34m\u001b[0m\u001b[0m\n",
            "\u001b[0;31mTypeError\u001b[0m: generate_2q_pulse() missing 2 required positional arguments: 'width_time' and 'qbit'"
          ]
        }
      ]
    },
    {
      "cell_type": "code",
      "source": [
        "amp = [0.1,0.2,0.3, 0.1,0.1]\n",
        "angle = [0.1,0.2,0.3,0.2,0.5]\n",
        "duration = [320]"
      ],
      "metadata": {
        "id": "bY8WWIAYIh-3"
      },
      "execution_count": 42,
      "outputs": []
    },
    {
      "cell_type": "code",
      "source": [
        "firstlayer = generate_secondlayer(backend, 2, amp, angle,duration)"
      ],
      "metadata": {
        "id": "lPC5WQs5Puof"
      },
      "execution_count": 53,
      "outputs": []
    },
    {
      "cell_type": "code",
      "source": [
        "firstlayer.draw()"
      ],
      "metadata": {
        "colab": {
          "base_uri": "https://localhost:8080/",
          "height": 552
        },
        "id": "iR1r3aulW-xM",
        "outputId": "e53a70e8-0a46-48ae-be7e-220260f98a8a"
      },
      "execution_count": 54,
      "outputs": [
        {
          "output_type": "execute_result",
          "data": {
            "text/plain": [
              "<Figure size 936x616.556 with 1 Axes>"
            ],
            "image/png": "[encoded data removed]"
          },
          "metadata": {},
          "execution_count": 54
        }
      ]
    },
    {
      "cell_type": "code",
      "source": [
        "qubits = (0,1)\n",
        "oneqpulse = generate_parametric_pulse1q(backend, 0, amp, angle)\n",
        "twoqpulse = generate_2q_pulse(backend, 0.1,0.1,2,0)\n",
        "pulse_onetwo1d1r = generate_12q1d1c_pulse(backend, oneqpulse, twoqpulse, qubits)"
      ],
      "metadata": {
        "colab": {
          "base_uri": "https://localhost:8080/",
          "height": 266
        },
        "id": "kPEIsxFYOTgc",
        "outputId": "e6358626-dd99-48f8-f1a5-ec175e7a6468"
      },
      "execution_count": null,
      "outputs": [
        {
          "output_type": "execute_result",
          "data": {
            "text/plain": [
              "<Figure size 936x237.6 with 1 Axes>"
            ],
            "image/png": "[encoded data removed]"
          },
          "metadata": {},
          "execution_count": 17
        }
      ]
    },
    {
      "cell_type": "code",
      "source": [
        "IBMQ.save_account('c7a71bc4b2858304571d35eb5e371e449e5c346110b36c744f51b65388d4ac1b7468740d58d6fcd44967b2080d02af986cc22f2406a84813bbabd9ff5bf06315', overwrite=True)\n",
        "IBMQ.load_account() # Load account from disk\n",
        "IBMQ.providers()    # List all available providers\n",
        "provider = IBMQ.get_provider(\n",
        "    hub=\"ibm-q-ornl\", group=\"ornl\", project=\"csc509\"\n",
        ")\n",
        "backend = provider.get_backend('ibmq_quito')"
      ],
      "metadata": {
        "colab": {
          "base_uri": "https://localhost:8080/"
        },
        "id": "eRSdGiVaWx7e",
        "outputId": "798caf28-a0ef-455e-d6f1-ed2bf8cbde3e"
      },
      "execution_count": null,
      "outputs": [
        {
          "output_type": "stream",
          "name": "stderr",
          "text": [
            "<ipython-input-45-835f15ce7032>:1: DeprecationWarning: The qiskit.IBMQ entrypoint and the qiskit-ibmq-provider package (accessible from 'qiskit.providers.ibmq`) are deprecated and will be removed in a future release. Instead you should use the qiskit-ibm-provider package which is accessible from 'qiskit_ibm_provider'. You can install it with 'pip install qiskit_ibm_provider'. Just replace 'qiskit.IBMQ' with 'qiskit_ibm_provider.IBMProvider'\n",
            "  IBMQ.save_account('c7a71bc4b2858304571d35eb5e371e449e5c346110b36c744f51b65388d4ac1b7468740d58d6fcd44967b2080d02af986cc22f2406a84813bbabd9ff5bf06315', overwrite=True)\n"
          ]
        }
      ]
    },
    {
      "cell_type": "code",
      "source": [
        "with pulse.build(backend) as pulse_x:\n",
        "  circ = QuantumCircuit(2)\n",
        "  circ.x(0)\n",
        "  circ.cx(0,1)\n",
        "  circ.measure_all()\n",
        "  pulse.call(circ)\n"
      ],
      "metadata": {
        "id": "oacSLrb0QQUz"
      },
      "execution_count": null,
      "outputs": []
    },
    {
      "cell_type": "code",
      "source": [
        "print(pulse_x)"
      ],
      "metadata": {
        "id": "xz6E_jDeQnX4"
      },
      "execution_count": null,
      "outputs": []
    },
    {
      "cell_type": "code",
      "source": [
        "pulse_x.draw()"
      ],
      "metadata": {
        "id": "wSFVr9XWQqFX",
        "colab": {
          "base_uri": "https://localhost:8080/",
          "height": 626
        },
        "outputId": "04c96e3e-22c6-4362-98ef-d004dbaa08a1"
      },
      "execution_count": null,
      "outputs": [
        {
          "output_type": "execute_result",
          "data": {
            "text/plain": [
              "<Figure size 936x713.756 with 1 Axes>"
            ],
            "image/png": "[encoded data removed]"
          },
          "metadata": {},
          "execution_count": 29
        }
      ]
    },
    {
      "cell_type": "code",
      "source": [
        "shots = 100000\n",
        "cirq_gates = assemble(firstlayer,\n",
        "                    backend=backend_sim,\n",
        "                    qubit_lo_freq=freq,\n",
        "                    meas_level=2,\n",
        "                    meas_return='avg',\n",
        "                    shots=shots)\n",
        "\n",
        "sim_result = backend_sim.run(cirq_gates).result()\n",
        "from qiskit.visualization import plot_histogram\n",
        "pulse_counts = sim_result.get_counts()\n",
        "plot_histogram(pulse_counts)"
      ],
      "metadata": {
        "colab": {
          "base_uri": "https://localhost:8080/",
          "height": 331
        },
        "id": "0V45kd5b8YK-",
        "outputId": "de84b1fd-1f56-4165-fe41-61b05f348221"
      },
      "execution_count": 55,
      "outputs": [
        {
          "output_type": "execute_result",
          "data": {
            "text/plain": [
              "<Figure size 504x360 with 1 Axes>"
            ],
            "image/png": "[encoded data removed]"
          },
          "metadata": {},
          "execution_count": 55
        }
      ]
    },
    {
      "cell_type": "code",
      "source": [
        "shots = 100000\n",
        "cirq_gates = assemble(pulse_twoone,\n",
        "                    backend=backend_sim,\n",
        "                    qubit_lo_freq=freq,\n",
        "                    meas_level=2,\n",
        "                    meas_return='avg',\n",
        "                    shots=shots)\n",
        "\n",
        "sim_result = backend_sim.run(cirq_gates).result()\n",
        "from qiskit.visualization import plot_histogram\n",
        "pulse_counts = sim_result.get_counts()\n",
        "plot_histogram(pulse_counts)"
      ],
      "metadata": {
        "id": "5TZCFBPslxFo",
        "colab": {
          "base_uri": "https://localhost:8080/",
          "height": 331
        },
        "outputId": "3bb74184-a1ea-4593-b6c2-93ff9ab5a698"
      },
      "execution_count": null,
      "outputs": [
        {
          "output_type": "execute_result",
          "data": {
            "text/plain": [
              "<Figure size 504x360 with 1 Axes>"
            ],
            "image/png": "[encoded data removed]"
          },
          "metadata": {},
          "execution_count": 23
        }
      ]
    },
    {
      "cell_type": "code",
      "source": [
        "from paddle_quantum.qinfo import negativity, logarithmic_negativity, partial_transpose, is_ppt\n",
        "from paddle_quantum.state import bell_state\n",
        "from paddle_quantum.qinfo import state_fidelity\n",
        "\n",
        "# rho0 = bell_state(2)\n",
        "\n",
        "cirq_gates = assemble(pulse_onetwo,\n",
        "                    backend=backend_sim,\n",
        "                    qubit_lo_freq=freq,\n",
        "                    meas_level=2,\n",
        "                    meas_return='avg',\n",
        "                    shots=2048)\n",
        "\n",
        "sim_result = backend_sim.run(cirq_gates).result()\n",
        "\n",
        "# backend.configuration().hamiltonian['qub'] = {'0': 2,'1': 2,'2': 2,'3': 2,'4': 2 }\n",
        "# job=execute(pulse_onetwo, backend, shots=100000, meas_level=2, meas_return='avg')\n",
        "# results = job.result()\n",
        "vec = sim_result.get_statevector()\n",
        "# print(len(vec))\n",
        "rho = qi.partial_trace(vec, [2,3,4])\n",
        "rho_q0 = qi.partial_trace(vec, [1,2,3,4])\n",
        "print(rho_q0)\n",
        "\n",
        "# print(rho)\n",
        "print(rho.data)\n",
        "print(\"\\n Check purity if it's a pure state:\", qi.purity(rho_q0))\n",
        "print(\"\\n Check Negativity=\", negativity(rho.data))\n",
        "# fid = state_fidelity(rho0, rho.data) ** 2\n",
        "# print(\"Fidelity=\", fid)"
      ],
      "metadata": {
        "id": "NTSlztVhMHsT",
        "colab": {
          "base_uri": "https://localhost:8080/",
          "height": 321
        },
        "outputId": "f7df5be8-ecbb-4d1c-9e50-fb655ec11efc"
      },
      "execution_count": null,
      "outputs": [
        {
          "output_type": "stream",
          "name": "stderr",
          "text": [
            "/usr/local/lib/python3.8/dist-packages/openfermion/hamiltonians/hartree_fock.py:11: DeprecationWarning: Please use `OptimizeResult` from the `scipy.optimize` namespace, the `scipy.optimize.optimize` namespace is deprecated.\n",
            "  from scipy.optimize.optimize import OptimizeResult\n",
            "/usr/local/lib/python3.8/dist-packages/paddle/tensor/creation.py:125: DeprecationWarning: `np.object` is a deprecated alias for the builtin `object`. To silence this warning, use `object` by itself. Doing this will not modify any behavior and is safe. \n",
            "Deprecated in NumPy 1.20; for more details and guidance: https://numpy.org/devdocs/release/1.20.0-notes.html#deprecations\n",
            "  if data.dtype == np.object:\n"
          ]
        },
        {
          "output_type": "error",
          "ename": "NameError",
          "evalue": "ignored",
          "traceback": [
            "\u001b[0;31m---------------------------------------------------------------------------\u001b[0m",
            "\u001b[0;31mNameError\u001b[0m                                 Traceback (most recent call last)",
            "\u001b[0;32m<ipython-input-22-0f6d85dcbb0a>\u001b[0m in \u001b[0;36m<module>\u001b[0;34m\u001b[0m\n\u001b[1;32m      5\u001b[0m \u001b[0;31m# rho0 = bell_state(2)\u001b[0m\u001b[0;34m\u001b[0m\u001b[0;34m\u001b[0m\u001b[0;34m\u001b[0m\u001b[0m\n\u001b[1;32m      6\u001b[0m \u001b[0;34m\u001b[0m\u001b[0m\n\u001b[0;32m----> 7\u001b[0;31m cirq_gates = assemble(pulse_onetwo,\n\u001b[0m\u001b[1;32m      8\u001b[0m                     \u001b[0mbackend\u001b[0m\u001b[0;34m=\u001b[0m\u001b[0mbackend_sim\u001b[0m\u001b[0;34m,\u001b[0m\u001b[0;34m\u001b[0m\u001b[0;34m\u001b[0m\u001b[0m\n\u001b[1;32m      9\u001b[0m                     \u001b[0mqubit_lo_freq\u001b[0m\u001b[0;34m=\u001b[0m\u001b[0mfreq\u001b[0m\u001b[0;34m,\u001b[0m\u001b[0;34m\u001b[0m\u001b[0;34m\u001b[0m\u001b[0m\n",
            "\u001b[0;31mNameError\u001b[0m: name 'pulse_onetwo' is not defined"
          ]
        }
      ]
    },
    {
      "cell_type": "markdown",
      "source": [
        "## 2.2 Scan amp"
      ],
      "metadata": {
        "id": "2FmGAdE0Nh8w"
      }
    },
    {
      "cell_type": "code",
      "source": [
        "import random\n",
        "import decimal\n",
        "import numpy as np\n",
        "import paddle\n",
        "import paddle_quantum as pq\n",
        "from paddle_quantum.ansatz.circuit import Circuit\n",
        "from paddle_quantum.visual import plot_state_in_bloch_sphere"
      ],
      "metadata": {
        "id": "L2Q1vdJ5lxKp",
        "colab": {
          "base_uri": "https://localhost:8080/"
        },
        "outputId": "d158ec47-1133-4ddb-a371-6354623b15fa"
      },
      "execution_count": 14,
      "outputs": [
        {
          "output_type": "stream",
          "name": "stderr",
          "text": [
            "/usr/local/lib/python3.9/dist-packages/openfermion/hamiltonians/hartree_fock.py:11: DeprecationWarning: Please use `OptimizeResult` from the `scipy.optimize` namespace, the `scipy.optimize.optimize` namespace is deprecated.\n",
            "  from scipy.optimize.optimize import OptimizeResult\n",
            "/usr/local/lib/python3.9/dist-packages/paddle/tensor/creation.py:125: DeprecationWarning: `np.object` is a deprecated alias for the builtin `object`. To silence this warning, use `object` by itself. Doing this will not modify any behavior and is safe. \n",
            "Deprecated in NumPy 1.20; for more details and guidance: https://numpy.org/devdocs/release/1.20.0-notes.html#deprecations\n",
            "  if data.dtype == np.object:\n"
          ]
        }
      ]
    },
    {
      "cell_type": "code",
      "source": [
        "outputs_mix = list()   \n",
        "num_sample = 800\n",
        "q1_amp_list = []\n",
        "q2_amp_list = []\n",
        "q3_amp_list = []\n",
        "q1_ang_list = []\n",
        "q2_ang_list = []\n",
        "q3_ang_list = []\n",
        "\n",
        "for _ in range(num_sample):\n",
        "\n",
        "  amp1 = float(decimal.Decimal(random.randrange(0, 100000))/100000)\n",
        "  amp2 = float(decimal.Decimal(random.randrange(0, 100000))/100000)\n",
        "  amp3 = float(decimal.Decimal(random.randrange(0, 100000))/100000)\n",
        "  ang1 = 2*np.pi*float(decimal.Decimal(random.randrange(0, 100000))/100000)\n",
        "  ang2 = 2*np.pi*float(decimal.Decimal(random.randrange(0, 100000))/100000)\n",
        "  ang3 = 2*np.pi*float(decimal.Decimal(random.randrange(0, 100000))/100000)\n",
        "\n",
        "\n",
        "  # generate new parametrized pulse\n",
        "  oneqpulse_left = generate_parametric_pulse1q(backend, 0, amp1, ang1)\n",
        "  oneqpulse_right = generate_parametric_pulse1q(backend, 0, amp2, ang2)\n",
        "  qubits = (0,1)\n",
        "  twoqpulse = generate_2q_pulse(backend, amp3, ang3)\n",
        "  pulse_twoone = generate_dressed_cr_pulse(backend, oneqpulse_left, oneqpulse_right, twoqpulse, qubits)\n",
        "\n",
        "  # set up pulse schedule\n",
        "  job = execute(pulse_twoone, backend, shots=2048, meas_level=2, meas_return='avg')\n",
        "  results = job.result()\n",
        "\n",
        "  # Returen the density matrix of q0\n",
        "  vec = results.get_statevector()\n",
        "  # print(len(vec))\n",
        "  rho = qi.partial_trace(vec, [2,3,4])\n",
        "\n",
        "  # record data\n",
        "  outputs_mix.append(rho.data)\n",
        "  q1_amp_list.append(amp1)\n",
        "  q2_amp_list.append(amp2)\n",
        "  q3_amp_list.append(amp3)\n",
        "  q1_ang_list.append(ang1)\n",
        "  q2_ang_list.append(ang2)\n",
        "  q3_ang_list.append(ang3)\n"
      ],
      "metadata": {
        "id": "GAdavQUjlxMp",
        "colab": {
          "base_uri": "https://localhost:8080/"
        },
        "outputId": "62eea040-1d02-4ea0-ea70-b80ecc854b3d"
      },
      "execution_count": null,
      "outputs": [
        {
          "output_type": "stream",
          "name": "stderr",
          "text": [
            "/usr/local/lib/python3.8/dist-packages/qiskit_aer/pulse/controllers/pulse_controller.py:144: UserWarning: Warning: qubit_lo_freq was not specified in PulseQobj and there is no default, so it is being automatically determined from the drift Hamiltonian.\n",
            "  warn('Warning: qubit_lo_freq was not specified in PulseQobj and there is no default, '\n"
          ]
        }
      ]
    },
    {
      "cell_type": "code",
      "source": [
        "float(int(random.randrange(0, 500)))"
      ],
      "metadata": {
        "colab": {
          "base_uri": "https://localhost:8080/"
        },
        "id": "622xQkBIUUA2",
        "outputId": "f041e99e-3534-4b6f-b5e2-5dce29ce9154"
      },
      "execution_count": null,
      "outputs": [
        {
          "output_type": "execute_result",
          "data": {
            "text/plain": [
              "322.0"
            ]
          },
          "metadata": {},
          "execution_count": 23
        }
      ]
    },
    {
      "cell_type": "code",
      "source": [
        "outputs_duration = list()   \n",
        "num_sample = 500\n",
        "q0_duration_list = []\n",
        "\n",
        "\n",
        "for _ in range(num_sample):\n",
        "\n",
        "  width1 = int(random.randrange(0, 50))\n",
        "\n",
        "  # generate new parametrized pulse\n",
        "  qubits = (0,1)\n",
        "  oneqpulse = generate_parametric_pulse1q(backend, 0, 0.1, 0)\n",
        "  twoqpulse = generate_2q_pulse(backend, 0.1, 0, width1, 0)\n",
        "  pulse_onetwo1d1c = generate_12q1d1c_pulse(backend, oneqpulse, twoqpulse, qubits)\n",
        "\n",
        "  # set up pulse schedule\n",
        "  cirq_gates = assemble(pulse_onetwo1d1c,\n",
        "                    backend=backend_sim,\n",
        "                    qubit_lo_freq=freq,\n",
        "                    meas_level=2,\n",
        "                    meas_return='avg',\n",
        "                    shots=2048)\n",
        "\n",
        "  results = backend_sim.run(cirq_gates).result()\n",
        "\n",
        "  # Returen the density matrix of q0\n",
        "  vec = results.get_statevector()\n",
        "  # print(len(vec))\n",
        "  rho = qi.partial_trace(vec, [2,3,4])\n",
        "\n",
        "  # record data\n",
        "  outputs_duration.append(rho.data)\n",
        "  q0_duration_list.append(width1)"
      ],
      "metadata": {
        "id": "Pr0Tz2_dUJW6"
      },
      "execution_count": null,
      "outputs": []
    },
    {
      "cell_type": "code",
      "source": [
        "outputs_amp = list()   \n",
        "num_sample = 5000\n",
        "q0_amp_list = []\n",
        "\n",
        "backend_defaults = backend.defaults()\n",
        "inst_sched_map = backend_defaults.instruction_schedule_map \n",
        "cr_pulse = inst_sched_map.get('cx', (0, 1)).filter(channels = [ControlChannel(0)], instruction_types=[Play]).instructions[0][1].pulse\n",
        "width = cr_pulse.parameters['width']\n",
        "\n",
        "for _ in range(num_sample):\n",
        "\n",
        "  amp = float(decimal.Decimal(random.randrange(0, 100000))/100000)\n",
        "\n",
        "  # generate new parametrized pulse\n",
        "  qubits = (0,1)\n",
        "  oneqpulse = generate_parametric_pulse1q(backend, 0, amp, 0)\n",
        "  twoqpulse = generate_2q_pulse(backend, amp, 0, width, 0)\n",
        "  pulse_onetwo1d1c = generate_12q1d1c_pulse(backend, oneqpulse, twoqpulse, qubits)\n",
        "\n",
        "  # set up pulse schedule\n",
        "  cirq_gates = assemble(pulse_onetwo1d1c,\n",
        "                    backend=backend_sim,\n",
        "                    qubit_lo_freq=freq,\n",
        "                    meas_level=2,\n",
        "                    meas_return='avg',\n",
        "                    shots=2048)\n",
        "\n",
        "  results = backend_sim.run(cirq_gates).result()\n",
        "\n",
        "  # Returen the density matrix of q0\n",
        "  vec = results.get_statevector()\n",
        "  # print(len(vec))\n",
        "  rho = qi.partial_trace(vec, [2,3,4])\n",
        "\n",
        "  # record data\n",
        "  outputs_amp.append(rho.data)\n",
        "  q0_amp_list.append(amp)\n"
      ],
      "metadata": {
        "id": "qX-Yd12njAnt"
      },
      "execution_count": null,
      "outputs": []
    },
    {
      "cell_type": "code",
      "source": [
        "outputs_angle = list()   \n",
        "num_sample = 5000\n",
        "q0_angle_list = []\n",
        "\n",
        "backend_defaults = backend.defaults()\n",
        "inst_sched_map = backend_defaults.instruction_schedule_map \n",
        "cr_pulse = inst_sched_map.get('cx', (0, 1)).filter(channels = [ControlChannel(0)], instruction_types=[Play]).instructions[0][1].pulse\n",
        "width = cr_pulse.parameters['width']\n",
        "\n",
        "for _ in range(num_sample):\n",
        "\n",
        "  angle = 2*np.pi*float(decimal.Decimal(random.randrange(0, 100000))/100000)\n",
        "\n",
        "  # generate new parametrized pulse\n",
        "  qubits = (0,1)\n",
        "  oneqpulse = generate_parametric_pulse1q(backend, 0, 0.08, angle)\n",
        "  twoqpulse = generate_2q_pulse(backend, 0.08, angle, width, 0)\n",
        "  pulse_onetwo1d1c = generate_12q1d1c_pulse(backend, oneqpulse, twoqpulse, qubits)\n",
        "\n",
        "  # set up pulse schedule\n",
        "  cirq_gates = assemble(pulse_onetwo1d1c,\n",
        "                    backend=backend_sim,\n",
        "                    qubit_lo_freq=freq,\n",
        "                    meas_level=2,\n",
        "                    meas_return='avg',\n",
        "                    shots=2048)\n",
        "\n",
        "  results = backend_sim.run(cirq_gates).result()\n",
        "\n",
        "  # Returen the density matrix of q0\n",
        "  vec = results.get_statevector()\n",
        "  # print(len(vec))\n",
        "  rho = qi.partial_trace(vec, [2,3,4])\n",
        "\n",
        "  # record data\n",
        "  outputs_angle.append(rho.data)\n",
        "  q0_angle_list.append(width1)\n"
      ],
      "metadata": {
        "id": "bZN7YHC5j-RT"
      },
      "execution_count": null,
      "outputs": []
    },
    {
      "cell_type": "code",
      "source": [
        "outputs_mix = list()   \n",
        "num_sample = 3000\n",
        "q1_amp_list = []\n",
        "q2_amp_list = []\n",
        "q1_ang_list = []\n",
        "q2_ang_list = []\n",
        "q1_duration_list = []\n",
        "\n",
        "for _ in range(num_sample):\n",
        "\n",
        "  amp = [float(decimal.Decimal(random.randrange(0, 100000))/100000) for _ in range(5)]\n",
        "  ang = [2*np.pi*float(decimal.Decimal(random.randrange(0, 100000))/100000) for _ in range(5)]\n",
        "  duration = [random.randrange(256, 1024, 16)]\n",
        "  # generate new parametrized pulse\n",
        "  firstlayer = generate_secondlayer(backend, 2, amp, ang,duration)\n",
        "  # set up pulse schedule\n",
        "  cirq_gates = assemble(firstlayer,\n",
        "                    backend=backend_sim,\n",
        "                    qubit_lo_freq=freq,\n",
        "                    meas_level=2,\n",
        "                    meas_return='avg',\n",
        "                    shots=2048)\n",
        "\n",
        "  results = backend_sim.run(cirq_gates).result()\n",
        "\n",
        "  # Returen the density matrix of q0\n",
        "  vec = results.get_statevector()\n",
        "  # print(len(vec))\n",
        "  rho = qi.partial_trace(vec, [2,3,4])\n",
        "\n",
        "  # record data\n",
        "  outputs_mix.append(rho.data)\n",
        "  q1_amp_list.append(amp)\n",
        "  q1_ang_list.append(ang)\n",
        "  q1_duration_list.append(duration)"
      ],
      "metadata": {
        "id": "GgXda_qzckDx",
        "colab": {
          "base_uri": "https://localhost:8080/"
        },
        "outputId": "a933a330-b724-482c-a863-accf5298c5fd"
      },
      "execution_count": 16,
      "outputs": [
        {
          "output_type": "stream",
          "name": "stderr",
          "text": [
            "/usr/local/lib/python3.9/dist-packages/qiskit_aer/backends/pulse_simulator.py:254: DeprecationWarning: Using a qobj for run() is deprecated as of qiskit-aer 0.9.0 and will be removed no sooner than 3 months from that release date. Transpiled circuits should now be passed directly using `backend.run(circuits, **run_options).\n",
            "  return super().run(schedules, validate=validate, **run_options)\n"
          ]
        }
      ]
    },
    {
      "cell_type": "markdown",
      "source": [
        "Save Data"
      ],
      "metadata": {
        "id": "vJOeNFFXjzaf"
      }
    },
    {
      "cell_type": "code",
      "source": [
        "import pickle\n",
        "file_open = open('3000samplingdressedduration.pickle','wb')\n",
        "pickle.dump(q1_duration_list,file_open)\n",
        "file_open.close()"
      ],
      "metadata": {
        "id": "8b9PWI1plg8h"
      },
      "execution_count": 35,
      "outputs": []
    },
    {
      "cell_type": "code",
      "source": [
        "from google.colab import drive\n",
        "drive.mount('/content/drive')"
      ],
      "metadata": {
        "id": "BxCA4Rgiv_qU"
      },
      "execution_count": null,
      "outputs": []
    },
    {
      "cell_type": "markdown",
      "source": [
        "Calculate Entanglement Capability"
      ],
      "metadata": {
        "id": "cGPtZztbj2YF"
      }
    },
    {
      "cell_type": "code",
      "source": [
        "outputs_mix = list()   \n",
        "num_sample = 500\n",
        "ent_list = []\n",
        "\n",
        "for _ in range(num_sample):\n",
        "\n",
        "  amp = [float(decimal.Decimal(random.randrange(0, 100000))/100000) for _ in range(5)]\n",
        "  ang = [2*np.pi*float(decimal.Decimal(random.randrange(0, 100000))/100000) for _ in range(5)]\n",
        "  duration = [random.randrange(256, 1024, 16)]\n",
        "  # generate new parametrized pulse\n",
        "  firstlayer = generate_secondlayer(backend, 2, amp, ang,duration)\n",
        "  # set up pulse schedule\n",
        "  cirq_gates = assemble(firstlayer,\n",
        "                    backend=backend_sim,\n",
        "                    qubit_lo_freq=freq,\n",
        "                    meas_level=2,\n",
        "                    meas_return='avg',\n",
        "                    shots=2048)\n",
        "\n",
        "  results = backend_sim.run(cirq_gates).result()\n",
        "  # Returen the density matrix of q0\n",
        "  vec = results.get_statevector()\n",
        "  # print(len(vec))\n",
        "  rho1 = qi.partial_trace(vec, [1,2,3,4])\n",
        "  rho2 = qi.partial_trace(vec, [0,2,3,4])\n",
        "  p = (qi.purity(rho1) + qi.purity(rho2))/2\n",
        "  # Calculate Q\n",
        "  Q =2*(1-p)\n",
        "  ent_list.append(Q)"
      ],
      "metadata": {
        "colab": {
          "base_uri": "https://localhost:8080/"
        },
        "id": "eic-piNC3J3L",
        "outputId": "c19b884e-3c90-4dab-b390-fb73686e5535"
      },
      "execution_count": 15,
      "outputs": [
        {
          "output_type": "stream",
          "name": "stderr",
          "text": [
            "/usr/local/lib/python3.9/dist-packages/qiskit_aer/backends/pulse_simulator.py:254: DeprecationWarning: Using a qobj for run() is deprecated as of qiskit-aer 0.9.0 and will be removed no sooner than 3 months from that release date. Transpiled circuits should now be passed directly using `backend.run(circuits, **run_options).\n",
            "  return super().run(schedules, validate=validate, **run_options)\n"
          ]
        }
      ]
    },
    {
      "cell_type": "code",
      "source": [
        "ent_list"
      ],
      "metadata": {
        "colab": {
          "base_uri": "https://localhost:8080/"
        },
        "id": "WTlkrzokr2Ja",
        "outputId": "8b12aab7-0030-42cf-f3bb-4b4cbda1ea74"
      },
      "execution_count": 39,
      "outputs": [
        {
          "output_type": "execute_result",
          "data": {
            "text/plain": [
              "[1.0,\n",
              " 1.0,\n",
              " 1.0,\n",
              " 1.0,\n",
              " 1.0,\n",
              " 1.0,\n",
              " 1.0,\n",
              " 1.0,\n",
              " 1.0,\n",
              " 1.0,\n",
              " 1.0,\n",
              " 1.0,\n",
              " 1.0,\n",
              " 1.0,\n",
              " 1.0,\n",
              " 1.0,\n",
              " 1.0,\n",
              " 1.0,\n",
              " 1.0,\n",
              " 1.0,\n",
              " 1.0,\n",
              " 1.0,\n",
              " 1.0,\n",
              " 1.0,\n",
              " 1.0,\n",
              " 1.0,\n",
              " 1.0,\n",
              " 1.0,\n",
              " 1.0,\n",
              " 1.0,\n",
              " 1.0,\n",
              " 1.0,\n",
              " 1.0,\n",
              " 1.0,\n",
              " 1.0,\n",
              " 1.0,\n",
              " 1.0,\n",
              " 1.0,\n",
              " 1.0,\n",
              " 1.0,\n",
              " 1.0,\n",
              " 1.0,\n",
              " 1.0,\n",
              " 1.0,\n",
              " 1.0,\n",
              " 1.0,\n",
              " 1.0,\n",
              " 1.0,\n",
              " 1.0,\n",
              " 1.0,\n",
              " 1.0,\n",
              " 1.0,\n",
              " 1.0,\n",
              " 1.0,\n",
              " 1.0,\n",
              " 1.0,\n",
              " 1.0,\n",
              " 1.0,\n",
              " 1.0,\n",
              " 1.0,\n",
              " 1.0,\n",
              " 1.0,\n",
              " 1.0,\n",
              " 1.0,\n",
              " 1.0,\n",
              " 1.0,\n",
              " 1.0,\n",
              " 1.0,\n",
              " 1.0,\n",
              " 1.0,\n",
              " 1.0,\n",
              " 1.0,\n",
              " 1.0,\n",
              " 1.0,\n",
              " 1.0,\n",
              " 1.0,\n",
              " 1.0,\n",
              " 1.0,\n",
              " 1.0,\n",
              " 1.0,\n",
              " 1.0,\n",
              " 1.0,\n",
              " 1.0,\n",
              " 1.0,\n",
              " 1.0,\n",
              " 1.0,\n",
              " 1.0,\n",
              " 1.0,\n",
              " 1.0,\n",
              " 1.0,\n",
              " 1.0,\n",
              " 1.0,\n",
              " 1.0,\n",
              " 1.0,\n",
              " 1.0,\n",
              " 1.0,\n",
              " 1.0,\n",
              " 1.0,\n",
              " 1.0,\n",
              " 1.0,\n",
              " 1.0,\n",
              " 1.0,\n",
              " 1.0,\n",
              " 1.0,\n",
              " 1.0,\n",
              " 1.0,\n",
              " 1.0,\n",
              " 1.0,\n",
              " 1.0,\n",
              " 1.0,\n",
              " 1.0,\n",
              " 1.0,\n",
              " 1.0,\n",
              " 1.0,\n",
              " 1.0,\n",
              " 1.0,\n",
              " 1.0,\n",
              " 1.0,\n",
              " 1.0,\n",
              " 1.0,\n",
              " 1.0,\n",
              " 1.0,\n",
              " 1.0,\n",
              " 1.0,\n",
              " 1.0,\n",
              " 1.0,\n",
              " 1.0,\n",
              " 1.0,\n",
              " 1.0,\n",
              " 1.0,\n",
              " 1.0,\n",
              " 1.0,\n",
              " 1.0,\n",
              " 1.0,\n",
              " 1.0,\n",
              " 1.0,\n",
              " 1.0,\n",
              " 1.0,\n",
              " 1.0,\n",
              " 1.0,\n",
              " 1.0,\n",
              " 1.0,\n",
              " 1.0,\n",
              " 1.0,\n",
              " 1.0,\n",
              " 1.0,\n",
              " 1.0,\n",
              " 1.0,\n",
              " 1.0,\n",
              " 1.0,\n",
              " 1.0,\n",
              " 1.0,\n",
              " 1.0,\n",
              " 1.0,\n",
              " 1.0,\n",
              " 1.0,\n",
              " 1.0,\n",
              " 1.0,\n",
              " 1.0,\n",
              " 1.0,\n",
              " 1.0,\n",
              " 1.0,\n",
              " 1.0,\n",
              " 1.0,\n",
              " 1.0,\n",
              " 1.0,\n",
              " 1.0,\n",
              " 1.0,\n",
              " 1.0,\n",
              " 1.0,\n",
              " 1.0,\n",
              " 1.0,\n",
              " 1.0,\n",
              " 1.0,\n",
              " 1.0,\n",
              " 1.0,\n",
              " 1.0,\n",
              " 1.0,\n",
              " 1.0,\n",
              " 1.0,\n",
              " 1.0,\n",
              " 1.0,\n",
              " 1.0,\n",
              " 1.0,\n",
              " 1.0,\n",
              " 1.0,\n",
              " 1.0,\n",
              " 1.0,\n",
              " 1.0,\n",
              " 1.0,\n",
              " 1.0,\n",
              " 1.0,\n",
              " 1.0,\n",
              " 1.0,\n",
              " 1.0,\n",
              " 1.0,\n",
              " 1.0,\n",
              " 1.0,\n",
              " 1.0,\n",
              " 1.0,\n",
              " 1.0,\n",
              " 1.0,\n",
              " 1.0,\n",
              " 1.0,\n",
              " 1.0,\n",
              " 1.0,\n",
              " 1.0,\n",
              " 1.0,\n",
              " 1.0,\n",
              " 1.0,\n",
              " 1.0,\n",
              " 1.0,\n",
              " 1.0,\n",
              " 1.0,\n",
              " 1.0,\n",
              " 1.0,\n",
              " 1.0,\n",
              " 1.0,\n",
              " 1.0,\n",
              " 1.0,\n",
              " 1.0,\n",
              " 1.0,\n",
              " 1.0,\n",
              " 1.0,\n",
              " 1.0,\n",
              " 1.0,\n",
              " 1.0,\n",
              " 1.0,\n",
              " 1.0,\n",
              " 1.0,\n",
              " 1.0,\n",
              " 1.0,\n",
              " 1.0,\n",
              " 1.0,\n",
              " 1.0,\n",
              " 1.0,\n",
              " 1.0,\n",
              " 1.0,\n",
              " 1.0,\n",
              " 1.0,\n",
              " 1.0,\n",
              " 1.0,\n",
              " 1.0,\n",
              " 1.0,\n",
              " 1.0,\n",
              " 1.0,\n",
              " 1.0,\n",
              " 1.0,\n",
              " 1.0,\n",
              " 1.0,\n",
              " 1.0,\n",
              " 1.0,\n",
              " 1.0,\n",
              " 1.0,\n",
              " 1.0,\n",
              " 1.0,\n",
              " 1.0,\n",
              " 1.0,\n",
              " 1.0,\n",
              " 1.0,\n",
              " 1.0,\n",
              " 1.0,\n",
              " 1.0,\n",
              " 1.0,\n",
              " 1.0,\n",
              " 1.0,\n",
              " 1.0,\n",
              " 1.0,\n",
              " 1.0,\n",
              " 1.0,\n",
              " 1.0,\n",
              " 1.0,\n",
              " 1.0,\n",
              " 1.0,\n",
              " 1.0,\n",
              " 1.0,\n",
              " 1.0,\n",
              " 1.0,\n",
              " 1.0,\n",
              " 1.0,\n",
              " 1.0,\n",
              " 1.0,\n",
              " 1.0,\n",
              " 1.0,\n",
              " 1.0,\n",
              " 1.0,\n",
              " 1.0,\n",
              " 1.0,\n",
              " 1.0,\n",
              " 1.0,\n",
              " 1.0,\n",
              " 1.0,\n",
              " 1.0,\n",
              " 1.0,\n",
              " 1.0,\n",
              " 1.0,\n",
              " 1.0,\n",
              " 1.0,\n",
              " 1.0,\n",
              " 1.0,\n",
              " 1.0,\n",
              " 1.0,\n",
              " 1.0,\n",
              " 1.0,\n",
              " 1.0,\n",
              " 1.0,\n",
              " 1.0,\n",
              " 1.0,\n",
              " 1.0,\n",
              " 1.0,\n",
              " 1.0,\n",
              " 1.0,\n",
              " 1.0,\n",
              " 1.0,\n",
              " 1.0,\n",
              " 1.0,\n",
              " 1.0,\n",
              " 1.0,\n",
              " 1.0,\n",
              " 1.0,\n",
              " 1.0,\n",
              " 1.0,\n",
              " 1.0,\n",
              " 1.0,\n",
              " 1.0,\n",
              " 1.0,\n",
              " 1.0,\n",
              " 1.0,\n",
              " 1.0,\n",
              " 1.0,\n",
              " 1.0,\n",
              " 1.0,\n",
              " 1.0,\n",
              " 1.0,\n",
              " 1.0,\n",
              " 1.0,\n",
              " 1.0,\n",
              " 1.0,\n",
              " 1.0,\n",
              " 1.0,\n",
              " 1.0,\n",
              " 1.0,\n",
              " 1.0,\n",
              " 1.0,\n",
              " 1.0,\n",
              " 1.0,\n",
              " 1.0,\n",
              " 1.0,\n",
              " 1.0,\n",
              " 1.0,\n",
              " 1.0,\n",
              " 1.0,\n",
              " 1.0,\n",
              " 1.0,\n",
              " 1.0,\n",
              " 1.0,\n",
              " 1.0,\n",
              " 1.0,\n",
              " 1.0,\n",
              " 1.0,\n",
              " 1.0,\n",
              " 1.0,\n",
              " 1.0,\n",
              " 1.0,\n",
              " 1.0,\n",
              " 1.0,\n",
              " 1.0,\n",
              " 1.0,\n",
              " 1.0,\n",
              " 1.0,\n",
              " 1.0,\n",
              " 1.0,\n",
              " 1.0,\n",
              " 1.0,\n",
              " 1.0,\n",
              " 1.0,\n",
              " 1.0,\n",
              " 1.0,\n",
              " 1.0,\n",
              " 1.0,\n",
              " 1.0,\n",
              " 1.0,\n",
              " 1.0,\n",
              " 1.0,\n",
              " 1.0,\n",
              " 1.0,\n",
              " 1.0,\n",
              " 1.0,\n",
              " 1.0,\n",
              " 1.0,\n",
              " 1.0,\n",
              " 1.0,\n",
              " 1.0,\n",
              " 1.0,\n",
              " 1.0,\n",
              " 1.0,\n",
              " 1.0,\n",
              " 1.0,\n",
              " 1.0,\n",
              " 1.0,\n",
              " 1.0,\n",
              " 1.0,\n",
              " 1.0,\n",
              " 1.0,\n",
              " 1.0,\n",
              " 1.0,\n",
              " 1.0,\n",
              " 1.0,\n",
              " 1.0,\n",
              " 1.0,\n",
              " 1.0,\n",
              " 1.0,\n",
              " 1.0,\n",
              " 1.0,\n",
              " 1.0,\n",
              " 1.0,\n",
              " 1.0,\n",
              " 1.0,\n",
              " 1.0,\n",
              " 1.0,\n",
              " 1.0,\n",
              " 1.0,\n",
              " 1.0,\n",
              " 1.0,\n",
              " 1.0,\n",
              " 1.0,\n",
              " 1.0,\n",
              " 1.0,\n",
              " 1.0,\n",
              " 1.0,\n",
              " 1.0,\n",
              " 1.0,\n",
              " 1.0,\n",
              " 1.0,\n",
              " 1.0,\n",
              " 1.0,\n",
              " 1.0,\n",
              " 1.0,\n",
              " 1.0,\n",
              " 1.0,\n",
              " 1.0,\n",
              " 1.0,\n",
              " 1.0,\n",
              " 1.0,\n",
              " 1.0,\n",
              " 1.0,\n",
              " 1.0,\n",
              " 1.0,\n",
              " 1.0,\n",
              " 1.0,\n",
              " 1.0,\n",
              " 1.0,\n",
              " 1.0,\n",
              " 1.0,\n",
              " 1.0,\n",
              " 1.0,\n",
              " 1.0,\n",
              " 1.0,\n",
              " 1.0,\n",
              " 1.0,\n",
              " 1.0,\n",
              " 1.0,\n",
              " 1.0,\n",
              " 1.0,\n",
              " 1.0,\n",
              " 1.0,\n",
              " 1.0,\n",
              " 1.0,\n",
              " 1.0,\n",
              " 1.0,\n",
              " 1.0,\n",
              " 1.0,\n",
              " 1.0,\n",
              " 1.0,\n",
              " 1.0,\n",
              " 1.0,\n",
              " 1.0,\n",
              " 1.0,\n",
              " 1.0,\n",
              " 1.0,\n",
              " 1.0,\n",
              " 1.0,\n",
              " 1.0,\n",
              " 1.0,\n",
              " 1.0,\n",
              " 1.0,\n",
              " 1.0,\n",
              " 1.0,\n",
              " 1.0,\n",
              " 1.0,\n",
              " 1.0,\n",
              " 1.0,\n",
              " 1.0,\n",
              " 1.0,\n",
              " 1.0,\n",
              " 1.0,\n",
              " 1.0,\n",
              " 1.0,\n",
              " 1.0,\n",
              " 1.0]"
            ]
          },
          "metadata": {},
          "execution_count": 39
        }
      ]
    },
    {
      "cell_type": "code",
      "source": [
        "Ent = sum(ent_list)/num_sample\n",
        "print(\"Eantangling Capability for this PQC is: {0:.6f}\".format(Ent))"
      ],
      "metadata": {
        "colab": {
          "base_uri": "https://localhost:8080/"
        },
        "id": "24QQzLcnq1Zi",
        "outputId": "f12a1ac5-2f83-4d26-e36f-86c62b21a58e"
      },
      "execution_count": 40,
      "outputs": [
        {
          "output_type": "stream",
          "name": "stdout",
          "text": [
            "Eantangling Capability for this PQC is: 1.000000\n"
          ]
        }
      ]
    },
    {
      "cell_type": "code",
      "source": [
        "outputs_rxcx = np.array(outputs_rxcx)"
      ],
      "metadata": {
        "id": "5-8myZcJmtXE",
        "colab": {
          "base_uri": "https://localhost:8080/",
          "height": 165
        },
        "outputId": "b9bfd318-6fc9-4e09-c64f-cdd9bc234c64"
      },
      "execution_count": 1,
      "outputs": [
        {
          "output_type": "error",
          "ename": "NameError",
          "evalue": "ignored",
          "traceback": [
            "\u001b[0;31m---------------------------------------------------------------------------\u001b[0m",
            "\u001b[0;31mNameError\u001b[0m                                 Traceback (most recent call last)",
            "\u001b[0;32m<ipython-input-1-f30e69f0db95>\u001b[0m in \u001b[0;36m<module>\u001b[0;34m\u001b[0m\n\u001b[0;32m----> 1\u001b[0;31m \u001b[0moutputs_rxcx\u001b[0m \u001b[0;34m=\u001b[0m \u001b[0mnp\u001b[0m\u001b[0;34m.\u001b[0m\u001b[0marray\u001b[0m\u001b[0;34m(\u001b[0m\u001b[0moutputs_rxcx\u001b[0m\u001b[0;34m)\u001b[0m\u001b[0;34m\u001b[0m\u001b[0;34m\u001b[0m\u001b[0m\n\u001b[0m",
            "\u001b[0;31mNameError\u001b[0m: name 'np' is not defined"
          ]
        }
      ]
    },
    {
      "cell_type": "code",
      "source": [
        "outputs_rxcx"
      ],
      "metadata": {
        "colab": {
          "base_uri": "https://localhost:8080/"
        },
        "id": "nOsnKmp-4M_v",
        "outputId": "f5f4fc4e-02a7-4799-ba9f-8c7655c1dce9"
      },
      "execution_count": null,
      "outputs": [
        {
          "output_type": "execute_result",
          "data": {
            "text/plain": [
              "array([<paddle_quantum.state.state.State object at 0x7f649be7d7c0>,\n",
              "       <paddle_quantum.state.state.State object at 0x7f649be7dfd0>,\n",
              "       <paddle_quantum.state.state.State object at 0x7f649be7d5e0>, ...,\n",
              "       <paddle_quantum.state.state.State object at 0x7f649bda63d0>,\n",
              "       <paddle_quantum.state.state.State object at 0x7f649bc78b80>,\n",
              "       <paddle_quantum.state.state.State object at 0x7f64a0160b50>],\n",
              "      dtype=object)"
            ]
          },
          "metadata": {},
          "execution_count": 46
        }
      ]
    },
    {
      "cell_type": "code",
      "source": [
        "import matplotlib.pyplot as plt\n",
        "plt.plot(q2_amp_list,\"o-\")"
      ],
      "metadata": {
        "id": "OPTkGWqWKgAq",
        "colab": {
          "base_uri": "https://localhost:8080/",
          "height": 282
        },
        "outputId": "c113ac33-b85f-44aa-b6b7-36424920911d"
      },
      "execution_count": null,
      "outputs": [
        {
          "output_type": "execute_result",
          "data": {
            "text/plain": [
              "[<matplotlib.lines.Line2D at 0x7f70e5897790>]"
            ]
          },
          "metadata": {},
          "execution_count": 51
        },
        {
          "output_type": "display_data",
          "data": {
            "text/plain": [
              "<Figure size 432x288 with 1 Axes>"
            ],
            "image/png": "[encoded data removed]"
          },
          "metadata": {
            "needs_background": "light"
          }
        }
      ]
    },
    {
      "cell_type": "markdown",
      "source": [
        "## 2.3 Scan angle"
      ],
      "metadata": {
        "id": "6tHiIm9glxl0"
      }
    },
    {
      "cell_type": "code",
      "source": [],
      "metadata": {
        "id": "rvTp1fyklxzu"
      },
      "execution_count": null,
      "outputs": []
    },
    {
      "cell_type": "code",
      "source": [],
      "metadata": {
        "id": "b7V57fLFlx2s"
      },
      "execution_count": null,
      "outputs": []
    },
    {
      "cell_type": "code",
      "source": [],
      "metadata": {
        "id": "cNr-rH0Flx9y"
      },
      "execution_count": null,
      "outputs": []
    },
    {
      "cell_type": "markdown",
      "source": [
        "## 2.4 Scan both parameters"
      ],
      "metadata": {
        "id": "TjdOzpayNqR0"
      }
    },
    {
      "cell_type": "code",
      "source": [],
      "metadata": {
        "id": "v7T3IcwTNvQP"
      },
      "execution_count": null,
      "outputs": []
    },
    {
      "cell_type": "code",
      "source": [],
      "metadata": {
        "id": "dofH4jtENwBG"
      },
      "execution_count": null,
      "outputs": []
    },
    {
      "cell_type": "code",
      "source": [],
      "metadata": {
        "id": "wzZ3IKPLNwVm"
      },
      "execution_count": null,
      "outputs": []
    },
    {
      "cell_type": "code",
      "source": [
        "import paddle\n",
        "import paddle_quantum as pq\n",
        "from paddle_quantum.ansatz.circuit import Circuit\n",
        "from paddle_quantum.qinfo import state_fidelity, partial_trace, purity\n",
        "import warnings"
      ],
      "metadata": {
        "id": "0sqJ28gXsayR"
      },
      "execution_count": 21,
      "outputs": []
    },
    {
      "cell_type": "markdown",
      "source": [
        "# Haar distribution and K-L divergence"
      ],
      "metadata": {
        "id": "thJpaY3_Nw5V"
      }
    },
    {
      "cell_type": "code",
      "source": [
        "num_qubit = 2     # the number of qubit\n",
        "num_sample = 3000   # the number of sample\n",
        "outputs_rxcx = list()   # save QNN outputs\n",
        "outputs_zzry = list()\n",
        "\n",
        "for _ in range(num_sample):\n",
        "    # initialize QNN ansatz\n",
        "    pq.set_backend('density_matrix')\n",
        "    cir = Circuit(num_qubit)\n",
        "    # apply Rz with a random rotating angle\n",
        "    cir.rx(0)\n",
        "    cir.cnot([0, 1])\n",
        "    # output a density operator\n",
        "    rho = cir(pq.state.zero_state(num_qubit))\n",
        "    outputs_rxcx.append(rho.numpy())\n",
        "\n",
        "outputs_x = list()   # save QNN outputs\n",
        "for _ in range(num_sample):\n",
        "    # initialize QNN ansatz\n",
        "    cir = Circuit(num_qubit)\n",
        "    # apply Rx with random rotating angles\n",
        "    cir.cz([0, 1])\n",
        "    cir.ry(0)\n",
        "    # output a density operator\n",
        "    rho = cir(pq.state.zero_state(num_qubit))\n",
        "    outputs_zzry.append(rho.numpy())"
      ],
      "metadata": {
        "id": "lThK9Pby9htM",
        "colab": {
          "base_uri": "https://localhost:8080/"
        },
        "outputId": "15ff7577-aa2d-4835-b208-561cc3ab8e41"
      },
      "execution_count": 18,
      "outputs": [
        {
          "output_type": "stream",
          "name": "stderr",
          "text": [
            "/usr/local/lib/python3.9/dist-packages/paddle/fluid/framework.py:1104: DeprecationWarning: `np.bool` is a deprecated alias for the builtin `bool`. To silence this warning, use `bool` by itself. Doing this will not modify any behavior and is safe. If you specifically wanted the numpy scalar type, use `np.bool_` here.\n",
            "Deprecated in NumPy 1.20; for more details and guidance: https://numpy.org/devdocs/release/1.20.0-notes.html#deprecations\n",
            "  elif dtype == np.bool:\n"
          ]
        }
      ]
    },
    {
      "cell_type": "code",
      "source": [
        "from paddle_quantum.state import bell_state"
      ],
      "metadata": {
        "id": "tmmYbrMJBxlm"
      },
      "execution_count": 37,
      "outputs": []
    },
    {
      "cell_type": "code",
      "source": [
        "## 2 qubit in theory Ent = (N-2)/(N+1) = 0.4\n",
        "num_qubit = 2        # the number of qubit\n",
        "num_sample = 500    # the number of sample\n",
        "ent_list = []\n",
        "\n",
        "for _ in range(num_sample):\n",
        "    # initialize QNN ansatz\n",
        "    pq.set_backend('density_matrix')\n",
        "    cir = Circuit(num_qubit)\n",
        "    # Generate GHZ state\n",
        "    cir.superposition_layer()\n",
        "    cir.cnot([0, 1])\n",
        "    # Get purity for each reduced density matrix\n",
        "    rho = bell_state(num_qubit)\n",
        "    rho1 = partial_trace(rho, 2, 2, 1)\n",
        "    rho2 = partial_trace(rho, 2, 2, 2)\n",
        "    p = (purity(rho1) + purity(rho2))/num_qubit\n",
        "    # Calculate Q\n",
        "    Q =2*(1-p)\n",
        "    ent_list.append(Q.numpy()[0])\n",
        "\n",
        "Ent = sum(ent_list)/num_sample\n",
        "print(\"Eantangling Capability for this PQC is: {0:.6f}\".format(Ent))"
      ],
      "metadata": {
        "colab": {
          "base_uri": "https://localhost:8080/"
        },
        "id": "4vrn8xsksJg5",
        "outputId": "153f8ba1-4c8b-4389-d620-07643aa48f86"
      },
      "execution_count": 38,
      "outputs": [
        {
          "output_type": "stream",
          "name": "stderr",
          "text": [
            "/usr/local/lib/python3.9/dist-packages/paddle/fluid/framework.py:1104: DeprecationWarning: `np.bool` is a deprecated alias for the builtin `bool`. To silence this warning, use `bool` by itself. Doing this will not modify any behavior and is safe. If you specifically wanted the numpy scalar type, use `np.bool_` here.\n",
            "Deprecated in NumPy 1.20; for more details and guidance: https://numpy.org/devdocs/release/1.20.0-notes.html#deprecations\n",
            "  elif dtype == np.bool:\n"
          ]
        },
        {
          "output_type": "stream",
          "name": "stdout",
          "text": [
            "Eantangling Capability for this PQC is: 1.000000\n"
          ]
        }
      ]
    },
    {
      "cell_type": "code",
      "source": [
        "num_qubit = 2     # the number of qubit\n",
        "num_sample = 3000    # the number of sample\n",
        "outputs_universal2q = list()   # save QNN outputs\n",
        "\n",
        "for _ in range(num_sample):\n",
        "    # initialize QNN ansatz\n",
        "    pq.set_backend('density_matrix')\n",
        "    cir = Circuit(num_qubit)\n",
        "    # apply Rz with a random rotating angle\n",
        "    cir.universal_two_qubits()\n",
        "    # output a density operator\n",
        "    rho = cir(pq.state.zero_state(num_qubit))\n",
        "    outputs_universal2q.append(rho.numpy())\n"
      ],
      "metadata": {
        "id": "DTQYn8_2N2EV"
      },
      "execution_count": 19,
      "outputs": []
    },
    {
      "cell_type": "code",
      "source": [
        "print(cir)"
      ],
      "metadata": {
        "colab": {
          "base_uri": "https://localhost:8080/",
          "height": 287
        },
        "id": "geqLD8Jaj2Wq",
        "outputId": "ba76a54d-dfb0-4879-cb0b-0729f3815b59"
      },
      "execution_count": null,
      "outputs": [
        {
          "output_type": "error",
          "ename": "NotImplementedError",
          "evalue": "ignored",
          "traceback": [
            "\u001b[0;31m---------------------------------------------------------------------------\u001b[0m",
            "\u001b[0;31mNotImplementedError\u001b[0m                       Traceback (most recent call last)",
            "\u001b[0;32m<ipython-input-56-f8b0f011b116>\u001b[0m in \u001b[0;36m<module>\u001b[0;34m\u001b[0m\n\u001b[0;32m----> 1\u001b[0;31m \u001b[0mprint\u001b[0m\u001b[0;34m(\u001b[0m\u001b[0mcir\u001b[0m\u001b[0;34m)\u001b[0m\u001b[0;34m\u001b[0m\u001b[0;34m\u001b[0m\u001b[0m\n\u001b[0m",
            "\u001b[0;32m/usr/local/lib/python3.8/dist-packages/paddle_quantum/ansatz/circuit.py\u001b[0m in \u001b[0;36m__str__\u001b[0;34m(self)\u001b[0m\n\u001b[1;32m   1624\u001b[0m                     \u001b[0mprint_list\u001b[0m\u001b[0;34m[\u001b[0m\u001b[0mtqubit\u001b[0m \u001b[0;34m*\u001b[0m \u001b[0;36m2\u001b[0m\u001b[0;34m]\u001b[0m\u001b[0;34m[\u001b[0m\u001b[0mind\u001b[0m \u001b[0;34m+\u001b[0m \u001b[0mlength\u001b[0m\u001b[0;34m[\u001b[0m\u001b[0msec\u001b[0m\u001b[0;34m]\u001b[0m \u001b[0;34m//\u001b[0m \u001b[0;36m2\u001b[0m\u001b[0;34m]\u001b[0m \u001b[0;34m=\u001b[0m \u001b[0;34m'X'\u001b[0m\u001b[0;34m\u001b[0m\u001b[0;34m\u001b[0m\u001b[0m\n\u001b[1;32m   1625\u001b[0m             \u001b[0;32melse\u001b[0m\u001b[0;34m:\u001b[0m\u001b[0;34m\u001b[0m\u001b[0;34m\u001b[0m\u001b[0m\n\u001b[0;32m-> 1626\u001b[0;31m                 \u001b[0;32mraise\u001b[0m \u001b[0mNotImplementedError\u001b[0m\u001b[0;34m(\u001b[0m\u001b[0;34mf\"Not support to print the gate {current_gate['gate']}.\"\u001b[0m\u001b[0;34m)\u001b[0m\u001b[0;34m\u001b[0m\u001b[0;34m\u001b[0m\u001b[0m\n\u001b[0m\u001b[1;32m   1627\u001b[0m \u001b[0;34m\u001b[0m\u001b[0m\n\u001b[1;32m   1628\u001b[0m         \u001b[0mprint_list\u001b[0m \u001b[0;34m=\u001b[0m \u001b[0mlist\u001b[0m\u001b[0;34m(\u001b[0m\u001b[0mmap\u001b[0m\u001b[0;34m(\u001b[0m\u001b[0;34m''\u001b[0m\u001b[0;34m.\u001b[0m\u001b[0mjoin\u001b[0m\u001b[0;34m,\u001b[0m \u001b[0mprint_list\u001b[0m\u001b[0;34m)\u001b[0m\u001b[0;34m)\u001b[0m\u001b[0;34m\u001b[0m\u001b[0;34m\u001b[0m\u001b[0m\n",
            "\u001b[0;31mNotImplementedError\u001b[0m: Not support to print the gate uni2."
          ]
        }
      ]
    },
    {
      "cell_type": "code",
      "source": [
        "from paddle_quantum.linalg import haar_unitary\n",
        "from paddle_quantum.qinfo import state_fidelity\n",
        "from paddle_quantum.state.common import to_state\n",
        "import matplotlib.pyplot as plt\n",
        "from matplotlib.ticker import FuncFormatter\n",
        "from scipy import integrate\n",
        "\n",
        "# plot histgram\n",
        "def plot_hist(data, num_bin, title_str):\n",
        "    def to_percent(y, position):\n",
        "        return str(np.around(y*100, decimals=2)) + '%'\n",
        "    plt.hist(data, weights=[1./len(data)]*len(data), bins=np.linspace(0, 1, num=num_bin), facecolor=\"blue\", edgecolor=\"black\", alpha=0.7)\n",
        "    plt.xlabel(\"Fidelity\")\n",
        "    plt.ylabel(\"frequency\")\n",
        "    plt.title(title_str)\n",
        "    formatter = FuncFormatter(to_percent)\n",
        "    plt.gca().yaxis.set_major_formatter(formatter)\n",
        "    plt.show()\n",
        "    \n",
        "    \n",
        "# evaluate the probability distribution of F generated by a Haar random unitary\n",
        "def p_F_haar(n, s, b=50, draw=False):\n",
        "    f_list = list()\n",
        "    # sampling\n",
        "    for i in range(s):\n",
        "        # sample a unitary\n",
        "        u1 = haar_unitary(n)\n",
        "        # the output of u1\n",
        "        phi1 = u1[:,0]\n",
        "        rho1 = to_state(np.outer(phi1, phi1.conj()))\n",
        "        # sample a unitary\n",
        "        u2 = haar_unitary(n)\n",
        "        phi2 = u2[:,0]\n",
        "        # the output of u2\n",
        "        rho2 = to_state(np.outer(phi2, phi2.conj()))\n",
        "        # compute fidality\n",
        "        f_list.append(state_fidelity(rho1.numpy(), rho2.numpy())**2)\n",
        "\n",
        "    f_list = np.array(f_list)\n",
        "\n",
        "    # plot histgram\n",
        "    if draw:\n",
        "        title_str = \"haar, %d qubit(s)\" % num_qubit\n",
        "        plot_hist(f_list, b, title_str)\n",
        "    sample_distribution, _ = np.histogram(f_list, bins=np.linspace(0, 1, num=b), density=True)\n",
        "\n",
        "    # compute a theoretical distribution\n",
        "    theory_distribution = np.zeros_like(sample_distribution)\n",
        "    for index in range(len(theory_distribution)):\n",
        "        def p_continues(f):\n",
        "            return (2 ** n - 1) * (1 - f) ** (2 ** n - 2)\n",
        "        lower = 1/b*index\n",
        "        upper = lower + 1/b\n",
        "        theory_distribution[index], _ = integrate.quad(p_continues,lower,upper)\n",
        "    return sample_distribution, theory_distribution\n",
        "\n",
        "\n",
        "num_qubit = 1\n",
        "p_haar_1qubit, theory_haar_1qubit = p_F_haar(num_qubit, num_sample, draw=True)\n",
        "num_qubit = 2\n",
        "p_haar_2qubit, theory_haar_2qubit = p_F_haar(num_qubit, num_sample, draw=True)"
      ],
      "metadata": {
        "id": "GQf4B4DuN3__",
        "colab": {
          "base_uri": "https://localhost:8080/",
          "height": 573
        },
        "outputId": "bf189ec1-93b1-4b73-a567-599cecdadc6c"
      },
      "execution_count": 20,
      "outputs": [
        {
          "output_type": "display_data",
          "data": {
            "text/plain": [
              "<Figure size 432x288 with 1 Axes>"
            ],
            "image/png": "[encoded data removed]"
          },
          "metadata": {
            "needs_background": "light"
          }
        },
        {
          "output_type": "display_data",
          "data": {
            "text/plain": [
              "<Figure size 432x288 with 1 Axes>"
            ],
            "image/png": "[encoded data removed]"
          },
          "metadata": {
            "needs_background": "light"
          }
        }
      ]
    },
    {
      "cell_type": "code",
      "source": [
        "# evaluate the probability distribution of F generated by QNNs\n",
        "def p_F_qnn(n, s, g, b=50, draw=False):\n",
        "    f_list = list()\n",
        "    rho_sample = outputs_universal2q\n",
        "    title_str = \"Universal 2q circuit\"\n",
        "    if g == 2:\n",
        "        rho_sample = outputs_mix\n",
        "        title_str = \"1d1c CR\"\n",
        "    elif g == 3:\n",
        "        rho_sample = outputs_rxcx\n",
        "        title_str = \"Rx-CX\"\n",
        "    elif g == 4:\n",
        "        rho_sample = outputs_zzry\n",
        "        title_str = \"ZZ-Ry\"\n",
        "    elif g == 5:\n",
        "        rho_sample = outputs_duration\n",
        "        title_str = \"Duration\"\n",
        "    # elif g == 6:\n",
        "    #     rho_sample = outputs_amp\n",
        "    #     title_str = \"Parametrized Pulse Amplitude\"\n",
        "    # elif g == 7:\n",
        "    #     rho_sample = outputs_angle\n",
        "    #     title_str = \"Parametrized Pulse Angle\"\n",
        "    # elif g == 8:\n",
        "    #     rho_sample = outputs_mix\n",
        "    #     title_str = \"Parametrized Pulse General\"\n",
        "\n",
        "    # use previously collected data to compute fidelity\n",
        "    for index in range(int(s / 2)):\n",
        "        rho1 = rho_sample[index]\n",
        "        rho2 = rho_sample[index+int(num_sample / 2)]\n",
        "        f_list.append(state_fidelity(rho1, rho2)**2)\n",
        "    f_list = np.array(f_list)\n",
        "    \n",
        "    # plot histgram\n",
        "    if draw:\n",
        "        plot_hist(f_list, b, title_str)\n",
        "    distribution, _ = np.histogram(f_list, bins=np.linspace(0, 1, num=b), density=True)\n",
        "    return distribution\n",
        "    \n",
        "    \n",
        "num_qubit = 1\n",
        "p_3 = p_F_qnn(num_qubit, num_sample, 3, draw=True)\n",
        "p_4 = p_F_qnn(num_qubit, num_sample, 4, draw=True)\n",
        "#p_pulse = p_F_qnn(num_qubit, num_sample, 2, draw=True)"
      ],
      "metadata": {
        "id": "lgFSPvsHN4Nv",
        "colab": {
          "base_uri": "https://localhost:8080/",
          "height": 573
        },
        "outputId": "26619fd2-c531-4be2-a4c6-f7e967c81b50"
      },
      "execution_count": 21,
      "outputs": [
        {
          "output_type": "display_data",
          "data": {
            "text/plain": [
              "<Figure size 432x288 with 1 Axes>"
            ],
            "image/png": "[encoded data removed]"
          },
          "metadata": {
            "needs_background": "light"
          }
        },
        {
          "output_type": "display_data",
          "data": {
            "text/plain": [
              "<Figure size 432x288 with 1 Axes>"
            ],
            "image/png": "[encoded data removed]"
          },
          "metadata": {
            "needs_background": "light"
          }
        }
      ]
    },
    {
      "cell_type": "code",
      "source": [
        "p_1 = p_F_qnn(num_qubit, num_sample, 1, draw=True)"
      ],
      "metadata": {
        "colab": {
          "base_uri": "https://localhost:8080/",
          "height": 295
        },
        "id": "E6E0pff1j-iV",
        "outputId": "bb64f8f2-d5e3-4ee2-cb67-9f16c286f008"
      },
      "execution_count": 22,
      "outputs": [
        {
          "output_type": "display_data",
          "data": {
            "text/plain": [
              "<Figure size 432x288 with 1 Axes>"
            ],
            "image/png": "[encoded data removed]"
          },
          "metadata": {
            "needs_background": "light"
          }
        }
      ]
    },
    {
      "cell_type": "code",
      "source": [
        "# evaluate the probability distribution of F generated by QNNs\n",
        "def p_F_qnnpulse(n, s, g, b=50, draw=False):\n",
        "    f_list = list()\n",
        "    rho_sample = outputs_universal2q\n",
        "    title_str = \"Universal 2q circuit\"\n",
        "    if g == 2:\n",
        "        rho_sample = outputs_mix\n",
        "        title_str = \"1d1c CR\"\n",
        "    elif g == 3:\n",
        "        rho_sample = outputs_rxcx\n",
        "        title_str = \"Rx-CX\"\n",
        "    elif g == 4:\n",
        "        rho_sample = outputs_zzry\n",
        "        title_str = \"ZZ-Ry\"\n",
        "    elif g == 5:\n",
        "        rho_sample = outputs_duration\n",
        "        title_str = \"Duration\"\n",
        "    # elif g == 6:\n",
        "    #     rho_sample = outputs_amp\n",
        "    #     title_str = \"Parametrized Pulse Amplitude\"\n",
        "    # elif g == 7:\n",
        "    #     rho_sample = outputs_angle\n",
        "    #     title_str = \"Parametrized Pulse Angle\"\n",
        "    # elif g == 8:\n",
        "    #     rho_sample = outputs_mix\n",
        "    #     title_str = \"Parametrized Pulse General\"\n",
        "\n",
        "    # use previously collected data to compute fidelity\n",
        "    for index in range(int(s / 2)):\n",
        "        rho1 = rho_sample[index]\n",
        "        rho2 = rho_sample[index+int(num_sample / 2)]\n",
        "        f_list.append(state_fidelity(rho1, rho2)**2)\n",
        "    f_list = np.array(f_list)\n",
        "    \n",
        "    # plot histgram\n",
        "    if draw:\n",
        "        plot_hist(f_list, b, title_str)\n",
        "    distribution, _ = np.histogram(f_list, bins=np.linspace(0, 1, num=b), density=True)\n",
        "    return distribution"
      ],
      "metadata": {
        "id": "NMwW9EzGfwSD"
      },
      "execution_count": 23,
      "outputs": []
    },
    {
      "cell_type": "code",
      "source": [
        "p_dressedpulse = p_F_qnnpulse(num_qubit, num_sample, 2, draw=True)"
      ],
      "metadata": {
        "colab": {
          "base_uri": "https://localhost:8080/",
          "height": 295
        },
        "id": "wD2yVCz3fWLX",
        "outputId": "8f00dd75-950b-4d80-954d-1e7758e35625"
      },
      "execution_count": 24,
      "outputs": [
        {
          "output_type": "display_data",
          "data": {
            "text/plain": [
              "<Figure size 432x288 with 1 Axes>"
            ],
            "image/png": "[encoded data removed]"
          },
          "metadata": {
            "needs_background": "light"
          }
        }
      ]
    },
    {
      "cell_type": "code",
      "source": [
        "p_pulse = p_F_qnn(num_qubit, num_sample, 2, draw=True)"
      ],
      "metadata": {
        "colab": {
          "base_uri": "https://localhost:8080/",
          "height": 286
        },
        "id": "tATDRqsK2W74",
        "outputId": "a7781dcd-a88d-4eac-b7a5-115dda18ece6"
      },
      "execution_count": null,
      "outputs": [
        {
          "output_type": "error",
          "ename": "AttributeError",
          "evalue": "ignored",
          "traceback": [
            "\u001b[0;31m---------------------------------------------------------------------------\u001b[0m",
            "\u001b[0;31mAttributeError\u001b[0m                            Traceback (most recent call last)",
            "\u001b[0;32m<ipython-input-25-128f51c2d6f9>\u001b[0m in \u001b[0;36m<module>\u001b[0;34m\u001b[0m\n\u001b[0;32m----> 1\u001b[0;31m \u001b[0mp_pulse\u001b[0m \u001b[0;34m=\u001b[0m \u001b[0mp_F_qnn\u001b[0m\u001b[0;34m(\u001b[0m\u001b[0mnum_qubit\u001b[0m\u001b[0;34m,\u001b[0m \u001b[0mnum_sample\u001b[0m\u001b[0;34m,\u001b[0m \u001b[0;36m2\u001b[0m\u001b[0;34m,\u001b[0m \u001b[0mdraw\u001b[0m\u001b[0;34m=\u001b[0m\u001b[0;32mTrue\u001b[0m\u001b[0;34m)\u001b[0m\u001b[0;34m\u001b[0m\u001b[0;34m\u001b[0m\u001b[0m\n\u001b[0m",
            "\u001b[0;32m<ipython-input-19-8edb85b1c915>\u001b[0m in \u001b[0;36mp_F_qnn\u001b[0;34m(n, s, g, b, draw)\u001b[0m\n\u001b[1;32m     30\u001b[0m         \u001b[0mrho1\u001b[0m \u001b[0;34m=\u001b[0m \u001b[0mrho_sample\u001b[0m\u001b[0;34m[\u001b[0m\u001b[0mindex\u001b[0m\u001b[0;34m]\u001b[0m\u001b[0;34m\u001b[0m\u001b[0;34m\u001b[0m\u001b[0m\n\u001b[1;32m     31\u001b[0m         \u001b[0mrho2\u001b[0m \u001b[0;34m=\u001b[0m \u001b[0mrho_sample\u001b[0m\u001b[0;34m[\u001b[0m\u001b[0mindex\u001b[0m\u001b[0;34m+\u001b[0m\u001b[0mint\u001b[0m\u001b[0;34m(\u001b[0m\u001b[0mnum_sample\u001b[0m \u001b[0;34m/\u001b[0m \u001b[0;36m2\u001b[0m\u001b[0;34m)\u001b[0m\u001b[0;34m]\u001b[0m\u001b[0;34m\u001b[0m\u001b[0;34m\u001b[0m\u001b[0m\n\u001b[0;32m---> 32\u001b[0;31m         \u001b[0mf_list\u001b[0m\u001b[0;34m.\u001b[0m\u001b[0mappend\u001b[0m\u001b[0;34m(\u001b[0m\u001b[0mstate_fidelity\u001b[0m\u001b[0;34m(\u001b[0m\u001b[0mrho1\u001b[0m\u001b[0;34m.\u001b[0m\u001b[0mnumpy\u001b[0m\u001b[0;34m(\u001b[0m\u001b[0;34m)\u001b[0m\u001b[0;34m,\u001b[0m \u001b[0mrho2\u001b[0m\u001b[0;34m.\u001b[0m\u001b[0mnumpy\u001b[0m\u001b[0;34m(\u001b[0m\u001b[0;34m)\u001b[0m\u001b[0;34m)\u001b[0m\u001b[0;34m**\u001b[0m\u001b[0;36m2\u001b[0m\u001b[0;34m)\u001b[0m\u001b[0;34m\u001b[0m\u001b[0;34m\u001b[0m\u001b[0m\n\u001b[0m\u001b[1;32m     33\u001b[0m     \u001b[0mf_list\u001b[0m \u001b[0;34m=\u001b[0m \u001b[0mnp\u001b[0m\u001b[0;34m.\u001b[0m\u001b[0marray\u001b[0m\u001b[0;34m(\u001b[0m\u001b[0mf_list\u001b[0m\u001b[0;34m)\u001b[0m\u001b[0;34m\u001b[0m\u001b[0;34m\u001b[0m\u001b[0m\n\u001b[1;32m     34\u001b[0m \u001b[0;34m\u001b[0m\u001b[0m\n",
            "\u001b[0;31mAttributeError\u001b[0m: 'numpy.ndarray' object has no attribute 'numpy'"
          ]
        }
      ]
    },
    {
      "cell_type": "code",
      "source": [
        "from scipy.stats import entropy\n",
        "# calcutale relative entropy (K-L divergence)\n",
        "expr_dressedpulse = entropy(p_dressedpulse, theory_haar_2qubit)\n",
        "expr_2 = entropy(p_3, theory_haar_2qubit)\n",
        "expr_1 = entropy(p_1, theory_haar_2qubit)"
      ],
      "metadata": {
        "id": "2puBAiWVJoEE"
      },
      "execution_count": 25,
      "outputs": []
    },
    {
      "cell_type": "code",
      "source": [
        "expr_1"
      ],
      "metadata": {
        "colab": {
          "base_uri": "https://localhost:8080/"
        },
        "id": "BrZPkx9EkCdh",
        "outputId": "b6c93d65-efef-4693-8391-bf9d50085004"
      },
      "execution_count": 26,
      "outputs": [
        {
          "output_type": "execute_result",
          "data": {
            "text/plain": [
              "0.012470016932398902"
            ]
          },
          "metadata": {},
          "execution_count": 26
        }
      ]
    },
    {
      "cell_type": "code",
      "source": [
        "expr_dressedpulse"
      ],
      "metadata": {
        "colab": {
          "base_uri": "https://localhost:8080/"
        },
        "id": "4uSLiLOvgCtQ",
        "outputId": "5dd66c1c-71b0-469d-de0b-283a59f14b0a"
      },
      "execution_count": 27,
      "outputs": [
        {
          "output_type": "execute_result",
          "data": {
            "text/plain": [
              "0.021042607508218514"
            ]
          },
          "metadata": {},
          "execution_count": 27
        }
      ]
    },
    {
      "cell_type": "code",
      "source": [
        "expr_2"
      ],
      "metadata": {
        "colab": {
          "base_uri": "https://localhost:8080/"
        },
        "id": "yTez9_sngEc6",
        "outputId": "0fce19b9-6ff0-4083-bd2d-449d20a1f175"
      },
      "execution_count": 28,
      "outputs": [
        {
          "output_type": "execute_result",
          "data": {
            "text/plain": [
              "1.350426489008652"
            ]
          },
          "metadata": {},
          "execution_count": 28
        }
      ]
    },
    {
      "cell_type": "code",
      "source": [
        "from scipy.stats import entropy\n",
        "# calcutale relative entropy (K-L divergence)\n",
        "expr_3 = entropy(p_3, theory_haar_2qubit)\n",
        "expr_4 = entropy(p_4, theory_haar_2qubit)\n",
        "print(expr_3)\n",
        "print(expr_4)"
      ],
      "metadata": {
        "colab": {
          "base_uri": "https://localhost:8080/"
        },
        "id": "sb2RLUQUAxXN",
        "outputId": "14cf66f7-5345-440b-a7a0-f13863c81088"
      },
      "execution_count": 29,
      "outputs": [
        {
          "output_type": "stream",
          "name": "stdout",
          "text": [
            "1.350426489008652\n",
            "1.3727710592647582\n"
          ]
        }
      ]
    },
    {
      "cell_type": "code",
      "source": [
        "expr_2"
      ],
      "metadata": {
        "id": "pwPJPmH9SMt3",
        "colab": {
          "base_uri": "https://localhost:8080/"
        },
        "outputId": "bf2ed865-0407-46a5-96c6-9a768519f3f6"
      },
      "execution_count": null,
      "outputs": [
        {
          "output_type": "execute_result",
          "data": {
            "text/plain": [
              "1.316769876585933"
            ]
          },
          "metadata": {},
          "execution_count": 59
        }
      ]
    },
    {
      "cell_type": "code",
      "source": [
        "expr_pulse"
      ],
      "metadata": {
        "colab": {
          "base_uri": "https://localhost:8080/"
        },
        "id": "f-2ycmHuS2-A",
        "outputId": "c8433683-3ef1-4c61-fd87-d12f5763f0f9"
      },
      "execution_count": null,
      "outputs": [
        {
          "output_type": "execute_result",
          "data": {
            "text/plain": [
              "0.1023958819778037"
            ]
          },
          "metadata": {},
          "execution_count": 54
        }
      ]
    },
    {
      "cell_type": "markdown",
      "source": [
        "## 3.2 Results Summary\n",
        "\n",
        "| operation | K-L divergence (lower=better)|\n",
        "|:---------:|:----------------------------:|\n",
        "|   Universal 2q Circuit (num_sample=800)  | 0.0764338315067443 |\n",
        "|   Universal 2q Circuit (num_sample=2000)  | 0.028597619462714052 |\n",
        "|   Universal 2q Circuit (num_sample=3000)  | 0.014532215787264118 |\n",
        "|   1q + CR Pulse (num_sample=500)     |  |\n",
        "|   Dressed CR Pulse (num_sample=800, runtime$\\approx$1hr)    | 0.6786137036976433 |\n"
      ],
      "metadata": {
        "id": "VrydPG0dN4er"
      }
    },
    {
      "cell_type": "code",
      "source": [],
      "metadata": {
        "id": "cIr7D4OSN7WA"
      },
      "execution_count": null,
      "outputs": []
    }
  ]
}