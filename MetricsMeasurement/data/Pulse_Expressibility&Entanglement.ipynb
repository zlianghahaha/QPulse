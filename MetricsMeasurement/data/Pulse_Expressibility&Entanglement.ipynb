{
  "cells": [
    {
      "cell_type": "code",
      "execution_count": null,
      "metadata": {
        "id": "YFh7787qA0wb"
      },
      "outputs": [],
      "source": [
        "from IPython.display import clear_output\n",
        "!pip install paddle-quantum\n",
        "!pip install qiskit\n",
        "!pip install qiskit_dynamics\n",
        "# !pip install qiskit-experiments\n",
        "clear_output()"
      ]
    },
    {
      "cell_type": "code",
      "execution_count": null,
      "metadata": {
        "id": "knX5iOLAA7vo"
      },
      "outputs": [],
      "source": [
        "import qiskit\n",
        "import numpy as np\n",
        "from qiskit.circuit.library import TwoLocal, RealAmplitudes\n",
        "from qiskit import pulse, QuantumCircuit,circuit,transpile\n",
        "from qiskit.pulse import library, Schedule,GaussianSquare, ControlChannel, Play, Drag,DriveChannel,Delay,DriveChannel, SymbolicPulse, ShiftPhase\n",
        "from qiskit.visualization.pulse_v2 import draw, IQXSimple,IQXDebugging\n",
        "from qiskit.compiler import assemble, schedule\n",
        "from qiskit import IBMQ\n",
        "import copy\n",
        "from qiskit.pulse import library\n",
        "from qiskit.visualization.pulse_v2 import draw\n",
        "from qiskit.providers.fake_provider import *\n",
        "from qiskit.pulse import transforms\n",
        "from qiskit.pulse.transforms import block_to_schedule\n",
        "from typing import List, Tuple, Iterable, Union, Dict, Callable, Set, Optional, Any\n",
        "from qiskit.pulse.instructions import Instruction\n",
        "from qiskit.compiler import assemble, schedule\n",
        "from qiskit.providers.aer.pulse import PulseSystemModel\n",
        "from qiskit.providers.aer import PulseSimulator\n",
        "from qiskit_dynamics import Solver, DynamicsBackend\n",
        "import random\n",
        "import decimal\n",
        "import numpy as np\n",
        "import paddle\n",
        "import paddle_quantum as pq\n",
        "from paddle_quantum.ansatz.circuit import Circuit\n",
        "import pickle\n",
        "import qiskit.quantum_info as qi\n",
        "from paddle_quantum.visual import plot_state_in_bloch_sphere"
      ]
    },
    {
      "cell_type": "code",
      "execution_count": null,
      "metadata": {
        "id": "bX4Fi0-sA5cA"
      },
      "outputs": [],
      "source": [
        "backend = FakeQuito()"
      ]
    },
    {
      "cell_type": "markdown",
      "metadata": {
        "id": "vJOeNFFXjzaf"
      },
      "source": [
        "Save Data"
      ]
    },
    {
      "cell_type": "markdown",
      "metadata": {
        "id": "cGPtZztbj2YF"
      },
      "source": [
        "Calculate Entanglement Capability"
      ]
    },
    {
      "cell_type": "code",
      "execution_count": null,
      "metadata": {
        "id": "Z2wVfutNXApg"
      },
      "outputs": [],
      "source": [
        "num_sample = 500"
      ]
    },
    {
      "cell_type": "code",
      "execution_count": null,
      "metadata": {
        "id": "eic-piNC3J3L"
      },
      "outputs": [],
      "source": [
        "reload_file = open('3qHEfixedampentlist.pickle','rb')\n",
        "ent_list = pickle.load(reload_file)\n",
        "reload_file.close()"
      ]
    },
    {
      "cell_type": "code",
      "execution_count": null,
      "metadata": {
        "colab": {
          "base_uri": "https://localhost:8080/"
        },
        "id": "24QQzLcnq1Zi",
        "outputId": "b5f1ba1a-9cd4-47fe-be2c-950ee6f82e98"
      },
      "outputs": [
        {
          "name": "stdout",
          "output_type": "stream",
          "text": [
            "Eantangling Capability for this PQC is: 0.331858+0.000000j\n"
          ]
        }
      ],
      "source": [
        "Ent = sum(ent_list)/num_sample\n",
        "print(\"Eantangling Capability for this PQC is: {0:.6f}\".format(Ent))"
      ]
    },
    {
      "cell_type": "code",
      "execution_count": null,
      "metadata": {
        "colab": {
          "base_uri": "https://localhost:8080/",
          "height": 265
        },
        "id": "NWr4Xd1SXTi7",
        "outputId": "a0a48d76-fb26-4bd2-95ec-e774daddd7b5"
      },
      "outputs": [
        {
          "data": {
            "image/png": "[encoded data removed]",
            "text/plain": [
              "<Figure size 432x288 with 1 Axes>"
            ]
          },
          "metadata": {
            "needs_background": "light"
          },
          "output_type": "display_data"
        }
      ],
      "source": [
        "import matplotlib.pyplot as plt\n",
        "\n",
        "data = ent_list\n",
        "\n",
        "real_data = [x.real for x in data]\n",
        "\n",
        "plt.scatter(range(len(real_data)), real_data)\n",
        "plt.show()"
      ]
    },
    {
      "cell_type": "code",
      "execution_count": null,
      "metadata": {
        "id": "0sqJ28gXsayR"
      },
      "outputs": [],
      "source": [
        "import paddle\n",
        "import paddle_quantum as pq\n",
        "from paddle_quantum.ansatz.circuit import Circuit\n",
        "from paddle_quantum.qinfo import state_fidelity, partial_trace, purity\n",
        "import warnings"
      ]
    },
    {
      "cell_type": "markdown",
      "metadata": {
        "id": "thJpaY3_Nw5V"
      },
      "source": [
        "# Haar distribution and K-L divergence"
      ]
    },
    {
      "cell_type": "code",
      "execution_count": null,
      "metadata": {
        "id": "7hYJQ024vRbx"
      },
      "outputs": [],
      "source": [
        "num_qubit = 4     # the number of qubit\n",
        "num_sample = 3000   # the number of sample"
      ]
    },
    {
      "cell_type": "code",
      "execution_count": null,
      "metadata": {
        "id": "lThK9Pby9htM"
      },
      "outputs": [],
      "source": [
        "\n",
        "reload_file = open('expr3layerDressed4qpulsefixedamp.pickle','rb')\n",
        "outputs_rxcx = pickle.load(reload_file)\n",
        "reload_file.close()"
      ]
    },
    {
      "cell_type": "code",
      "execution_count": null,
      "metadata": {
        "id": "tmmYbrMJBxlm"
      },
      "outputs": [],
      "source": [
        "from paddle_quantum.state import bell_state"
      ]
    },
    {
      "cell_type": "code",
      "execution_count": null,
      "metadata": {
        "colab": {
          "base_uri": "https://localhost:8080/"
        },
        "id": "4vrn8xsksJg5",
        "outputId": "56de8b07-2491-4cfa-bd1f-5a32c029d352"
      },
      "outputs": [
        {
          "name": "stdout",
          "output_type": "stream",
          "text": [
            "Eantangling Capability for this PQC is: 0.495172\n"
          ]
        }
      ],
      "source": [
        "## 2 qubit in theory Ent = (N-2)/(N+1) = 0.4\n",
        "num_qubit = 2        # the number of qubit\n",
        "num_sample = 500    # the number of sample\n",
        "ent_list = []\n",
        "\n",
        "for _ in range(num_sample):\n",
        "    # initialize QNN ansatz\n",
        "    pq.set_backend('density_matrix')\n",
        "    cir = Circuit(num_qubit)\n",
        "    cir.rx(0)\n",
        "    cir.rx(1)\n",
        "    cir.cnot([0, 1])\n",
        "    cir.rx(0)\n",
        "    cir.rx(1)\n",
        "    # output a density operator\n",
        "    rho = cir(pq.state.zero_state(num_qubit))\n",
        "    rho1 = partial_trace(rho, 2, 2, 1)\n",
        "    rho2 = partial_trace(rho, 2, 2, 2)\n",
        "    p = (purity(rho1) + purity(rho2))/num_qubit\n",
        "    # Calculate Q\n",
        "    Q =2*(1-p)\n",
        "    ent_list.append(Q.numpy()[0])\n",
        "\n",
        "Ent = sum(ent_list)/num_sample\n",
        "print(\"Eantangling Capability for this PQC is: {0:.6f}\".format(Ent))"
      ]
    },
    {
      "cell_type": "markdown",
      "metadata": {
        "id": "lXY5b_1hWjCs"
      },
      "source": [
        "Calculate expressivity"
      ]
    },
    {
      "cell_type": "code",
      "execution_count": null,
      "metadata": {
        "id": "DTQYn8_2N2EV"
      },
      "outputs": [],
      "source": [
        "num_qubit = 4     # the number of qubit\n",
        "num_sample = 3000    # the number of sample\n",
        "reload_file = open('expr3layerDressed4qpulsefixedamp.pickle','rb')\n",
        "outputs_universal2q = pickle.load(reload_file)\n",
        "reload_file.close()\n"
      ]
    },
    {
      "cell_type": "markdown",
      "metadata": {
        "id": "CQSYHMWRpk7O"
      },
      "source": [
        "# 新段落"
      ]
    },
    {
      "cell_type": "code",
      "execution_count": null,
      "metadata": {
        "id": "_4fcPgWIhW2-"
      },
      "outputs": [],
      "source": [
        "reload_file = open('expr3layerDressed4qpulsefixedamp.pickle','rb')\n",
        "outputs_mix = pickle.load(reload_file)\n",
        "reload_file.close()"
      ]
    },
    {
      "cell_type": "markdown",
      "metadata": {
        "id": "Hez4OEEMZ0qt"
      },
      "source": [
        "# 新段落"
      ]
    },
    {
      "cell_type": "code",
      "execution_count": null,
      "metadata": {
        "colab": {
          "base_uri": "https://localhost:8080/",
          "height": 1000
        },
        "id": "GQf4B4DuN3__",
        "outputId": "831da891-dfe2-446d-f21e-59f73d63a464"
      },
      "outputs": [
        {
          "data": {
            "image/png": "[encoded data removed]",
            "text/plain": [
              "<Figure size 432x288 with 1 Axes>"
            ]
          },
          "metadata": {
            "needs_background": "light"
          },
          "output_type": "display_data"
        },
        {
          "data": {
            "image/png": "[encoded data removed]",
            "text/plain": [
              "<Figure size 432x288 with 1 Axes>"
            ]
          },
          "metadata": {
            "needs_background": "light"
          },
          "output_type": "display_data"
        },
        {
          "data": {
            "image/png": "[encoded data removed]",
            "text/plain": [
              "<Figure size 432x288 with 1 Axes>"
            ]
          },
          "metadata": {
            "needs_background": "light"
          },
          "output_type": "display_data"
        },
        {
          "data": {
            "image/png": "[encoded data removed]",
            "text/plain": [
              "<Figure size 432x288 with 1 Axes>"
            ]
          },
          "metadata": {
            "needs_background": "light"
          },
          "output_type": "display_data"
        },
        {
          "data": {
            "image/png": "[encoded data removed]",
            "text/plain": [
              "<Figure size 432x288 with 1 Axes>"
            ]
          },
          "metadata": {
            "needs_background": "light"
          },
          "output_type": "display_data"
        },
        {
          "data": {
            "image/png": "[encoded data removed]",
            "text/plain": [
              "<Figure size 432x288 with 1 Axes>"
            ]
          },
          "metadata": {
            "needs_background": "light"
          },
          "output_type": "display_data"
        }
      ],
      "source": [
        "from paddle_quantum.linalg import haar_unitary\n",
        "from paddle_quantum.qinfo import state_fidelity\n",
        "from paddle_quantum.state.common import to_state\n",
        "import matplotlib.pyplot as plt\n",
        "from matplotlib.ticker import FuncFormatter\n",
        "from scipy import integrate\n",
        "\n",
        "# plot histgram\n",
        "def plot_hist(data, num_bin, title_str):\n",
        "    def to_percent(y, position):\n",
        "        return str(np.around(y*100, decimals=2)) + '%'\n",
        "    plt.hist(data, weights=[1./len(data)]*len(data), bins=np.linspace(0, 1, num=num_bin), facecolor=\"blue\", edgecolor=\"black\", alpha=0.7)\n",
        "    plt.xlabel(\"Fidelity\")\n",
        "    plt.ylabel(\"frequency\")\n",
        "    plt.title(title_str)\n",
        "    formatter = FuncFormatter(to_percent)\n",
        "    plt.gca().yaxis.set_major_formatter(formatter)\n",
        "    plt.show()\n",
        "    \n",
        "    \n",
        "# evaluate the probability distribution of F generated by a Haar random unitary\n",
        "def p_F_haar(n, s, b=50, draw=False):\n",
        "    f_list = list()\n",
        "    # sampling\n",
        "    for i in range(s):\n",
        "        # sample a unitary\n",
        "        u1 = haar_unitary(n)\n",
        "        # the output of u1\n",
        "        phi1 = u1[:,0]\n",
        "        rho1 = to_state(np.outer(phi1, phi1.conj()))\n",
        "        # sample a unitary\n",
        "        u2 = haar_unitary(n)\n",
        "        phi2 = u2[:,0]\n",
        "        # the output of u2\n",
        "        rho2 = to_state(np.outer(phi2, phi2.conj()))\n",
        "        # compute fidality\n",
        "        f_list.append(state_fidelity(rho1.numpy(), rho2.numpy())**2)\n",
        "\n",
        "    f_list = np.array(f_list)\n",
        "\n",
        "    # plot histgram\n",
        "    if draw:\n",
        "        title_str = \"haar, %d qubit(s)\" % num_qubit\n",
        "        plot_hist(f_list, b, title_str)\n",
        "    sample_distribution, _ = np.histogram(f_list, bins=np.linspace(0, 1, num=b), density=True)\n",
        "\n",
        "    # compute a theoretical distribution\n",
        "    theory_distribution = np.zeros_like(sample_distribution)\n",
        "    for index in range(len(theory_distribution)):\n",
        "        def p_continues(f):\n",
        "            return (2 ** n - 1) * (1 - f) ** (2 ** n - 2)\n",
        "        lower = 1/b*index\n",
        "        upper = lower + 1/b\n",
        "        theory_distribution[index], _ = integrate.quad(p_continues,lower,upper)\n",
        "    return sample_distribution, theory_distribution\n",
        "\n",
        "\n",
        "num_qubit = 1\n",
        "p_haar_1qubit, theory_haar_1qubit = p_F_haar(num_qubit, num_sample, draw=True)\n",
        "num_qubit = 2\n",
        "p_haar_2qubit, theory_haar_2qubit = p_F_haar(num_qubit, num_sample, draw=True)\n",
        "num_qubit = 3\n",
        "p_haar_3qubit, theory_haar_3qubit = p_F_haar(num_qubit, num_sample, draw=True)\n",
        "num_qubit = 4\n",
        "p_haar_4qubit, theory_haar_4qubit = p_F_haar(num_qubit, num_sample, draw=True)\n",
        "num_qubit = 5\n",
        "p_haar_5qubit, theory_haar_5qubit = p_F_haar(num_qubit, num_sample, draw=True)\n",
        "num_qubit = 6\n",
        "p_haar_6qubit, theory_haar_6qubit = p_F_haar(num_qubit, num_sample, draw=True)"
      ]
    },
    {
      "cell_type": "code",
      "execution_count": null,
      "metadata": {
        "colab": {
          "base_uri": "https://localhost:8080/",
          "height": 573
        },
        "id": "lgFSPvsHN4Nv",
        "outputId": "e91cbbe6-df28-4b9b-a329-1ff69fbb205b"
      },
      "outputs": [
        {
          "data": {
            "image/png": "[encoded data removed]",
            "text/plain": [
              "<Figure size 432x288 with 1 Axes>"
            ]
          },
          "metadata": {
            "needs_background": "light"
          },
          "output_type": "display_data"
        },
        {
          "data": {
            "image/png": "[encoded data removed]",
            "text/plain": [
              "<Figure size 432x288 with 1 Axes>"
            ]
          },
          "metadata": {
            "needs_background": "light"
          },
          "output_type": "display_data"
        }
      ],
      "source": [
        "# evaluate the probability distribution of F generated by QNNs\n",
        "def p_F_qnn(n, s, g, b=50, draw=False):\n",
        "    f_list = list()\n",
        "    rho_sample = outputs_universal2q\n",
        "    title_str = \"Universal 2q circuit\"\n",
        "    if g == 2:\n",
        "        rho_sample = outputs_mix\n",
        "        title_str = \"1d1c CR\"\n",
        "    elif g == 3:\n",
        "        rho_sample = outputs_rxcx\n",
        "        title_str = \"Rx-CX\"\n",
        "    elif g == 5:\n",
        "        rho_sample = outputs_duration\n",
        "        title_str = \"Duration\"\n",
        "    # elif g == 6:\n",
        "    #     rho_sample = outputs_amp\n",
        "    #     title_str = \"Parametrized Pulse Amplitude\"\n",
        "    # elif g == 7:\n",
        "    #     rho_sample = outputs_angle\n",
        "    #     title_str = \"Parametrized Pulse Angle\"\n",
        "    # elif g == 8:\n",
        "    #     rho_sample = outputs_mix\n",
        "    #     title_str = \"Parametrized Pulse General\"\n",
        "\n",
        "    # use previously collected data to compute fidelity\n",
        "    for index in range(int(s / 2)):\n",
        "        rho1 = rho_sample[index]\n",
        "        rho2 = rho_sample[index+int(num_sample / 2)]\n",
        "        f_list.append(state_fidelity(rho1, rho2)**2)\n",
        "    f_list = np.array(f_list)\n",
        "    \n",
        "    # plot histgram\n",
        "    if draw:\n",
        "        plot_hist(f_list, b, title_str)\n",
        "    distribution, _ = np.histogram(f_list, bins=np.linspace(0, 1, num=b), density=True)\n",
        "    return distribution\n",
        "    \n",
        "    \n",
        "num_qubit = 1\n",
        "p_3 = p_F_qnn(num_qubit, num_sample, 3, draw=True)\n",
        "p_4 = p_F_qnn(num_qubit, num_sample, 4, draw=True)\n",
        "#p_pulse = p_F_qnn(num_qubit, num_sample, 2, draw=True)"
      ]
    },
    {
      "cell_type": "code",
      "execution_count": null,
      "metadata": {
        "colab": {
          "base_uri": "https://localhost:8080/",
          "height": 295
        },
        "id": "E6E0pff1j-iV",
        "outputId": "4a00537a-98f1-4f00-c34a-660eb82a48b8"
      },
      "outputs": [
        {
          "data": {
            "image/png": "[encoded data removed]",
            "text/plain": [
              "<Figure size 432x288 with 1 Axes>"
            ]
          },
          "metadata": {
            "needs_background": "light"
          },
          "output_type": "display_data"
        }
      ],
      "source": [
        "p_1 = p_F_qnn(num_qubit, num_sample, 1, draw=True)"
      ]
    },
    {
      "cell_type": "code",
      "execution_count": null,
      "metadata": {
        "id": "NMwW9EzGfwSD"
      },
      "outputs": [],
      "source": [
        "# evaluate the probability distribution of F generated by QNNs\n",
        "def p_F_qnnpulse(n, s, g, b=50, draw=False):\n",
        "    f_list = list()\n",
        "    rho_sample = outputs_universal2q\n",
        "    title_str = \"Universal 2q circuit\"\n",
        "    if g == 2:\n",
        "        rho_sample = outputs_mix\n",
        "        title_str = \"1d1c CR\"\n",
        "    elif g == 3:\n",
        "        rho_sample = outputs_rxcx\n",
        "        title_str = \"Rx-CX\"\n",
        "    elif g == 4:\n",
        "        rho_sample = outputs_zzry\n",
        "        title_str = \"ZZ-Ry\"\n",
        "    elif g == 5:\n",
        "        rho_sample = outputs_duration\n",
        "        title_str = \"Duration\"\n",
        "    # elif g == 6:\n",
        "    #     rho_sample = outputs_amp\n",
        "    #     title_str = \"Parametrized Pulse Amplitude\"\n",
        "    # elif g == 7:\n",
        "    #     rho_sample = outputs_angle\n",
        "    #     title_str = \"Parametrized Pulse Angle\"\n",
        "    # elif g == 8:\n",
        "    #     rho_sample = outputs_mix\n",
        "    #     title_str = \"Parametrized Pulse General\"\n",
        "\n",
        "    # use previously collected data to compute fidelity\n",
        "    for index in range(int(s / 2)):\n",
        "        rho1 = rho_sample[index]\n",
        "        rho2 = rho_sample[index+int(num_sample / 2)]\n",
        "        f_list.append(state_fidelity(rho1, rho2)**2)\n",
        "    f_list = np.array(f_list)\n",
        "    \n",
        "    # plot histgram\n",
        "    if draw:\n",
        "        plot_hist(f_list, b, title_str)\n",
        "    distribution, _ = np.histogram(f_list, bins=np.linspace(0, 1, num=b), density=True)\n",
        "    return distribution"
      ]
    },
    {
      "cell_type": "code",
      "execution_count": null,
      "metadata": {
        "colab": {
          "base_uri": "https://localhost:8080/",
          "height": 295
        },
        "id": "wD2yVCz3fWLX",
        "outputId": "9a4e2b52-a5a9-4d7f-cb6c-666d7b8995d4"
      },
      "outputs": [
        {
          "data": {
            "image/png": "[encoded data removed]",
            "text/plain": [
              "<Figure size 432x288 with 1 Axes>"
            ]
          },
          "metadata": {
            "needs_background": "light"
          },
          "output_type": "display_data"
        }
      ],
      "source": [
        "p_dressedpulse = p_F_qnnpulse(num_qubit, num_sample, 2, draw=True)"
      ]
    },
    {
      "cell_type": "code",
      "execution_count": null,
      "metadata": {
        "id": "2puBAiWVJoEE"
      },
      "outputs": [],
      "source": [
        "from scipy.stats import entropy\n",
        "# calcutale relative entropy (K-L divergence)\n",
        "expr_dressedpulse = entropy(p_dressedpulse, theory_haar_4qubit)\n",
        "expr_2 = entropy(p_3, theory_haar_2qubit)\n",
        "expr_1 = entropy(p_1, theory_haar_2qubit)"
      ]
    },
    {
      "cell_type": "code",
      "execution_count": null,
      "metadata": {
        "colab": {
          "base_uri": "https://localhost:8080/"
        },
        "id": "4uSLiLOvgCtQ",
        "outputId": "44e53201-d5fd-4ce8-a810-ca775612626c"
      },
      "outputs": [
        {
          "data": {
            "text/plain": [
              "0.01856833610691086"
            ]
          },
          "execution_count": 214,
          "metadata": {},
          "output_type": "execute_result"
        }
      ],
      "source": [
        "expr_dressedpulse"
      ]
    },
    {
      "cell_type": "code",
      "execution_count": null,
      "metadata": {
        "colab": {
          "base_uri": "https://localhost:8080/"
        },
        "id": "JgLg8ESmYLWd",
        "outputId": "aac7695e-aa7d-4a9a-e6f2-801e717cfae5"
      },
      "outputs": [
        {
          "data": {
            "text/plain": [
              "0.7954988651735888"
            ]
          },
          "execution_count": 95,
          "metadata": {},
          "output_type": "execute_result"
        }
      ],
      "source": [
        "expr_2"
      ]
    },
    {
      "cell_type": "code",
      "execution_count": null,
      "metadata": {
        "id": "cIr7D4OSN7WA"
      },
      "outputs": [],
      "source": []
    }
  ],
  "metadata": {
    "accelerator": "GPU",
    "colab": {
      "machine_shape": "hm",
      "provenance": []
    },
    "gpuClass": "standard",
    "kernelspec": {
      "display_name": "Python 3",
      "name": "python3"
    },
    "language_info": {
      "codemirror_mode": {
        "name": "ipython",
        "version": 3
      },
      "file_extension": ".py",
      "mimetype": "text/x-python",
      "name": "python",
      "nbconvert_exporter": "python",
      "pygments_lexer": "ipython3",
      "version": "3.10.8"
    }
  },
  "nbformat": 4,
  "nbformat_minor": 0
}
