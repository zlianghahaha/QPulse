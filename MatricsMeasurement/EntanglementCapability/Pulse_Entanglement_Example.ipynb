{
  "cells": [
    {
      "cell_type": "code",
      "execution_count": 1,
      "metadata": {
        "id": "YFh7787qA0wb"
      },
      "outputs": [],
      "source": [
        "from IPython.display import clear_output\n",
        "!pip install paddle-quantum\n",
        "!pip install qiskit\n",
        "!pip install qiskit_dynamics\n",
        "# !pip install qiskit-experiments\n",
        "clear_output()"
      ]
    },
    {
      "cell_type": "code",
      "execution_count": 2,
      "metadata": {
        "id": "knX5iOLAA7vo"
      },
      "outputs": [],
      "source": [
        "import qiskit\n",
        "import numpy as np\n",
        "from qiskit.circuit import Gate\n",
        "from qiskit.pulse import library, Schedule,GaussianSquare, ControlChannel, Play, Drag,DriveChannel,Delay,DriveChannel, SymbolicPulse, ShiftPhase\n",
        "from qiskit.pulse import transforms\n",
        "from qiskit.pulse.transforms import block_to_schedule,remove_directives\n",
        "from qiskit.pulse import filters\n",
        "from qiskit.pulse.filters import composite_filter, filter_instructions\n",
        "from typing import List, Tuple, Iterable, Union, Dict, Callable, Set, Optional, Any\n",
        "from qiskit.visualization.pulse_v2 import draw, IQXSimple,IQXDebugging\n",
        "from qiskit import IBMQ\n",
        "import copy\n",
        "from qiskit.circuit.parameterexpression import ParameterValueType\n",
        "from qiskit.circuit import QuantumCircuit, Parameter\n",
        "from qiskit import pulse, QuantumCircuit, IBMQ, visualization,execute, Aer\n",
        "from qiskit.pulse import library\n",
        "from qiskit.visualization.pulse_v2.stylesheet import IQXDebugging\n",
        "from qiskit.visualization.pulse_v2 import draw\n",
        "from qiskit.providers.fake_provider import *\n",
        "from qiskit.pulse import transforms\n",
        "from qiskit.pulse.transforms import block_to_schedule\n",
        "from qiskit.pulse import filters\n",
        "from qiskit.pulse.filters import composite_filter, filter_instructions\n",
        "from typing import List, Tuple, Iterable, Union, Dict, Callable, Set, Optional, Any\n",
        "from qiskit.pulse.instructions import Instruction\n",
        "from qiskit.compiler import assemble, schedule\n",
        "from qiskit.providers.aer.pulse import PulseSystemModel\n",
        "from qiskit.providers.aer import PulseSimulator\n",
        "from qiskit_dynamics import Solver, DynamicsBackend\n",
        "from qiskit_dynamics.backend import default_experiment_result_function\n",
        "from qiskit_dynamics.array import Array\n",
        "import jax"
      ]
    },
    {
      "cell_type": "code",
      "source": [
        "import pickle"
      ],
      "metadata": {
        "id": "Xs7JqCaGxa6G"
      },
      "execution_count": 4,
      "outputs": []
    },
    {
      "cell_type": "code",
      "execution_count": 5,
      "metadata": {
        "id": "5c_Pmy_WX-sO"
      },
      "outputs": [],
      "source": [
        "import qiskit.quantum_info as qi"
      ]
    },
    {
      "cell_type": "code",
      "execution_count": 6,
      "metadata": {
        "id": "L2Q1vdJ5lxKp",
        "colab": {
          "base_uri": "https://localhost:8080/"
        },
        "outputId": "3bf67ede-63a2-4694-8ab7-09df574eccd7"
      },
      "outputs": [
        {
          "output_type": "stream",
          "name": "stderr",
          "text": [
            "/usr/local/lib/python3.9/dist-packages/openfermion/hamiltonians/hartree_fock.py:11: DeprecationWarning: Please use `OptimizeResult` from the `scipy.optimize` namespace, the `scipy.optimize.optimize` namespace is deprecated.\n",
            "  from scipy.optimize.optimize import OptimizeResult\n",
            "/usr/local/lib/python3.9/dist-packages/paddle/tensor/creation.py:125: DeprecationWarning: `np.object` is a deprecated alias for the builtin `object`. To silence this warning, use `object` by itself. Doing this will not modify any behavior and is safe. \n",
            "Deprecated in NumPy 1.20; for more details and guidance: https://numpy.org/devdocs/release/1.20.0-notes.html#deprecations\n",
            "  if data.dtype == np.object:\n"
          ]
        }
      ],
      "source": [
        "import random\n",
        "import decimal\n",
        "import numpy as np\n",
        "import paddle\n",
        "import paddle_quantum as pq\n",
        "from paddle_quantum.ansatz.circuit import Circuit\n",
        "from paddle_quantum.visual import plot_state_in_bloch_sphere"
      ]
    },
    {
      "cell_type": "code",
      "source": [
        "backend = FakeQuito()\n",
        "\n",
        "backend.configuration().hamiltonian['qub']\n",
        "\n",
        "backend.configuration().hamiltonian['qub'] = {'0': 2,'1': 2,'2': 2,'3': 2,'4': 2 }\n",
        "backend_model = PulseSystemModel.from_backend(backend)\n",
        "backend_sim = PulseSimulator(system_model=backend_model)\n",
        "backend_config = backend.configuration().to_dict()\n",
        "num_qubits = int(backend_config['n_qubits'])\n",
        "f = backend.properties().frequency\n",
        "freq = [f(i) for i in range(num_qubits)]\n",
        "jax.config.update(\"jax_enable_x64\", True)\n",
        "jax.config.update(\"jax_platform_name\", \"cpu\")\n",
        "\n",
        "Array.set_default_backend(\"jax\")\n"
      ],
      "metadata": {
        "colab": {
          "base_uri": "https://localhost:8080/"
        },
        "id": "O2HK3zcOijQj",
        "outputId": "e51422f8-64c4-4fd4-fea6-769fb8240574"
      },
      "execution_count": 7,
      "outputs": [
        {
          "output_type": "stream",
          "name": "stderr",
          "text": [
            "<ipython-input-7-0d6b50dddf13>:7: DeprecationWarning: The Pulse simulator backend in Qiskit Aer is deprecated and will be removed in a future release. Instead the qiskit-dynamics library should be used instead for simulating at the pulse level.\n",
            "  backend_sim = PulseSimulator(system_model=backend_model)\n"
          ]
        }
      ]
    },
    {
      "cell_type": "markdown",
      "source": [
        "Statevector Calculation"
      ],
      "metadata": {
        "id": "2kmPE9FojoEl"
      }
    },
    {
      "cell_type": "code",
      "source": [
        "def new_experiment_result_function(\n",
        "    experiment_name,\n",
        "    solver_result,\n",
        "    measurement_subsystems,\n",
        "    memory_slot_indices,\n",
        "    num_memory_slots,\n",
        "    backend,\n",
        "    seed,\n",
        "    metadata,\n",
        "):\n",
        "    result = default_experiment_result_function(\n",
        "        experiment_name,\n",
        "        solver_result,\n",
        "        measurement_subsystems,\n",
        "        memory_slot_indices,\n",
        "        num_memory_slots,\n",
        "        backend,\n",
        "        seed,\n",
        "        metadata,\n",
        "    )\n",
        "    \n",
        "    result.statevector = solver_result.y[-1]\n",
        "    return result"
      ],
      "metadata": {
        "id": "QZDpSlx_jnxI"
      },
      "execution_count": 10,
      "outputs": []
    },
    {
      "cell_type": "markdown",
      "metadata": {
        "id": "vJOeNFFXjzaf"
      },
      "source": [
        "Prepare Pulse"
      ]
    },
    {
      "cell_type": "code",
      "source": [
        "def drag_pulse(backend, amp, angle):\n",
        "  backend_defaults = backend.defaults()\n",
        "  inst_sched_map = backend_defaults.instruction_schedule_map \n",
        "  x_pulse = inst_sched_map.get('x', (0)).filter(channels = [DriveChannel(0)], instruction_types=[Play]).instructions[0][1].pulse\n",
        "  duration_parameter = x_pulse.parameters['duration']\n",
        "  sigma_parameter = x_pulse.parameters['sigma']\n",
        "  beta_parameter = x_pulse.parameters['beta']\n",
        "  pulse1 = Drag(duration=duration_parameter, sigma=sigma_parameter, beta=beta_parameter, amp=amp, angle=angle)\n",
        "  return pulse1\n",
        "\n",
        "def cr_pulse(backend, amp, angle, duration):\n",
        "  backend_defaults = backend.defaults()\n",
        "  inst_sched_map = backend_defaults.instruction_schedule_map \n",
        "  cr_pulse = inst_sched_map.get('cx', (0, 1)).filter(channels = [ControlChannel(0)], instruction_types=[Play]).instructions[0][1].pulse\n",
        "  cr_params = {}\n",
        "  cr_params['duration'] = cr_pulse.parameters['duration']\n",
        "  cr_params['amp'] = cr_pulse.parameters['amp']\n",
        "  cr_params['angle'] = cr_pulse.parameters['angle']\n",
        "  cr_params['sigma'] = cr_pulse.parameters['sigma']\n",
        "  cr_params['width'] = cr_pulse.parameters['width']\n",
        "  cr_risefall = (cr_params['duration'] - cr_params['width']) / (2 * cr_params['sigma'])\n",
        "  angle_parameter = angle\n",
        "  duration_parameter =  duration\n",
        "  sigma_parameter = cr_pulse.parameters['sigma']\n",
        "  width_parameter = int(duration_parameter - 2 * cr_risefall * cr_params['sigma'])\n",
        "  #declare pulse parameters and build GaussianSquare pulse\n",
        "  pulse1 = GaussianSquare(duration = duration_parameter, amp = amp, angle = angle_parameter, sigma = sigma_parameter, width=width_parameter)\n",
        "  return pulse1\n",
        "\n",
        "def block_pulse2q(backend, amp, angle, width):\n",
        "    with pulse.build(backend) as my_program1:\n",
        "      # layer 1\n",
        "      sched_list = []\n",
        "      with pulse.build(backend) as sched1:\n",
        "          for i in range(2):\n",
        "              pulse.play(drag_pulse(backend, amp[i], angle[i]), DriveChannel(i))\n",
        "      sched_list.append(sched1)\n",
        "\n",
        "      with pulse.build(backend) as sched2: #这里control channel可以根据目标改一下\n",
        "          uchan = pulse.control_channels(0, 1)[0]\n",
        "          pulse.play(cr_pulse(backend, amp[2], angle[2], width[0]), uchan)\n",
        "      sched_list.append(sched2)\n",
        "      \n",
        "      with pulse.build(backend) as sched3:\n",
        "          qubits = (0,1)\n",
        "          for i in qubits:\n",
        "              pulse.play(drag_pulse(backend, amp[2+i], angle[2+i]), DriveChannel(i))\n",
        "      sched_list.append(sched3)\n",
        "\n",
        "      with pulse.build(backend) as sched4:\n",
        "          uchan = pulse.control_channels(0, 1)[0]\n",
        "          pulse.play(cr_pulse(backend, amp[5], angle[5], width[1]), uchan)\n",
        "      sched_list.append(sched4)\n",
        "\n",
        "      with pulse.build(backend) as sched5:\n",
        "          qubits = (0,1)\n",
        "          for i in qubits:\n",
        "              pulse.play(drag_pulse(backend, amp[5+i], angle[5+i]), DriveChannel(i))\n",
        "      sched_list.append(sched5)\n",
        "\n",
        "      with pulse.build(backend) as my_program:\n",
        "        with pulse.transpiler_settings(initial_layout= [0,1]):\n",
        "          with pulse.align_sequential():\n",
        "              for sched in sched_list:\n",
        "                  pulse.call(sched)\n",
        "              pulse.measure(qubits)\n",
        "\n",
        "    return my_program"
      ],
      "metadata": {
        "id": "Jh-IaRnoiv75"
      },
      "execution_count": 9,
      "outputs": []
    },
    {
      "cell_type": "markdown",
      "metadata": {
        "id": "cGPtZztbj2YF"
      },
      "source": [
        "Calculate Entanglement Capability"
      ]
    },
    {
      "cell_type": "code",
      "source": [
        "import paddle\n",
        "import paddle_quantum as pq\n",
        "from paddle_quantum.ansatz.circuit import Circuit\n",
        "from paddle_quantum.qinfo import state_fidelity, partial_trace, purity\n",
        "import warnings\n",
        "import qiskit.quantum_info as qi\n",
        "import random\n",
        "import decimal\n",
        "import numpy as np\n",
        "import paddle\n",
        "import paddle_quantum as pq\n",
        "from paddle_quantum.ansatz.circuit import Circuit\n",
        "from paddle_quantum.visual import plot_state_in_bloch_sphere\n",
        "from paddle_quantum.linalg import haar_unitary\n",
        "from paddle_quantum.qinfo import state_fidelity\n",
        "from paddle_quantum.state.common import to_state\n",
        "import matplotlib.pyplot as plt\n",
        "from matplotlib.ticker import FuncFormatter\n",
        "from scipy import integrate"
      ],
      "metadata": {
        "id": "OTsAB6q7jufz"
      },
      "execution_count": 11,
      "outputs": []
    },
    {
      "cell_type": "code",
      "source": [
        "backend_run = DynamicsBackend.from_backend(backend, evaluation_mode=\"sparse\")\n",
        "solver_options = {\"method\": \"jax_odeint\", \"atol\": 1e-6, \"rtol\": 1e-8}\n",
        "\n",
        "backend_run.set_options(solver_options=solver_options,experiment_result_function=new_experiment_result_function)\n",
        "backend_run.configuration = lambda: backend.configuration()\n",
        "outputs_mix = list()   \n",
        "num_sample = 500\n",
        "ent_list = []\n",
        "amp_list = []\n",
        "ang_list = []\n",
        "duration_list = []\n",
        "for _ in range(num_sample):\n",
        "\n",
        "  amp = [float(decimal.Decimal(random.randrange(0, 1000))/1000) for _ in range(7)]\n",
        "  ang = [2*np.pi*float(decimal.Decimal(random.randrange(0, 1000))/1000) for _ in range(7)]\n",
        "  duration = [random.randrange(256, 1024, 16) for _ in range(2)]\n",
        "  # generate new parametrized pulse\n",
        "  firstlayer = block_pulse2q(backend,amp, ang,duration)\n",
        "  # set up pulse schedule\n",
        "#    cirq_gates = assemble(firstlayer,\n",
        "#                      backend=backend_sim,\n",
        "#                      qubit_lo_freq=freq,\n",
        "#                      meas_level=2,\n",
        "#                      meas_return='avg',\n",
        "#                      shots=2048)\n",
        "\n",
        "  results = backend_run.run(firstlayer, meas_level = 2).result()\n",
        "  # Returen the density matrix of q0\n",
        "  vec = results.results[0].statevector\n",
        "  # print(len(vec))\n",
        "  rho1 = qi.partial_trace(vec, [1,2,3,4])\n",
        "  rho2 = qi.partial_trace(vec, [0,2,3,4])\n",
        "\n",
        "  #p = (rho1.purity() + rho2.purity() + rho3.purity() + rho4.purity())/4\n",
        "#    p = (qi.purity(rho1) + qi.purity(rho2))/2\n",
        "  p = (rho1.purity() + rho2.purity())/2\n",
        "  # Calculate Q\n",
        "  Q =2*(1-p)\n",
        "  ent_list.append(Q)\n",
        "  ang_list.append(ang)\n",
        "  amp_list.append(amp)\n",
        "  duration_list.append(duration)\n",
        "\n",
        "Ent = sum(ent_list)/num_sample\n",
        "print(\"Eantangling Capability for this PQC is: {0:.6f}\".format(Ent))"
      ],
      "metadata": {
        "colab": {
          "base_uri": "https://localhost:8080/"
        },
        "id": "hZGGyE7kj4BI",
        "outputId": "dfb31415-218f-4b7b-8a8d-659f493585bd"
      },
      "execution_count": 13,
      "outputs": [
        {
          "output_type": "stream",
          "name": "stdout",
          "text": [
            "Eantangling Capability for this PQC is: 0.200160+0.000000j\n"
          ]
        }
      ]
    },
    {
      "cell_type": "code",
      "source": [
        "import matplotlib.pyplot as plt\n",
        "\n",
        "data = ent_list\n",
        "\n",
        "real_data = [x.real for x in data]\n",
        "\n",
        "plt.scatter(range(len(real_data)), real_data)\n",
        "plt.show()"
      ],
      "metadata": {
        "colab": {
          "base_uri": "https://localhost:8080/",
          "height": 430
        },
        "id": "NWr4Xd1SXTi7",
        "outputId": "f2a25c82-4a58-40f4-eb51-9b7b7ac89d5c"
      },
      "execution_count": 14,
      "outputs": [
        {
          "output_type": "display_data",
          "data": {
            "text/plain": [
              "<Figure size 640x480 with 1 Axes>"
            ],
            "image/png": "[encoded data removed]"
          },
          "metadata": {}
        }
      ]
    }
  ],
  "metadata": {
    "accelerator": "GPU",
    "colab": {
      "provenance": [],
      "machine_shape": "hm"
    },
    "gpuClass": "standard",
    "kernelspec": {
      "display_name": "Python 3",
      "name": "python3"
    },
    "language_info": {
      "codemirror_mode": {
        "name": "ipython",
        "version": 3
      },
      "file_extension": ".py",
      "mimetype": "text/x-python",
      "name": "python",
      "nbconvert_exporter": "python",
      "pygments_lexer": "ipython3",
      "version": "3.10.8"
    }
  },
  "nbformat": 4,
  "nbformat_minor": 0
}